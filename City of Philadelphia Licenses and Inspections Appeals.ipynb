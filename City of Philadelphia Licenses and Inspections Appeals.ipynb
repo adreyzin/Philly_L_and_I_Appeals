{
 "cells": [
  {
   "cell_type": "markdown",
   "metadata": {},
   "source": [
    "# City of Philadelphia Licenses and Inspections Appeals\n",
    "\n",
    "The dataset contains decisions of Philadelphia Licenses and Inspections Appeal Board. The dataset contains 28869 records and 37 columns.\n",
    "\n",
    "Several columns such as Appeal Grounds, Related Permits and Proviso are in Natural Language format. \n",
    "\n",
    "Source: https://www.opendataphilly.org/dataset/license-and-inspections-appeals/resource/b721ad52-9e27-46d2-b494-6bf0ef1c7603?inner_span=True"
   ]
  },
  {
   "cell_type": "markdown",
   "metadata": {},
   "source": [
    "### I would like to research the relationship of the board decision stored in the column 'decision' and other values in the dataset such as Appeal Grounds(NL), Related Permits(NL), Proviso(NL) and well as property address(geospatial).\n"
   ]
  },
  {
   "cell_type": "markdown",
   "metadata": {},
   "source": [
    "### Loading necessary packages"
   ]
  },
  {
   "cell_type": "code",
   "execution_count": 79,
   "metadata": {},
   "outputs": [],
   "source": [
    "#load python packages\n",
    "import os\n",
    "import pandas as pd\n",
    "import datetime\n",
    "import seaborn as sns\n",
    "import matplotlib.pyplot as plt\n",
    "import matplotlib.cm as cm\n",
    "import numpy as np\n",
    "%matplotlib inline\n",
    "from pandas_profiling import ProfileReport\n",
    "\n",
    "from sklearn.model_selection import train_test_split\n",
    "from sklearn.svm import LinearSVC\n",
    "from sklearn import metrics #metrics module\n",
    "\n",
    "hypertable=[]"
   ]
  },
  {
   "cell_type": "markdown",
   "metadata": {},
   "source": [
    "### Load and review the data"
   ]
  },
  {
   "cell_type": "code",
   "execution_count": 2,
   "metadata": {},
   "outputs": [],
   "source": [
    "#Database URL\n",
    "url = 'https://phl.carto.com/api/v2/sql?q=SELECT+*,+ST_Y(the_geom)+AS+lat,+ST_X(the_geom)+AS+lng+FROM+appeals&filename=appeals&format=csv&skipfields=cartodb_id'\n",
    "#Initial Dataset load\n",
    "df = pd.read_csv(url, low_memory=False)"
   ]
  },
  {
   "cell_type": "code",
   "execution_count": 3,
   "metadata": {},
   "outputs": [
    {
     "data": {
      "text/html": [
       "<div>\n",
       "<style scoped>\n",
       "    .dataframe tbody tr th:only-of-type {\n",
       "        vertical-align: middle;\n",
       "    }\n",
       "\n",
       "    .dataframe tbody tr th {\n",
       "        vertical-align: top;\n",
       "    }\n",
       "\n",
       "    .dataframe thead th {\n",
       "        text-align: right;\n",
       "    }\n",
       "</style>\n",
       "<table border=\"1\" class=\"dataframe\">\n",
       "  <thead>\n",
       "    <tr style=\"text-align: right;\">\n",
       "      <th></th>\n",
       "      <th>the_geom</th>\n",
       "      <th>the_geom_webmercator</th>\n",
       "      <th>objectid</th>\n",
       "      <th>addressobjectid</th>\n",
       "      <th>address</th>\n",
       "      <th>unit_type</th>\n",
       "      <th>unit_num</th>\n",
       "      <th>zip</th>\n",
       "      <th>opa_account_num</th>\n",
       "      <th>parcel_id_num</th>\n",
       "      <th>...</th>\n",
       "      <th>scheduleddate</th>\n",
       "      <th>decision</th>\n",
       "      <th>meetingresult</th>\n",
       "      <th>proviso</th>\n",
       "      <th>decisiondate</th>\n",
       "      <th>systemofrecord</th>\n",
       "      <th>geocode_x</th>\n",
       "      <th>geocode_y</th>\n",
       "      <th>lat</th>\n",
       "      <th>lng</th>\n",
       "    </tr>\n",
       "  </thead>\n",
       "  <tbody>\n",
       "    <tr>\n",
       "      <th>0</th>\n",
       "      <td>0101000020E610000037BAFB2B1DC352C03A158AB3C90A...</td>\n",
       "      <td>0101000020110F000083B7668792DE5FC1D7531E50DD9B...</td>\n",
       "      <td>28869</td>\n",
       "      <td>716319.0</td>\n",
       "      <td>8940 KREWSTOWN RD</td>\n",
       "      <td>NaN</td>\n",
       "      <td>118</td>\n",
       "      <td>19115-4517</td>\n",
       "      <td>888630077.0</td>\n",
       "      <td>646106</td>\n",
       "      <td>...</td>\n",
       "      <td>2010-05-04 13:15:00</td>\n",
       "      <td>MOOT</td>\n",
       "      <td>NaN</td>\n",
       "      <td>COMPLIED</td>\n",
       "      <td>2010-05-04 00:00:00</td>\n",
       "      <td>HANSEN</td>\n",
       "      <td>2.724252e+06</td>\n",
       "      <td>285119.162422</td>\n",
       "      <td>40.084280</td>\n",
       "      <td>-75.048656</td>\n",
       "    </tr>\n",
       "    <tr>\n",
       "      <th>1</th>\n",
       "      <td>0101000020E61000003690253716C852C06DEBA50163FD...</td>\n",
       "      <td>0101000020110F00008ED1ECEB04E75FC16710A3FAFF8C...</td>\n",
       "      <td>28870</td>\n",
       "      <td>628798.0</td>\n",
       "      <td>2300 E YORK ST</td>\n",
       "      <td>NaN</td>\n",
       "      <td>NaN</td>\n",
       "      <td>19125-2120</td>\n",
       "      <td>313145500.0</td>\n",
       "      <td>363094</td>\n",
       "      <td>...</td>\n",
       "      <td>2009-10-28 17:00:00</td>\n",
       "      <td>GRANTED</td>\n",
       "      <td>NaN</td>\n",
       "      <td>NaN</td>\n",
       "      <td>2009-10-28 00:00:00</td>\n",
       "      <td>HANSEN</td>\n",
       "      <td>2.703654e+06</td>\n",
       "      <td>246341.440497</td>\n",
       "      <td>39.979584</td>\n",
       "      <td>-75.126356</td>\n",
       "    </tr>\n",
       "    <tr>\n",
       "      <th>2</th>\n",
       "      <td>0101000020E61000003C08EF26A0CB52C03BDF48F08D06...</td>\n",
       "      <td>0101000020110F0000E86105BF07ED5FC1EBBBD9912A97...</td>\n",
       "      <td>28871</td>\n",
       "      <td>531963.0</td>\n",
       "      <td>128 E SHARPNACK ST</td>\n",
       "      <td>NaN</td>\n",
       "      <td>NaN</td>\n",
       "      <td>19119-2237</td>\n",
       "      <td>221108000.0</td>\n",
       "      <td>313082</td>\n",
       "      <td>...</td>\n",
       "      <td>2009-12-29 13:15:00</td>\n",
       "      <td>MOOT</td>\n",
       "      <td>NaN</td>\n",
       "      <td>COMPLIED</td>\n",
       "      <td>2009-12-30 00:00:00</td>\n",
       "      <td>HANSEN</td>\n",
       "      <td>2.687406e+06</td>\n",
       "      <td>271965.871360</td>\n",
       "      <td>40.051207</td>\n",
       "      <td>-75.181650</td>\n",
       "    </tr>\n",
       "    <tr>\n",
       "      <th>3</th>\n",
       "      <td>0101000020E61000000E3A31E95AC552C0FDEF06071902...</td>\n",
       "      <td>0101000020110F000085E81E1561E25FC16F05D2083992...</td>\n",
       "      <td>28872</td>\n",
       "      <td>297984.0</td>\n",
       "      <td>4671 FRANKFORD AVE</td>\n",
       "      <td>NaN</td>\n",
       "      <td>NaN</td>\n",
       "      <td>19124-5827</td>\n",
       "      <td>871529760.0</td>\n",
       "      <td>565329</td>\n",
       "      <td>...</td>\n",
       "      <td>2009-10-06 09:30:00</td>\n",
       "      <td>GRANTED</td>\n",
       "      <td>NaN</td>\n",
       "      <td>NaN</td>\n",
       "      <td>2009-10-06 00:00:00</td>\n",
       "      <td>HANSEN</td>\n",
       "      <td>2.715205e+06</td>\n",
       "      <td>260100.891162</td>\n",
       "      <td>40.016389</td>\n",
       "      <td>-75.083674</td>\n",
       "    </tr>\n",
       "    <tr>\n",
       "      <th>4</th>\n",
       "      <td>0101000020E6100000926D2397A0CE52C05ED5D7D893FB...</td>\n",
       "      <td>0101000020110F0000A996150421F25FC15C0150B0FE8A...</td>\n",
       "      <td>28873</td>\n",
       "      <td>589254.0</td>\n",
       "      <td>5421 VINE ST</td>\n",
       "      <td>NaN</td>\n",
       "      <td>NaN</td>\n",
       "      <td>19139-2041</td>\n",
       "      <td>41034400.0</td>\n",
       "      <td>511115</td>\n",
       "      <td>...</td>\n",
       "      <td>2009-12-29 13:15:00</td>\n",
       "      <td>WITHDRAWN</td>\n",
       "      <td>NaN</td>\n",
       "      <td>NaN</td>\n",
       "      <td>2009-10-21 00:00:00</td>\n",
       "      <td>HANSEN</td>\n",
       "      <td>2.675173e+06</td>\n",
       "      <td>240360.419544</td>\n",
       "      <td>39.965449</td>\n",
       "      <td>-75.228552</td>\n",
       "    </tr>\n",
       "  </tbody>\n",
       "</table>\n",
       "<p>5 rows × 37 columns</p>\n",
       "</div>"
      ],
      "text/plain": [
       "                                            the_geom  \\\n",
       "0  0101000020E610000037BAFB2B1DC352C03A158AB3C90A...   \n",
       "1  0101000020E61000003690253716C852C06DEBA50163FD...   \n",
       "2  0101000020E61000003C08EF26A0CB52C03BDF48F08D06...   \n",
       "3  0101000020E61000000E3A31E95AC552C0FDEF06071902...   \n",
       "4  0101000020E6100000926D2397A0CE52C05ED5D7D893FB...   \n",
       "\n",
       "                                the_geom_webmercator  objectid  \\\n",
       "0  0101000020110F000083B7668792DE5FC1D7531E50DD9B...     28869   \n",
       "1  0101000020110F00008ED1ECEB04E75FC16710A3FAFF8C...     28870   \n",
       "2  0101000020110F0000E86105BF07ED5FC1EBBBD9912A97...     28871   \n",
       "3  0101000020110F000085E81E1561E25FC16F05D2083992...     28872   \n",
       "4  0101000020110F0000A996150421F25FC15C0150B0FE8A...     28873   \n",
       "\n",
       "   addressobjectid             address unit_type unit_num         zip  \\\n",
       "0         716319.0   8940 KREWSTOWN RD       NaN      118  19115-4517   \n",
       "1         628798.0      2300 E YORK ST       NaN      NaN  19125-2120   \n",
       "2         531963.0  128 E SHARPNACK ST       NaN      NaN  19119-2237   \n",
       "3         297984.0  4671 FRANKFORD AVE       NaN      NaN  19124-5827   \n",
       "4         589254.0        5421 VINE ST       NaN      NaN  19139-2041   \n",
       "\n",
       "   opa_account_num parcel_id_num  ...        scheduleddate   decision  \\\n",
       "0      888630077.0        646106  ...  2010-05-04 13:15:00       MOOT   \n",
       "1      313145500.0        363094  ...  2009-10-28 17:00:00    GRANTED   \n",
       "2      221108000.0        313082  ...  2009-12-29 13:15:00       MOOT   \n",
       "3      871529760.0        565329  ...  2009-10-06 09:30:00    GRANTED   \n",
       "4       41034400.0        511115  ...  2009-12-29 13:15:00  WITHDRAWN   \n",
       "\n",
       "  meetingresult   proviso         decisiondate systemofrecord     geocode_x  \\\n",
       "0           NaN  COMPLIED  2010-05-04 00:00:00         HANSEN  2.724252e+06   \n",
       "1           NaN       NaN  2009-10-28 00:00:00         HANSEN  2.703654e+06   \n",
       "2           NaN  COMPLIED  2009-12-30 00:00:00         HANSEN  2.687406e+06   \n",
       "3           NaN       NaN  2009-10-06 00:00:00         HANSEN  2.715205e+06   \n",
       "4           NaN       NaN  2009-10-21 00:00:00         HANSEN  2.675173e+06   \n",
       "\n",
       "       geocode_y        lat        lng  \n",
       "0  285119.162422  40.084280 -75.048656  \n",
       "1  246341.440497  39.979584 -75.126356  \n",
       "2  271965.871360  40.051207 -75.181650  \n",
       "3  260100.891162  40.016389 -75.083674  \n",
       "4  240360.419544  39.965449 -75.228552  \n",
       "\n",
       "[5 rows x 37 columns]"
      ]
     },
     "execution_count": 3,
     "metadata": {},
     "output_type": "execute_result"
    }
   ],
   "source": [
    "#Sample data\n",
    "df.head()"
   ]
  },
  {
   "cell_type": "code",
   "execution_count": 4,
   "metadata": {},
   "outputs": [
    {
     "name": "stdout",
     "output_type": "stream",
     "text": [
      "df.shape (29558, 37)\n"
     ]
    }
   ],
   "source": [
    "#Number of rows and features\n",
    "print(\"df.shape\", df.shape)"
   ]
  },
  {
   "cell_type": "code",
   "execution_count": 5,
   "metadata": {},
   "outputs": [
    {
     "data": {
      "text/plain": [
       "Index(['the_geom', 'the_geom_webmercator', 'objectid', 'addressobjectid',\n",
       "       'address', 'unit_type', 'unit_num', 'zip', 'opa_account_num',\n",
       "       'parcel_id_num', 'censustract', 'opa_owner', 'primaryappellant',\n",
       "       'appellanttype', 'internaljobid', 'appealnumber', 'acceleratedappeal',\n",
       "       'createddate', 'completeddate', 'relatedpermit', 'relatedcasefile',\n",
       "       'appealstatus', 'appealtype', 'agendadescription', 'applicationtype',\n",
       "       'meetingnumber', 'appealgrounds', 'scheduleddate', 'decision',\n",
       "       'meetingresult', 'proviso', 'decisiondate', 'systemofrecord',\n",
       "       'geocode_x', 'geocode_y', 'lat', 'lng'],\n",
       "      dtype='object')"
      ]
     },
     "execution_count": 5,
     "metadata": {},
     "output_type": "execute_result"
    }
   ],
   "source": [
    "#Column Names\n",
    "df.columns"
   ]
  },
  {
   "cell_type": "code",
   "execution_count": 6,
   "metadata": {},
   "outputs": [
    {
     "name": "stdout",
     "output_type": "stream",
     "text": [
      "<class 'pandas.core.frame.DataFrame'>\n",
      "RangeIndex: 29558 entries, 0 to 29557\n",
      "Data columns (total 37 columns):\n",
      " #   Column                Non-Null Count  Dtype  \n",
      "---  ------                --------------  -----  \n",
      " 0   the_geom              28949 non-null  object \n",
      " 1   the_geom_webmercator  28949 non-null  object \n",
      " 2   objectid              29558 non-null  int64  \n",
      " 3   addressobjectid       28988 non-null  float64\n",
      " 4   address               28977 non-null  object \n",
      " 5   unit_type             98 non-null     object \n",
      " 6   unit_num              551 non-null    object \n",
      " 7   zip                   28977 non-null  object \n",
      " 8   opa_account_num       27728 non-null  float64\n",
      " 9   parcel_id_num         28307 non-null  object \n",
      " 10  censustract           28949 non-null  float64\n",
      " 11  opa_owner             28402 non-null  object \n",
      " 12  primaryappellant      29558 non-null  object \n",
      " 13  appellanttype         29019 non-null  object \n",
      " 14  internaljobid         27715 non-null  float64\n",
      " 15  appealnumber          29557 non-null  object \n",
      " 16  acceleratedappeal     1304 non-null   object \n",
      " 17  createddate           29558 non-null  object \n",
      " 18  completeddate         12126 non-null  object \n",
      " 19  relatedpermit         28700 non-null  object \n",
      " 20  relatedcasefile       10 non-null     object \n",
      " 21  appealstatus          29558 non-null  object \n",
      " 22  appealtype            1843 non-null   object \n",
      " 23  agendadescription     1 non-null      object \n",
      " 24  applicationtype       28922 non-null  object \n",
      " 25  meetingnumber         1207 non-null   object \n",
      " 26  appealgrounds         29546 non-null  object \n",
      " 27  scheduleddate         28468 non-null  object \n",
      " 28  decision              26803 non-null  object \n",
      " 29  meetingresult         442 non-null    object \n",
      " 30  proviso               11695 non-null  object \n",
      " 31  decisiondate          27320 non-null  object \n",
      " 32  systemofrecord        29558 non-null  object \n",
      " 33  geocode_x             28949 non-null  float64\n",
      " 34  geocode_y             28949 non-null  float64\n",
      " 35  lat                   28949 non-null  float64\n",
      " 36  lng                   28949 non-null  float64\n",
      "dtypes: float64(8), int64(1), object(28)\n",
      "memory usage: 8.3+ MB\n"
     ]
    }
   ],
   "source": [
    "#General Info\n",
    "df.info()"
   ]
  },
  {
   "cell_type": "markdown",
   "metadata": {},
   "source": [
    "&#9644;&#9644;&#9644;&#9644;&#9644;&#9644;&#9644;&#9644;&#9644;&#9644;&#9644;&#9644;&#9644;&#9644;&#9644;&#9644;&#9644;&#9644;&#9644;&#9644;&#9644;&#9644;&#9644;&#9644;&#9644;&#9644;&#9644;&#9644;&#9644;&#9644;&#9644;&#9644;&#9644;&#9644;&#9644;&#9644;&#9644;&#9644;&#9644;&#9644;&#9644;&#9644;&#9644;&#9644;&#9644;&#9644;&#9644;&#9644;&#9644;&#9644;&#9644;&#9644;&#9644;&#9644;&#9644;&#9644;&#9644;&#9644;&#9644;&#9644;&#9644;&#9644;&#9644;&#9644;&#9644;&#9644;&#9644;&#9644;&#9644;"
   ]
  },
  {
   "cell_type": "markdown",
   "metadata": {},
   "source": [
    "***\n",
    "### Clear out Null values"
   ]
  },
  {
   "cell_type": "markdown",
   "metadata": {},
   "source": [
    "I am dropping records with Null value in Decision column. They represent less than 10% of the data. With the multitude of unique values in that column I can't decide what value I can replace it with."
   ]
  },
  {
   "cell_type": "code",
   "execution_count": 7,
   "metadata": {},
   "outputs": [
    {
     "data": {
      "text/html": [
       "<div>\n",
       "<style scoped>\n",
       "    .dataframe tbody tr th:only-of-type {\n",
       "        vertical-align: middle;\n",
       "    }\n",
       "\n",
       "    .dataframe tbody tr th {\n",
       "        vertical-align: top;\n",
       "    }\n",
       "\n",
       "    .dataframe thead th {\n",
       "        text-align: right;\n",
       "    }\n",
       "</style>\n",
       "<table border=\"1\" class=\"dataframe\">\n",
       "  <thead>\n",
       "    <tr style=\"text-align: right;\">\n",
       "      <th></th>\n",
       "      <th>the_geom</th>\n",
       "      <th>the_geom_webmercator</th>\n",
       "      <th>objectid</th>\n",
       "      <th>addressobjectid</th>\n",
       "      <th>address</th>\n",
       "      <th>unit_type</th>\n",
       "      <th>unit_num</th>\n",
       "      <th>zip</th>\n",
       "      <th>opa_account_num</th>\n",
       "      <th>parcel_id_num</th>\n",
       "      <th>...</th>\n",
       "      <th>scheduleddate</th>\n",
       "      <th>decision</th>\n",
       "      <th>meetingresult</th>\n",
       "      <th>proviso</th>\n",
       "      <th>decisiondate</th>\n",
       "      <th>systemofrecord</th>\n",
       "      <th>geocode_x</th>\n",
       "      <th>geocode_y</th>\n",
       "      <th>lat</th>\n",
       "      <th>lng</th>\n",
       "    </tr>\n",
       "  </thead>\n",
       "  <tbody>\n",
       "  </tbody>\n",
       "</table>\n",
       "<p>0 rows × 37 columns</p>\n",
       "</div>"
      ],
      "text/plain": [
       "Empty DataFrame\n",
       "Columns: [the_geom, the_geom_webmercator, objectid, addressobjectid, address, unit_type, unit_num, zip, opa_account_num, parcel_id_num, censustract, opa_owner, primaryappellant, appellanttype, internaljobid, appealnumber, acceleratedappeal, createddate, completeddate, relatedpermit, relatedcasefile, appealstatus, appealtype, agendadescription, applicationtype, meetingnumber, appealgrounds, scheduleddate, decision, meetingresult, proviso, decisiondate, systemofrecord, geocode_x, geocode_y, lat, lng]\n",
       "Index: []\n",
       "\n",
       "[0 rows x 37 columns]"
      ]
     },
     "execution_count": 7,
     "metadata": {},
     "output_type": "execute_result"
    }
   ],
   "source": [
    "df = df[~df['decision'].isna()]\n",
    "df[df['systemofrecord'].isna()]"
   ]
  },
  {
   "cell_type": "code",
   "execution_count": 8,
   "metadata": {},
   "outputs": [
    {
     "data": {
      "text/plain": [
       "0.0"
      ]
     },
     "execution_count": 8,
     "metadata": {},
     "output_type": "execute_result"
    }
   ],
   "source": [
    "#df.nunique()/df.shape[0]\n",
    "df[df['decision'].isna()].shape[0]/df.shape[0]"
   ]
  },
  {
   "cell_type": "code",
   "execution_count": 9,
   "metadata": {},
   "outputs": [
    {
     "data": {
      "text/plain": [
       "17"
      ]
     },
     "execution_count": 9,
     "metadata": {},
     "output_type": "execute_result"
    }
   ],
   "source": [
    "df[df['lat'].isna()].shape[0]"
   ]
  },
  {
   "cell_type": "markdown",
   "metadata": {},
   "source": [
    "I'm dropping these as well."
   ]
  },
  {
   "cell_type": "code",
   "execution_count": 10,
   "metadata": {},
   "outputs": [],
   "source": [
    "df = df[~df['lat'].isna()]"
   ]
  },
  {
   "cell_type": "markdown",
   "metadata": {},
   "source": [
    "&#9644;&#9644;&#9644;&#9644;&#9644;&#9644;&#9644;&#9644;&#9644;&#9644;&#9644;&#9644;&#9644;&#9644;&#9644;&#9644;&#9644;&#9644;&#9644;&#9644;&#9644;&#9644;&#9644;&#9644;&#9644;&#9644;&#9644;&#9644;&#9644;&#9644;&#9644;&#9644;&#9644;&#9644;&#9644;&#9644;&#9644;&#9644;&#9644;&#9644;&#9644;&#9644;&#9644;&#9644;&#9644;&#9644;&#9644;&#9644;&#9644;&#9644;&#9644;&#9644;&#9644;&#9644;&#9644;&#9644;&#9644;&#9644;&#9644;&#9644;&#9644;&#9644;&#9644;&#9644;&#9644;&#9644;&#9644;&#9644;&#9644;"
   ]
  },
  {
   "cell_type": "markdown",
   "metadata": {},
   "source": [
    "### Clean Zip column"
   ]
  },
  {
   "cell_type": "code",
   "execution_count": 11,
   "metadata": {},
   "outputs": [
    {
     "data": {
      "text/html": [
       "<div>\n",
       "<style scoped>\n",
       "    .dataframe tbody tr th:only-of-type {\n",
       "        vertical-align: middle;\n",
       "    }\n",
       "\n",
       "    .dataframe tbody tr th {\n",
       "        vertical-align: top;\n",
       "    }\n",
       "\n",
       "    .dataframe thead th {\n",
       "        text-align: right;\n",
       "    }\n",
       "</style>\n",
       "<table border=\"1\" class=\"dataframe\">\n",
       "  <thead>\n",
       "    <tr style=\"text-align: right;\">\n",
       "      <th></th>\n",
       "      <th>zip</th>\n",
       "      <th>zip</th>\n",
       "    </tr>\n",
       "  </thead>\n",
       "  <tbody>\n",
       "    <tr>\n",
       "      <th>0</th>\n",
       "      <td>19115</td>\n",
       "      <td>4517</td>\n",
       "    </tr>\n",
       "    <tr>\n",
       "      <th>1</th>\n",
       "      <td>19125</td>\n",
       "      <td>2120</td>\n",
       "    </tr>\n",
       "    <tr>\n",
       "      <th>2</th>\n",
       "      <td>19119</td>\n",
       "      <td>2237</td>\n",
       "    </tr>\n",
       "    <tr>\n",
       "      <th>3</th>\n",
       "      <td>19124</td>\n",
       "      <td>5827</td>\n",
       "    </tr>\n",
       "    <tr>\n",
       "      <th>4</th>\n",
       "      <td>19139</td>\n",
       "      <td>2041</td>\n",
       "    </tr>\n",
       "    <tr>\n",
       "      <th>...</th>\n",
       "      <td>...</td>\n",
       "      <td>...</td>\n",
       "    </tr>\n",
       "    <tr>\n",
       "      <th>29551</th>\n",
       "      <td>19104</td>\n",
       "      <td>1605</td>\n",
       "    </tr>\n",
       "    <tr>\n",
       "      <th>29552</th>\n",
       "      <td>19125</td>\n",
       "      <td>3311</td>\n",
       "    </tr>\n",
       "    <tr>\n",
       "      <th>29553</th>\n",
       "      <td>19125</td>\n",
       "      <td>4141</td>\n",
       "    </tr>\n",
       "    <tr>\n",
       "      <th>29554</th>\n",
       "      <td>19147</td>\n",
       "      <td>2936</td>\n",
       "    </tr>\n",
       "    <tr>\n",
       "      <th>29556</th>\n",
       "      <td>19133</td>\n",
       "      <td>2702</td>\n",
       "    </tr>\n",
       "  </tbody>\n",
       "</table>\n",
       "<p>26786 rows × 2 columns</p>\n",
       "</div>"
      ],
      "text/plain": [
       "         zip   zip\n",
       "0      19115  4517\n",
       "1      19125  2120\n",
       "2      19119  2237\n",
       "3      19124  5827\n",
       "4      19139  2041\n",
       "...      ...   ...\n",
       "29551  19104  1605\n",
       "29552  19125  3311\n",
       "29553  19125  4141\n",
       "29554  19147  2936\n",
       "29556  19133  2702\n",
       "\n",
       "[26786 rows x 2 columns]"
      ]
     },
     "execution_count": 11,
     "metadata": {},
     "output_type": "execute_result"
    }
   ],
   "source": [
    "pd.concat([df['zip'].astype('str').str.slice(0,5), df['zip'].astype('str').str.slice(6,10)],axis = 1)"
   ]
  },
  {
   "cell_type": "code",
   "execution_count": 12,
   "metadata": {},
   "outputs": [],
   "source": [
    "#(df['zip'].astype('str').str.slice(0,5) + df['zip'].astype('str').str.slice(6,10)).astype('int')\n",
    "#df['zip'].astype('str').str.slice(0,5).astype('int')"
   ]
  },
  {
   "cell_type": "code",
   "execution_count": 13,
   "metadata": {},
   "outputs": [
    {
     "data": {
      "text/plain": [
       "the_geom                0.802210\n",
       "the_geom_webmercator    0.802210\n",
       "objectid                1.000000\n",
       "addressobjectid         0.814007\n",
       "address                 0.805197\n",
       "unit_type               0.000149\n",
       "unit_num                0.004331\n",
       "zip                     0.487269\n",
       "opa_account_num         0.775330\n",
       "parcel_id_num           0.772344\n",
       "censustract             0.014261\n",
       "opa_owner               0.706600\n",
       "primaryappellant        0.458112\n",
       "appellanttype           0.000224\n",
       "internaljobid           0.985253\n",
       "appealnumber            1.000000\n",
       "acceleratedappeal       0.000075\n",
       "createddate             0.998581\n",
       "completeddate           0.450459\n",
       "relatedpermit           0.982379\n",
       "relatedcasefile         0.000037\n",
       "appealstatus            0.000299\n",
       "appealtype              0.000224\n",
       "agendadescription       0.000037\n",
       "applicationtype         0.000187\n",
       "meetingnumber           0.014747\n",
       "appealgrounds           0.922945\n",
       "scheduleddate           0.174755\n",
       "decision                0.001120\n",
       "meetingresult           0.000261\n",
       "proviso                 0.247779\n",
       "decisiondate            0.090756\n",
       "systemofrecord          0.000075\n",
       "geocode_x               0.805906\n",
       "geocode_y               0.805794\n",
       "lat                     0.802210\n",
       "lng                     0.802210\n",
       "dtype: float64"
      ]
     },
     "execution_count": 13,
     "metadata": {},
     "output_type": "execute_result"
    }
   ],
   "source": [
    "#Percent of unique values per values per column\n",
    "df.nunique()/df.shape[0]"
   ]
  },
  {
   "cell_type": "code",
   "execution_count": 14,
   "metadata": {},
   "outputs": [
    {
     "data": {
      "text/plain": [
       "the_geom                 object\n",
       "the_geom_webmercator     object\n",
       "objectid                  int64\n",
       "addressobjectid         float64\n",
       "address                  object\n",
       "unit_type                object\n",
       "unit_num                 object\n",
       "zip                      object\n",
       "opa_account_num         float64\n",
       "parcel_id_num            object\n",
       "censustract             float64\n",
       "opa_owner                object\n",
       "primaryappellant         object\n",
       "appellanttype            object\n",
       "internaljobid           float64\n",
       "appealnumber             object\n",
       "acceleratedappeal        object\n",
       "createddate              object\n",
       "completeddate            object\n",
       "relatedpermit            object\n",
       "relatedcasefile          object\n",
       "appealstatus             object\n",
       "appealtype               object\n",
       "agendadescription        object\n",
       "applicationtype          object\n",
       "meetingnumber            object\n",
       "appealgrounds            object\n",
       "scheduleddate            object\n",
       "decision                 object\n",
       "meetingresult            object\n",
       "proviso                  object\n",
       "decisiondate             object\n",
       "systemofrecord           object\n",
       "geocode_x               float64\n",
       "geocode_y               float64\n",
       "lat                     float64\n",
       "lng                     float64\n",
       "dtype: object"
      ]
     },
     "execution_count": 14,
     "metadata": {},
     "output_type": "execute_result"
    }
   ],
   "source": [
    "df.dtypes"
   ]
  },
  {
   "cell_type": "code",
   "execution_count": 15,
   "metadata": {},
   "outputs": [],
   "source": [
    "df['createddate'] = pd.to_datetime(df['createddate'])"
   ]
  },
  {
   "cell_type": "code",
   "execution_count": 16,
   "metadata": {},
   "outputs": [],
   "source": [
    "df['completeddate'] = pd.to_datetime(df['completeddate'])\n",
    "df['scheduleddate'] = pd.to_datetime(df['scheduleddate'])\n",
    "df['decisiondate'] = pd.to_datetime(df['decisiondate'])"
   ]
  },
  {
   "cell_type": "code",
   "execution_count": 17,
   "metadata": {},
   "outputs": [
    {
     "data": {
      "text/plain": [
       "PERMIT FOR TWO (2) FAMILY DWELLING IN AN EXISTING STRUCTURE.                                       110\n",
       "PERMIT FOR A TWO (2) FAMILY DWELLING IN AN EXISTING STRUCTURE.                                      65\n",
       "WE ARE APPEALING THE ISSUANCE OF BUILDING PERMIT #765070 FOR HEALTH AND ENVIRONMENTAL CONCERNS.     63\n",
       "PERMIT FOR THREE (3) FAMILY DWELLING (MULTI-FAMILY DWELLING) IN AN EXISTING STRUCTURE.              56\n",
       "PERMIT FOR A TWO(2) FAMILY DWELLING.                                                                55\n",
       "PERMIT FOR A THREE(3) FAMILY DWELLING.                                                              51\n",
       "PERMIT FOR A TWO(2) FAMILY DWELLING IN AN EXISTING STRUCTURE.                                       37\n",
       "PERMIT FOR A TWO (2) FAMILY DWELLING.                                                               36\n",
       "PERMIT FOR A TWO FAMILY DWELLING.                                                                   35\n",
       "PERMIT FOR TWO (2) FAMILY DWELLING IN AN EXISTING STRUCTURE                                         34\n",
       "Name: appealgrounds, dtype: int64"
      ]
     },
     "execution_count": 17,
     "metadata": {},
     "output_type": "execute_result"
    }
   ],
   "source": [
    "#Top examples of \"appealgrounds\"\n",
    "df['appealgrounds'].value_counts().head(10)"
   ]
  },
  {
   "cell_type": "code",
   "execution_count": 18,
   "metadata": {},
   "outputs": [
    {
     "data": {
      "text/plain": [
       "Description of Project:  SM/LRG FOOD ESTAB\\n  APPEAL TYPES==> \\nAPPEAL TYPE: LI-REFGRNT  \\n\\n  BOARD DECISIONS==> \\nDECISION: CONTINUED  DECDATE: 16-OCT-18  PROVISO:   \\n\\n  COURT APPEALS==> \\n                                                                                                                                                                                                  29\n",
       "Description of Project:  BUILDING PERMIT #765070\\n  APPEAL TYPES==> \\nAPPEAL TYPE: AGAINSTL&I  \\n\\n  BOARD DECISIONS==> \\nDECISION: AFFIRMED  DECDATE: 28-JUL-17  PROVISO:   \\n\\n  COURT APPEALS==> \\n                                                                                                                                                                                             28\n",
       "Description of Project:  PWD\\n  APPEAL TYPES==> \\nAPPEAL TYPE: WATER  \\n\\n  BOARD DECISIONS==> \\n\\n  COURT APPEALS==> \\n                                                                                                                                                                                                                                                                           21\n",
       "Description of Project:  BUILDING PERMIT #765070\\n  APPEAL TYPES==> \\nAPPEAL TYPE: AGAINSTL&I  \\n\\n  BOARD DECISIONS==> \\nDECISION: AFFIRMED  DECDATE: 24-JUL-17  PROVISO:   \\n\\n  COURT APPEALS==> \\n                                                                                                                                                                                             19\n",
       "Description of Project:  Building Permit #765070\\n  APPEAL TYPES==> \\nAPPEAL TYPE: AGAINSTL&I  \\n\\n  BOARD DECISIONS==> \\nDECISION: AFFIRMED  DECDATE: 24-JUL-17  PROVISO:   \\n\\n  COURT APPEALS==> \\n                                                                                                                                                                                             13\n",
       "Description of Project:  AMENDED 957615\\n  APPEAL TYPES==> \\nAPPEAL TYPE: USEVAR  \\nAPPEAL TYPE: ZONEVAR  \\n\\n  BOARD DECISIONS==> \\nDECISION: CONTINUED  DECDATE: 21-NOV-18  PROVISO:   \\nDECISION: CONTINUED  DECDATE: 30-JAN-19  PROVISO: MUST BE HEARD  \\nDECISION: CONTINUED  DECDATE: 20-MAR-19  PROVISO:   \\nDECISION: GRANTED  DECDATE: 15-MAY-19  PROVISO:   \\n\\n  COURT APPEALS==> \\n    13\n",
       "Description of Project:  653576 INTENT TO CEASE\\n  APPEAL TYPES==> \\nAPPEAL TYPE: NTF-CEASE  \\n\\n  BOARD DECISIONS==> \\nDECISION: AFFIRMED  DECDATE: 02-OCT-18  PROVISO: 90 DAY STAY OF ENFORCEMENT  \\n\\n  COURT APPEALS==> \\n                                                                                                                                                                      8\n",
       "Description of Project:  PWD\\n  APPEAL TYPES==> \\nAPPEAL TYPE: WATER  \\n\\n  BOARD DECISIONS==> \\nDECISION: MOOT  DECDATE: 10-JUL-18  PROVISO: COMPLIED  \\n\\n  COURT APPEALS==> \\n                                                                                                                                                                                                                   7\n",
       "Description of Project:  PWD\\n  APPEAL TYPES==> \\nAPPEAL TYPE: WATER  \\n\\n  BOARD DECISIONS==> \\nDECISION: MOOT  DECDATE: 13-MAR-18  PROVISO:   \\n\\n  COURT APPEALS==> \\n                                                                                                                                                                                                                           6\n",
       "Description of Project:  PWD (RESCHEDULED)\\n  APPEAL TYPES==> \\nAPPEAL TYPE: WATER  \\n\\n  BOARD DECISIONS==> \\nDECISION: MOOT  DECDATE: 23-JAN-20  PROVISO:   \\n\\n  COURT APPEALS==> \\n                                                                                                                                                                                                             5\n",
       "Name: relatedpermit, dtype: int64"
      ]
     },
     "execution_count": 18,
     "metadata": {},
     "output_type": "execute_result"
    }
   ],
   "source": [
    "#Top examples of \"relatedpermit\"\n",
    "df['relatedpermit'].value_counts().head(10)"
   ]
  },
  {
   "cell_type": "code",
   "execution_count": 19,
   "metadata": {
    "scrolled": true
   },
   "outputs": [
    {
     "data": {
      "text/plain": [
       "COMPLIED                                                          1751\n",
       "FOR WANT OF APPEARANCE                                             737\n",
       "*****CASE WITHDRAWN.*****                                          402\n",
       "*****CASE DISMISSED.*****                                          163\n",
       "*****CASE DISMISSED - PUT INTO ENFORCEMENT.*****                   109\n",
       "60 DAY STAY OF ENFORCEMENT                                         101\n",
       "90 DAY STAY OF ENFORCEMENT                                          85\n",
       "30 DAY STAY OF ENFORCEMENT                                          58\n",
       "WITHOUT PREJUDICE;  CITY HAS THE RIGHT TO RE-ISSUE VIOLATIONS.      54\n",
       "120 DAY STAY OF ENFORCEMENT                                         53\n",
       "Name: proviso, dtype: int64"
      ]
     },
     "execution_count": 19,
     "metadata": {},
     "output_type": "execute_result"
    }
   ],
   "source": [
    "#Top value of \"proviso\"\n",
    "df['proviso'].value_counts().head(10)"
   ]
  },
  {
   "cell_type": "code",
   "execution_count": 20,
   "metadata": {},
   "outputs": [
    {
     "data": {
      "text/plain": [
       "GRANTED                  8436\n",
       "GRANTED/PROV             6260\n",
       "WITHDRAWN                2420\n",
       "MOOT                     2283\n",
       "AFFIRMED                 1956\n",
       "DENIED                   1796\n",
       "APPROVED                 1554\n",
       "DISMISSED                 936\n",
       "Complete                  348\n",
       "SUSTAINED                 255\n",
       "CONTINUED                 224\n",
       "DENIED/PROV                69\n",
       "ADMIN/REVIEW               63\n",
       "DISMI/ENFORC               42\n",
       "REMAND                     38\n",
       "Dismissed / Withdrawn      38\n",
       "HELD                       17\n",
       "NEWHEARNOT                 12\n",
       "HELD/INFO                   9\n",
       "BOARDAKNOWL                 7\n",
       "Continued                   5\n",
       "REFUSED                     3\n",
       "Cancelled                   3\n",
       "LATE-APPRVD                 3\n",
       "LATE-DENIED                 2\n",
       "REVISED                     2\n",
       "NEWHEARYES                  2\n",
       "ISSUED                      1\n",
       "Rescheduled                 1\n",
       "RESCHEDULE                  1\n",
       "Name: decision, dtype: int64"
      ]
     },
     "execution_count": 20,
     "metadata": {},
     "output_type": "execute_result"
    }
   ],
   "source": [
    "#Breakdown by decision\n",
    "df['decision'].value_counts()"
   ]
  },
  {
   "cell_type": "code",
   "execution_count": 21,
   "metadata": {},
   "outputs": [],
   "source": [
    "# Save the values\n",
    "df['decisionsv']=df['decision']"
   ]
  },
  {
   "cell_type": "code",
   "execution_count": 22,
   "metadata": {},
   "outputs": [
    {
     "data": {
      "text/html": [
       "<div>\n",
       "<style scoped>\n",
       "    .dataframe tbody tr th:only-of-type {\n",
       "        vertical-align: middle;\n",
       "    }\n",
       "\n",
       "    .dataframe tbody tr th {\n",
       "        vertical-align: top;\n",
       "    }\n",
       "\n",
       "    .dataframe thead th {\n",
       "        text-align: right;\n",
       "    }\n",
       "</style>\n",
       "<table border=\"1\" class=\"dataframe\">\n",
       "  <thead>\n",
       "    <tr style=\"text-align: right;\">\n",
       "      <th></th>\n",
       "      <th>decision</th>\n",
       "      <th>proviso</th>\n",
       "    </tr>\n",
       "  </thead>\n",
       "  <tbody>\n",
       "    <tr>\n",
       "      <th>3220</th>\n",
       "      <td>DENIED/PROV</td>\n",
       "      <td>NaN</td>\n",
       "    </tr>\n",
       "    <tr>\n",
       "      <th>25957</th>\n",
       "      <td>GRANTED/PROV</td>\n",
       "      <td>NaN</td>\n",
       "    </tr>\n",
       "  </tbody>\n",
       "</table>\n",
       "</div>"
      ],
      "text/plain": [
       "           decision proviso\n",
       "3220    DENIED/PROV     NaN\n",
       "25957  GRANTED/PROV     NaN"
      ]
     },
     "execution_count": 22,
     "metadata": {},
     "output_type": "execute_result"
    }
   ],
   "source": [
    "df[(df['decision'].str.contains('/PROV') == True) & (df['proviso'].isna() == True)][['decision', 'proviso']]"
   ]
  },
  {
   "cell_type": "markdown",
   "metadata": {},
   "source": [
    "Even though there are only two records, it appears that /PROV in the 'decision' field doesn't mean that there is value in the field 'proviso'"
   ]
  },
  {
   "cell_type": "code",
   "execution_count": 23,
   "metadata": {},
   "outputs": [
    {
     "data": {
      "text/html": [
       "<div>\n",
       "<style scoped>\n",
       "    .dataframe tbody tr th:only-of-type {\n",
       "        vertical-align: middle;\n",
       "    }\n",
       "\n",
       "    .dataframe tbody tr th {\n",
       "        vertical-align: top;\n",
       "    }\n",
       "\n",
       "    .dataframe thead th {\n",
       "        text-align: right;\n",
       "    }\n",
       "</style>\n",
       "<table border=\"1\" class=\"dataframe\">\n",
       "  <thead>\n",
       "    <tr style=\"text-align: right;\">\n",
       "      <th></th>\n",
       "      <th>decision</th>\n",
       "      <th>proviso</th>\n",
       "    </tr>\n",
       "  </thead>\n",
       "  <tbody>\n",
       "    <tr>\n",
       "      <th>0</th>\n",
       "      <td>MOOT</td>\n",
       "      <td>COMPLIED</td>\n",
       "    </tr>\n",
       "    <tr>\n",
       "      <th>2</th>\n",
       "      <td>MOOT</td>\n",
       "      <td>COMPLIED</td>\n",
       "    </tr>\n",
       "    <tr>\n",
       "      <th>10</th>\n",
       "      <td>AFFIRMED</td>\n",
       "      <td>CITY WILL STAY ENFORCEMENT ACTION FOR 90  DAYS.</td>\n",
       "    </tr>\n",
       "    <tr>\n",
       "      <th>11</th>\n",
       "      <td>MOOT</td>\n",
       "      <td>COMPLIED</td>\n",
       "    </tr>\n",
       "    <tr>\n",
       "      <th>14</th>\n",
       "      <td>AFFIRMED</td>\n",
       "      <td>CITY WILL STAY ENFORCEMENT FOR 60 DAYS TO SECU...</td>\n",
       "    </tr>\n",
       "    <tr>\n",
       "      <th>...</th>\n",
       "      <td>...</td>\n",
       "      <td>...</td>\n",
       "    </tr>\n",
       "    <tr>\n",
       "      <th>29493</th>\n",
       "      <td>Complete</td>\n",
       "      <td>With Proviso: revised plans, 1 page,  approved...</td>\n",
       "    </tr>\n",
       "    <tr>\n",
       "      <th>29511</th>\n",
       "      <td>AFFIRMED</td>\n",
       "      <td>FOR WANT OF APPEARANCE</td>\n",
       "    </tr>\n",
       "    <tr>\n",
       "      <th>29521</th>\n",
       "      <td>AFFIRMED</td>\n",
       "      <td>FOR WANT OF APPEARANCE</td>\n",
       "    </tr>\n",
       "    <tr>\n",
       "      <th>29522</th>\n",
       "      <td>Complete</td>\n",
       "      <td>With proviso: Approved use is ground floor com...</td>\n",
       "    </tr>\n",
       "    <tr>\n",
       "      <th>29542</th>\n",
       "      <td>Complete</td>\n",
       "      <td>With proviso: (1) single family home only; and...</td>\n",
       "    </tr>\n",
       "  </tbody>\n",
       "</table>\n",
       "<p>5356 rows × 2 columns</p>\n",
       "</div>"
      ],
      "text/plain": [
       "       decision                                            proviso\n",
       "0          MOOT                                           COMPLIED\n",
       "2          MOOT                                           COMPLIED\n",
       "10     AFFIRMED    CITY WILL STAY ENFORCEMENT ACTION FOR 90  DAYS.\n",
       "11         MOOT                                           COMPLIED\n",
       "14     AFFIRMED  CITY WILL STAY ENFORCEMENT FOR 60 DAYS TO SECU...\n",
       "...         ...                                                ...\n",
       "29493  Complete  With Proviso: revised plans, 1 page,  approved...\n",
       "29511  AFFIRMED                             FOR WANT OF APPEARANCE\n",
       "29521  AFFIRMED                             FOR WANT OF APPEARANCE\n",
       "29522  Complete  With proviso: Approved use is ground floor com...\n",
       "29542  Complete  With proviso: (1) single family home only; and...\n",
       "\n",
       "[5356 rows x 2 columns]"
      ]
     },
     "execution_count": 23,
     "metadata": {},
     "output_type": "execute_result"
    }
   ],
   "source": [
    "df[~(df['decision'].str.contains('/PROV') == True) & (df['proviso'].isna() == False)][['decision', 'proviso']]"
   ]
  },
  {
   "cell_type": "markdown",
   "metadata": {},
   "source": [
    "not having /PROV in 'decision' field doesn't mean no value in 'provision'"
   ]
  },
  {
   "cell_type": "markdown",
   "metadata": {},
   "source": [
    "### Remove /PROV value from decision column and store it as a flag in a separate field"
   ]
  },
  {
   "cell_type": "code",
   "execution_count": 24,
   "metadata": {},
   "outputs": [],
   "source": [
    "# Add new field prvFlag to store \"/PROV\" from decision\n",
    "df['provFlag'] = (df['decision'].str.contains('/PROV') == True).astype('int')"
   ]
  },
  {
   "cell_type": "code",
   "execution_count": 25,
   "metadata": {},
   "outputs": [
    {
     "data": {
      "text/plain": [
       "array([12, 11], dtype=int64)"
      ]
     },
     "execution_count": 25,
     "metadata": {},
     "output_type": "execute_result"
    }
   ],
   "source": [
    "df[df['decision'].str.contains('/PROV')]['decision'].str.len().unique()"
   ]
  },
  {
   "cell_type": "code",
   "execution_count": 26,
   "metadata": {},
   "outputs": [],
   "source": [
    "def stripProviso (decision):\n",
    "    if '/PROV' in decision:\n",
    "        strLength = len(decision)\n",
    "        return decision[0: strLength-5]\n",
    "    else:\n",
    "        return decision"
   ]
  },
  {
   "cell_type": "code",
   "execution_count": 27,
   "metadata": {},
   "outputs": [],
   "source": [
    "df['decision'] = df['decision'].apply(stripProviso)"
   ]
  },
  {
   "cell_type": "code",
   "execution_count": 28,
   "metadata": {},
   "outputs": [
    {
     "data": {
      "text/html": [
       "<div>\n",
       "<style scoped>\n",
       "    .dataframe tbody tr th:only-of-type {\n",
       "        vertical-align: middle;\n",
       "    }\n",
       "\n",
       "    .dataframe tbody tr th {\n",
       "        vertical-align: top;\n",
       "    }\n",
       "\n",
       "    .dataframe thead th {\n",
       "        text-align: right;\n",
       "    }\n",
       "</style>\n",
       "<table border=\"1\" class=\"dataframe\">\n",
       "  <thead>\n",
       "    <tr style=\"text-align: right;\">\n",
       "      <th></th>\n",
       "      <th>decision</th>\n",
       "      <th>decisionsv</th>\n",
       "      <th>provFlag</th>\n",
       "    </tr>\n",
       "  </thead>\n",
       "  <tbody>\n",
       "    <tr>\n",
       "      <th>0</th>\n",
       "      <td>MOOT</td>\n",
       "      <td>MOOT</td>\n",
       "      <td>0</td>\n",
       "    </tr>\n",
       "    <tr>\n",
       "      <th>1</th>\n",
       "      <td>GRANTED</td>\n",
       "      <td>GRANTED</td>\n",
       "      <td>0</td>\n",
       "    </tr>\n",
       "    <tr>\n",
       "      <th>2</th>\n",
       "      <td>MOOT</td>\n",
       "      <td>MOOT</td>\n",
       "      <td>0</td>\n",
       "    </tr>\n",
       "    <tr>\n",
       "      <th>3</th>\n",
       "      <td>GRANTED</td>\n",
       "      <td>GRANTED</td>\n",
       "      <td>0</td>\n",
       "    </tr>\n",
       "    <tr>\n",
       "      <th>4</th>\n",
       "      <td>WITHDRAWN</td>\n",
       "      <td>WITHDRAWN</td>\n",
       "      <td>0</td>\n",
       "    </tr>\n",
       "    <tr>\n",
       "      <th>...</th>\n",
       "      <td>...</td>\n",
       "      <td>...</td>\n",
       "      <td>...</td>\n",
       "    </tr>\n",
       "    <tr>\n",
       "      <th>29551</th>\n",
       "      <td>Complete</td>\n",
       "      <td>Complete</td>\n",
       "      <td>0</td>\n",
       "    </tr>\n",
       "    <tr>\n",
       "      <th>29552</th>\n",
       "      <td>Complete</td>\n",
       "      <td>Complete</td>\n",
       "      <td>0</td>\n",
       "    </tr>\n",
       "    <tr>\n",
       "      <th>29553</th>\n",
       "      <td>Complete</td>\n",
       "      <td>Complete</td>\n",
       "      <td>0</td>\n",
       "    </tr>\n",
       "    <tr>\n",
       "      <th>29554</th>\n",
       "      <td>Complete</td>\n",
       "      <td>Complete</td>\n",
       "      <td>0</td>\n",
       "    </tr>\n",
       "    <tr>\n",
       "      <th>29556</th>\n",
       "      <td>Complete</td>\n",
       "      <td>Complete</td>\n",
       "      <td>0</td>\n",
       "    </tr>\n",
       "  </tbody>\n",
       "</table>\n",
       "<p>26786 rows × 3 columns</p>\n",
       "</div>"
      ],
      "text/plain": [
       "        decision decisionsv  provFlag\n",
       "0           MOOT       MOOT         0\n",
       "1        GRANTED    GRANTED         0\n",
       "2           MOOT       MOOT         0\n",
       "3        GRANTED    GRANTED         0\n",
       "4      WITHDRAWN  WITHDRAWN         0\n",
       "...          ...        ...       ...\n",
       "29551   Complete   Complete         0\n",
       "29552   Complete   Complete         0\n",
       "29553   Complete   Complete         0\n",
       "29554   Complete   Complete         0\n",
       "29556   Complete   Complete         0\n",
       "\n",
       "[26786 rows x 3 columns]"
      ]
     },
     "execution_count": 28,
     "metadata": {},
     "output_type": "execute_result"
    }
   ],
   "source": [
    "df[['decision','decisionsv','provFlag']]"
   ]
  },
  {
   "cell_type": "markdown",
   "metadata": {},
   "source": [
    "### Change case for all decisions to lower case"
   ]
  },
  {
   "cell_type": "code",
   "execution_count": 29,
   "metadata": {},
   "outputs": [],
   "source": [
    "df['decision'] = df['decision'].str.lower()"
   ]
  },
  {
   "cell_type": "markdown",
   "metadata": {},
   "source": [
    "### Combine dismissed and withdrawn as dismissed"
   ]
  },
  {
   "cell_type": "code",
   "execution_count": 30,
   "metadata": {},
   "outputs": [
    {
     "data": {
      "text/plain": [
       "['dismi/enforc', 'dismissed', 'dismissed / withdrawn']"
      ]
     },
     "execution_count": 30,
     "metadata": {},
     "output_type": "execute_result"
    }
   ],
   "source": [
    "sorted(df[df['decision'].str.contains('dismi')]['decision'].unique())"
   ]
  },
  {
   "cell_type": "code",
   "execution_count": 31,
   "metadata": {},
   "outputs": [],
   "source": [
    "def dismissed (decision):\n",
    "    if 'dismi' in decision or decision == 'withdrawn':\n",
    "        return 'dismissed'\n",
    "    else:\n",
    "        return decision"
   ]
  },
  {
   "cell_type": "code",
   "execution_count": 32,
   "metadata": {},
   "outputs": [],
   "source": [
    "df['decision'] = df['decision'].apply(dismissed)"
   ]
  },
  {
   "cell_type": "code",
   "execution_count": 33,
   "metadata": {},
   "outputs": [
    {
     "data": {
      "text/plain": [
       "['dismissed']"
      ]
     },
     "execution_count": 33,
     "metadata": {},
     "output_type": "execute_result"
    }
   ],
   "source": [
    "sorted(df[df['decision'].str.contains('dismi')]['decision'].unique())"
   ]
  },
  {
   "cell_type": "code",
   "execution_count": 34,
   "metadata": {},
   "outputs": [
    {
     "data": {
      "text/plain": [
       "['admin/review',\n",
       " 'affirmed',\n",
       " 'approved',\n",
       " 'boardaknowl',\n",
       " 'cancelled',\n",
       " 'complete',\n",
       " 'continued',\n",
       " 'denied',\n",
       " 'dismissed',\n",
       " 'granted',\n",
       " 'held',\n",
       " 'held/info',\n",
       " 'issued',\n",
       " 'late-apprvd',\n",
       " 'late-denied',\n",
       " 'moot',\n",
       " 'newhearnot',\n",
       " 'newhearyes',\n",
       " 'refused',\n",
       " 'remand',\n",
       " 'reschedule',\n",
       " 'rescheduled',\n",
       " 'revised',\n",
       " 'sustained']"
      ]
     },
     "execution_count": 34,
     "metadata": {},
     "output_type": "execute_result"
    }
   ],
   "source": [
    "sorted(df['decision'].unique())"
   ]
  },
  {
   "cell_type": "code",
   "execution_count": 35,
   "metadata": {},
   "outputs": [
    {
     "data": {
      "text/html": [
       "<div>\n",
       "<style scoped>\n",
       "    .dataframe tbody tr th:only-of-type {\n",
       "        vertical-align: middle;\n",
       "    }\n",
       "\n",
       "    .dataframe tbody tr th {\n",
       "        vertical-align: top;\n",
       "    }\n",
       "\n",
       "    .dataframe thead th {\n",
       "        text-align: right;\n",
       "    }\n",
       "</style>\n",
       "<table border=\"1\" class=\"dataframe\">\n",
       "  <thead>\n",
       "    <tr style=\"text-align: right;\">\n",
       "      <th></th>\n",
       "      <th>the_geom</th>\n",
       "      <th>the_geom_webmercator</th>\n",
       "      <th>objectid</th>\n",
       "      <th>addressobjectid</th>\n",
       "      <th>address</th>\n",
       "      <th>unit_type</th>\n",
       "      <th>unit_num</th>\n",
       "      <th>zip</th>\n",
       "      <th>opa_account_num</th>\n",
       "      <th>parcel_id_num</th>\n",
       "      <th>...</th>\n",
       "      <th>meetingresult</th>\n",
       "      <th>proviso</th>\n",
       "      <th>decisiondate</th>\n",
       "      <th>systemofrecord</th>\n",
       "      <th>geocode_x</th>\n",
       "      <th>geocode_y</th>\n",
       "      <th>lat</th>\n",
       "      <th>lng</th>\n",
       "      <th>decisionsv</th>\n",
       "      <th>provFlag</th>\n",
       "    </tr>\n",
       "  </thead>\n",
       "  <tbody>\n",
       "  </tbody>\n",
       "</table>\n",
       "<p>0 rows × 39 columns</p>\n",
       "</div>"
      ],
      "text/plain": [
       "Empty DataFrame\n",
       "Columns: [the_geom, the_geom_webmercator, objectid, addressobjectid, address, unit_type, unit_num, zip, opa_account_num, parcel_id_num, censustract, opa_owner, primaryappellant, appellanttype, internaljobid, appealnumber, acceleratedappeal, createddate, completeddate, relatedpermit, relatedcasefile, appealstatus, appealtype, agendadescription, applicationtype, meetingnumber, appealgrounds, scheduleddate, decision, meetingresult, proviso, decisiondate, systemofrecord, geocode_x, geocode_y, lat, lng, decisionsv, provFlag]\n",
       "Index: []\n",
       "\n",
       "[0 rows x 39 columns]"
      ]
     },
     "execution_count": 35,
     "metadata": {},
     "output_type": "execute_result"
    }
   ],
   "source": [
    "pd.set_option('display.max_colwidth', None)\n",
    "df[df['decision'] == 'HELD/INFO'].head(5)"
   ]
  },
  {
   "cell_type": "code",
   "execution_count": 36,
   "metadata": {
    "scrolled": true
   },
   "outputs": [
    {
     "data": {
      "text/html": [
       "<div>\n",
       "<style scoped>\n",
       "    .dataframe tbody tr th:only-of-type {\n",
       "        vertical-align: middle;\n",
       "    }\n",
       "\n",
       "    .dataframe tbody tr th {\n",
       "        vertical-align: top;\n",
       "    }\n",
       "\n",
       "    .dataframe thead th {\n",
       "        text-align: right;\n",
       "    }\n",
       "</style>\n",
       "<table border=\"1\" class=\"dataframe\">\n",
       "  <thead>\n",
       "    <tr style=\"text-align: right;\">\n",
       "      <th></th>\n",
       "      <th>the_geom</th>\n",
       "      <th>the_geom_webmercator</th>\n",
       "      <th>objectid</th>\n",
       "      <th>addressobjectid</th>\n",
       "      <th>address</th>\n",
       "      <th>unit_type</th>\n",
       "      <th>unit_num</th>\n",
       "      <th>zip</th>\n",
       "      <th>opa_account_num</th>\n",
       "      <th>parcel_id_num</th>\n",
       "      <th>...</th>\n",
       "      <th>meetingresult</th>\n",
       "      <th>proviso</th>\n",
       "      <th>decisiondate</th>\n",
       "      <th>systemofrecord</th>\n",
       "      <th>geocode_x</th>\n",
       "      <th>geocode_y</th>\n",
       "      <th>lat</th>\n",
       "      <th>lng</th>\n",
       "      <th>decisionsv</th>\n",
       "      <th>provFlag</th>\n",
       "    </tr>\n",
       "  </thead>\n",
       "  <tbody>\n",
       "  </tbody>\n",
       "</table>\n",
       "<p>0 rows × 39 columns</p>\n",
       "</div>"
      ],
      "text/plain": [
       "Empty DataFrame\n",
       "Columns: [the_geom, the_geom_webmercator, objectid, addressobjectid, address, unit_type, unit_num, zip, opa_account_num, parcel_id_num, censustract, opa_owner, primaryappellant, appellanttype, internaljobid, appealnumber, acceleratedappeal, createddate, completeddate, relatedpermit, relatedcasefile, appealstatus, appealtype, agendadescription, applicationtype, meetingnumber, appealgrounds, scheduleddate, decision, meetingresult, proviso, decisiondate, systemofrecord, geocode_x, geocode_y, lat, lng, decisionsv, provFlag]\n",
       "Index: []\n",
       "\n",
       "[0 rows x 39 columns]"
      ]
     },
     "execution_count": 36,
     "metadata": {},
     "output_type": "execute_result"
    }
   ],
   "source": [
    "df[df['proviso'].isnull() == True]\n",
    "df[(df['decision'].str.contains(\"PROV\") == True) & (df['decision'] != 'APPROVED')  & (df['proviso'].isnull() == True)]"
   ]
  },
  {
   "cell_type": "code",
   "execution_count": 37,
   "metadata": {
    "scrolled": true
   },
   "outputs": [
    {
     "data": {
      "text/html": [
       "<div>\n",
       "<style scoped>\n",
       "    .dataframe tbody tr th:only-of-type {\n",
       "        vertical-align: middle;\n",
       "    }\n",
       "\n",
       "    .dataframe tbody tr th {\n",
       "        vertical-align: top;\n",
       "    }\n",
       "\n",
       "    .dataframe thead th {\n",
       "        text-align: right;\n",
       "    }\n",
       "</style>\n",
       "<table border=\"1\" class=\"dataframe\">\n",
       "  <thead>\n",
       "    <tr style=\"text-align: right;\">\n",
       "      <th></th>\n",
       "      <th>the_geom</th>\n",
       "      <th>the_geom_webmercator</th>\n",
       "      <th>objectid</th>\n",
       "      <th>addressobjectid</th>\n",
       "      <th>address</th>\n",
       "      <th>unit_type</th>\n",
       "      <th>unit_num</th>\n",
       "      <th>zip</th>\n",
       "      <th>opa_account_num</th>\n",
       "      <th>parcel_id_num</th>\n",
       "      <th>...</th>\n",
       "      <th>meetingresult</th>\n",
       "      <th>proviso</th>\n",
       "      <th>decisiondate</th>\n",
       "      <th>systemofrecord</th>\n",
       "      <th>geocode_x</th>\n",
       "      <th>geocode_y</th>\n",
       "      <th>lat</th>\n",
       "      <th>lng</th>\n",
       "      <th>decisionsv</th>\n",
       "      <th>provFlag</th>\n",
       "    </tr>\n",
       "  </thead>\n",
       "  <tbody>\n",
       "    <tr>\n",
       "      <th>49</th>\n",
       "      <td>0101000020E610000012821833D5CA52C07F2461F5DAFC4340</td>\n",
       "      <td>0101000020110F0000B64DCD02AFEB5FC12485D831698C5241</td>\n",
       "      <td>29172</td>\n",
       "      <td>127982554.0</td>\n",
       "      <td>2000 SEYBERT ST</td>\n",
       "      <td>NaN</td>\n",
       "      <td>NaN</td>\n",
       "      <td>19121-4817</td>\n",
       "      <td>291053500.0</td>\n",
       "      <td>37094</td>\n",
       "      <td>...</td>\n",
       "      <td>Granted</td>\n",
       "      <td>NaN</td>\n",
       "      <td>2020-09-10 19:28:54</td>\n",
       "      <td>ECLIPSE</td>\n",
       "      <td>2.691679e+06</td>\n",
       "      <td>244475.379312</td>\n",
       "      <td>39.975432</td>\n",
       "      <td>-75.169263</td>\n",
       "      <td>Complete</td>\n",
       "      <td>0</td>\n",
       "    </tr>\n",
       "    <tr>\n",
       "      <th>236</th>\n",
       "      <td>0101000020E61000004D7BC1E443CA52C0663B07BF14FC4340</td>\n",
       "      <td>0101000020110F000075A8AD31B8EA5FC12ED763878D8B5241</td>\n",
       "      <td>29357</td>\n",
       "      <td>15453232.0</td>\n",
       "      <td>842 N BROAD ST</td>\n",
       "      <td>NaN</td>\n",
       "      <td>NaN</td>\n",
       "      <td>19130-2234</td>\n",
       "      <td>882885597.0</td>\n",
       "      <td>464788</td>\n",
       "      <td>...</td>\n",
       "      <td>Granted</td>\n",
       "      <td>NaN</td>\n",
       "      <td>2020-10-09 11:02:37</td>\n",
       "      <td>ECLIPSE</td>\n",
       "      <td>2.694228e+06</td>\n",
       "      <td>242345.549053</td>\n",
       "      <td>39.969383</td>\n",
       "      <td>-75.160394</td>\n",
       "      <td>Complete</td>\n",
       "      <td>0</td>\n",
       "    </tr>\n",
       "    <tr>\n",
       "      <th>271</th>\n",
       "      <td>0101000020E6100000B692B43A1FC952C0593D2949E3FC4340</td>\n",
       "      <td>0101000020110F000010520913C7E85FC19B51786C728C5241</td>\n",
       "      <td>29386</td>\n",
       "      <td>15456898.0</td>\n",
       "      <td>1618 GERMANTOWN AVE</td>\n",
       "      <td>NaN</td>\n",
       "      <td>NaN</td>\n",
       "      <td>19122-3017</td>\n",
       "      <td>183160510.0</td>\n",
       "      <td>436927</td>\n",
       "      <td>...</td>\n",
       "      <td>Granted</td>\n",
       "      <td>With proviso: (1) revised plans, 1 pg., approved today.</td>\n",
       "      <td>2020-10-14 11:31:12</td>\n",
       "      <td>ECLIPSE</td>\n",
       "      <td>2.699165e+06</td>\n",
       "      <td>244787.950990</td>\n",
       "      <td>39.975686</td>\n",
       "      <td>-75.142531</td>\n",
       "      <td>Complete</td>\n",
       "      <td>0</td>\n",
       "    </tr>\n",
       "    <tr>\n",
       "      <th>309</th>\n",
       "      <td>0101000020E6100000525BD8498ECA52C08A6C64CDACF94340</td>\n",
       "      <td>0101000020110F0000A7D9AD8F36EB5FC1AA35D00AE3885241</td>\n",
       "      <td>29426</td>\n",
       "      <td>15795392.0</td>\n",
       "      <td>1416 CHESTNUT ST</td>\n",
       "      <td>NaN</td>\n",
       "      <td>NaN</td>\n",
       "      <td>19102-2505</td>\n",
       "      <td>883421500.0</td>\n",
       "      <td>183272</td>\n",
       "      <td>...</td>\n",
       "      <td>Granted</td>\n",
       "      <td>NaN</td>\n",
       "      <td>2020-09-23 10:17:09</td>\n",
       "      <td>ECLIPSE</td>\n",
       "      <td>2.693156e+06</td>\n",
       "      <td>235463.747317</td>\n",
       "      <td>39.950586</td>\n",
       "      <td>-75.164935</td>\n",
       "      <td>Complete</td>\n",
       "      <td>0</td>\n",
       "    </tr>\n",
       "    <tr>\n",
       "      <th>338</th>\n",
       "      <td>0101000020E6100000715EB5F72CC652C020C99AA4A6FF4340</td>\n",
       "      <td>0101000020110F00005B378CE2C5E35FC14234D680828F5241</td>\n",
       "      <td>29451</td>\n",
       "      <td>15696515.0</td>\n",
       "      <td>3701 SEPVIVA ST</td>\n",
       "      <td>NaN</td>\n",
       "      <td>NaN</td>\n",
       "      <td>19137-1017</td>\n",
       "      <td>884201350.0</td>\n",
       "      <td>100870</td>\n",
       "      <td>...</td>\n",
       "      <td>Granted</td>\n",
       "      <td>NaN</td>\n",
       "      <td>2020-10-14 11:14:45</td>\n",
       "      <td>ECLIPSE</td>\n",
       "      <td>2.711825e+06</td>\n",
       "      <td>253032.358401</td>\n",
       "      <td>39.997273</td>\n",
       "      <td>-75.096495</td>\n",
       "      <td>Complete</td>\n",
       "      <td>0</td>\n",
       "    </tr>\n",
       "    <tr>\n",
       "      <th>...</th>\n",
       "      <td>...</td>\n",
       "      <td>...</td>\n",
       "      <td>...</td>\n",
       "      <td>...</td>\n",
       "      <td>...</td>\n",
       "      <td>...</td>\n",
       "      <td>...</td>\n",
       "      <td>...</td>\n",
       "      <td>...</td>\n",
       "      <td>...</td>\n",
       "      <td>...</td>\n",
       "      <td>...</td>\n",
       "      <td>...</td>\n",
       "      <td>...</td>\n",
       "      <td>...</td>\n",
       "      <td>...</td>\n",
       "      <td>...</td>\n",
       "      <td>...</td>\n",
       "      <td>...</td>\n",
       "      <td>...</td>\n",
       "      <td>...</td>\n",
       "    </tr>\n",
       "    <tr>\n",
       "      <th>29551</th>\n",
       "      <td>0101000020E610000034D7E5E67ECC52C0E057520FB4FB4340</td>\n",
       "      <td>0101000020110F00000B58F61B82EE5FC129337C62228B5241</td>\n",
       "      <td>58373</td>\n",
       "      <td>15802209.0</td>\n",
       "      <td>712 N 36TH ST</td>\n",
       "      <td>NaN</td>\n",
       "      <td>NaN</td>\n",
       "      <td>19104-1605</td>\n",
       "      <td>243077100.0</td>\n",
       "      <td>272349</td>\n",
       "      <td>...</td>\n",
       "      <td>Denied</td>\n",
       "      <td>NaN</td>\n",
       "      <td>2020-10-05 15:18:14</td>\n",
       "      <td>ECLIPSE</td>\n",
       "      <td>2.684495e+06</td>\n",
       "      <td>240986.657703</td>\n",
       "      <td>39.966432</td>\n",
       "      <td>-75.195245</td>\n",
       "      <td>Complete</td>\n",
       "      <td>0</td>\n",
       "    </tr>\n",
       "    <tr>\n",
       "      <th>29552</th>\n",
       "      <td>0101000020E6100000A50A88B628C852C0D1CD112659FC4340</td>\n",
       "      <td>0101000020110F0000ECD4735724E75FC122B92D55D98B5241</td>\n",
       "      <td>58477</td>\n",
       "      <td>15662423.0</td>\n",
       "      <td>537 E GIRARD AVE</td>\n",
       "      <td>NaN</td>\n",
       "      <td>NaN</td>\n",
       "      <td>19125-3311</td>\n",
       "      <td>871523930.0</td>\n",
       "      <td>261022</td>\n",
       "      <td>...</td>\n",
       "      <td>Granted</td>\n",
       "      <td>NaN</td>\n",
       "      <td>2020-10-23 11:44:28</td>\n",
       "      <td>ECLIPSE</td>\n",
       "      <td>2.703425e+06</td>\n",
       "      <td>243377.803376</td>\n",
       "      <td>39.971471</td>\n",
       "      <td>-75.127485</td>\n",
       "      <td>Complete</td>\n",
       "      <td>0</td>\n",
       "    </tr>\n",
       "    <tr>\n",
       "      <th>29553</th>\n",
       "      <td>0101000020E6100000DAFE519395C852C0C50822ECA2FB4340</td>\n",
       "      <td>0101000020110F00005A106541DDE75FC12B62E4640F8B5241</td>\n",
       "      <td>58478</td>\n",
       "      <td>127853943.0</td>\n",
       "      <td>965 FRANKFORD AVE</td>\n",
       "      <td>NaN</td>\n",
       "      <td>NaN</td>\n",
       "      <td>19125-4141</td>\n",
       "      <td>885997521.0</td>\n",
       "      <td>168340</td>\n",
       "      <td>...</td>\n",
       "      <td>Granted</td>\n",
       "      <td>NaN</td>\n",
       "      <td>2020-10-23 11:30:46</td>\n",
       "      <td>ECLIPSE</td>\n",
       "      <td>2.701624e+06</td>\n",
       "      <td>241297.655440</td>\n",
       "      <td>39.965909</td>\n",
       "      <td>-75.134129</td>\n",
       "      <td>Complete</td>\n",
       "      <td>0</td>\n",
       "    </tr>\n",
       "    <tr>\n",
       "      <th>29554</th>\n",
       "      <td>0101000020E610000014382E70D6C952C0C06351904AF84340</td>\n",
       "      <td>0101000020110F00008060E945FEE95FC190816F9E5A875241</td>\n",
       "      <td>58479</td>\n",
       "      <td>15436431.0</td>\n",
       "      <td>620 CLYMER ST</td>\n",
       "      <td>NaN</td>\n",
       "      <td>NaN</td>\n",
       "      <td>19147-2936</td>\n",
       "      <td>22017000.0</td>\n",
       "      <td>154044</td>\n",
       "      <td>...</td>\n",
       "      <td>Granted</td>\n",
       "      <td>NaN</td>\n",
       "      <td>2020-09-08 21:32:06</td>\n",
       "      <td>ECLIPSE</td>\n",
       "      <td>2.696417e+06</td>\n",
       "      <td>231619.655826</td>\n",
       "      <td>39.939776</td>\n",
       "      <td>-75.153713</td>\n",
       "      <td>Complete</td>\n",
       "      <td>0</td>\n",
       "    </tr>\n",
       "    <tr>\n",
       "      <th>29556</th>\n",
       "      <td>0101000020E6100000E05998CBF1C852C0C5A8C7C41EFF4340</td>\n",
       "      <td>0101000020110F000088DC6CE679E85FC1598B51DFEB8E5241</td>\n",
       "      <td>58481</td>\n",
       "      <td>128982374.0</td>\n",
       "      <td>2739 N 5TH ST</td>\n",
       "      <td>NaN</td>\n",
       "      <td>NaN</td>\n",
       "      <td>19133-2702</td>\n",
       "      <td>885251905.0</td>\n",
       "      <td>35693</td>\n",
       "      <td>...</td>\n",
       "      <td>Granted</td>\n",
       "      <td>NaN</td>\n",
       "      <td>2020-10-14 10:21:53</td>\n",
       "      <td>ECLIPSE</td>\n",
       "      <td>2.699754e+06</td>\n",
       "      <td>251161.316122</td>\n",
       "      <td>39.993126</td>\n",
       "      <td>-75.139758</td>\n",
       "      <td>Complete</td>\n",
       "      <td>0</td>\n",
       "    </tr>\n",
       "  </tbody>\n",
       "</table>\n",
       "<p>389 rows × 39 columns</p>\n",
       "</div>"
      ],
      "text/plain": [
       "                                                 the_geom  \\\n",
       "49     0101000020E610000012821833D5CA52C07F2461F5DAFC4340   \n",
       "236    0101000020E61000004D7BC1E443CA52C0663B07BF14FC4340   \n",
       "271    0101000020E6100000B692B43A1FC952C0593D2949E3FC4340   \n",
       "309    0101000020E6100000525BD8498ECA52C08A6C64CDACF94340   \n",
       "338    0101000020E6100000715EB5F72CC652C020C99AA4A6FF4340   \n",
       "...                                                   ...   \n",
       "29551  0101000020E610000034D7E5E67ECC52C0E057520FB4FB4340   \n",
       "29552  0101000020E6100000A50A88B628C852C0D1CD112659FC4340   \n",
       "29553  0101000020E6100000DAFE519395C852C0C50822ECA2FB4340   \n",
       "29554  0101000020E610000014382E70D6C952C0C06351904AF84340   \n",
       "29556  0101000020E6100000E05998CBF1C852C0C5A8C7C41EFF4340   \n",
       "\n",
       "                                     the_geom_webmercator  objectid  \\\n",
       "49     0101000020110F0000B64DCD02AFEB5FC12485D831698C5241     29172   \n",
       "236    0101000020110F000075A8AD31B8EA5FC12ED763878D8B5241     29357   \n",
       "271    0101000020110F000010520913C7E85FC19B51786C728C5241     29386   \n",
       "309    0101000020110F0000A7D9AD8F36EB5FC1AA35D00AE3885241     29426   \n",
       "338    0101000020110F00005B378CE2C5E35FC14234D680828F5241     29451   \n",
       "...                                                   ...       ...   \n",
       "29551  0101000020110F00000B58F61B82EE5FC129337C62228B5241     58373   \n",
       "29552  0101000020110F0000ECD4735724E75FC122B92D55D98B5241     58477   \n",
       "29553  0101000020110F00005A106541DDE75FC12B62E4640F8B5241     58478   \n",
       "29554  0101000020110F00008060E945FEE95FC190816F9E5A875241     58479   \n",
       "29556  0101000020110F000088DC6CE679E85FC1598B51DFEB8E5241     58481   \n",
       "\n",
       "       addressobjectid              address unit_type unit_num         zip  \\\n",
       "49         127982554.0      2000 SEYBERT ST       NaN      NaN  19121-4817   \n",
       "236         15453232.0       842 N BROAD ST       NaN      NaN  19130-2234   \n",
       "271         15456898.0  1618 GERMANTOWN AVE       NaN      NaN  19122-3017   \n",
       "309         15795392.0     1416 CHESTNUT ST       NaN      NaN  19102-2505   \n",
       "338         15696515.0      3701 SEPVIVA ST       NaN      NaN  19137-1017   \n",
       "...                ...                  ...       ...      ...         ...   \n",
       "29551       15802209.0        712 N 36TH ST       NaN      NaN  19104-1605   \n",
       "29552       15662423.0     537 E GIRARD AVE       NaN      NaN  19125-3311   \n",
       "29553      127853943.0    965 FRANKFORD AVE       NaN      NaN  19125-4141   \n",
       "29554       15436431.0        620 CLYMER ST       NaN      NaN  19147-2936   \n",
       "29556      128982374.0        2739 N 5TH ST       NaN      NaN  19133-2702   \n",
       "\n",
       "       opa_account_num parcel_id_num  ...  meetingresult  \\\n",
       "49         291053500.0         37094  ...        Granted   \n",
       "236        882885597.0        464788  ...        Granted   \n",
       "271        183160510.0        436927  ...        Granted   \n",
       "309        883421500.0        183272  ...        Granted   \n",
       "338        884201350.0        100870  ...        Granted   \n",
       "...                ...           ...  ...            ...   \n",
       "29551      243077100.0        272349  ...         Denied   \n",
       "29552      871523930.0        261022  ...        Granted   \n",
       "29553      885997521.0        168340  ...        Granted   \n",
       "29554       22017000.0        154044  ...        Granted   \n",
       "29556      885251905.0         35693  ...        Granted   \n",
       "\n",
       "                                                       proviso  \\\n",
       "49                                                         NaN   \n",
       "236                                                        NaN   \n",
       "271    With proviso: (1) revised plans, 1 pg., approved today.   \n",
       "309                                                        NaN   \n",
       "338                                                        NaN   \n",
       "...                                                        ...   \n",
       "29551                                                      NaN   \n",
       "29552                                                      NaN   \n",
       "29553                                                      NaN   \n",
       "29554                                                      NaN   \n",
       "29556                                                      NaN   \n",
       "\n",
       "             decisiondate systemofrecord     geocode_x      geocode_y  \\\n",
       "49    2020-09-10 19:28:54        ECLIPSE  2.691679e+06  244475.379312   \n",
       "236   2020-10-09 11:02:37        ECLIPSE  2.694228e+06  242345.549053   \n",
       "271   2020-10-14 11:31:12        ECLIPSE  2.699165e+06  244787.950990   \n",
       "309   2020-09-23 10:17:09        ECLIPSE  2.693156e+06  235463.747317   \n",
       "338   2020-10-14 11:14:45        ECLIPSE  2.711825e+06  253032.358401   \n",
       "...                   ...            ...           ...            ...   \n",
       "29551 2020-10-05 15:18:14        ECLIPSE  2.684495e+06  240986.657703   \n",
       "29552 2020-10-23 11:44:28        ECLIPSE  2.703425e+06  243377.803376   \n",
       "29553 2020-10-23 11:30:46        ECLIPSE  2.701624e+06  241297.655440   \n",
       "29554 2020-09-08 21:32:06        ECLIPSE  2.696417e+06  231619.655826   \n",
       "29556 2020-10-14 10:21:53        ECLIPSE  2.699754e+06  251161.316122   \n",
       "\n",
       "             lat        lng decisionsv provFlag  \n",
       "49     39.975432 -75.169263   Complete        0  \n",
       "236    39.969383 -75.160394   Complete        0  \n",
       "271    39.975686 -75.142531   Complete        0  \n",
       "309    39.950586 -75.164935   Complete        0  \n",
       "338    39.997273 -75.096495   Complete        0  \n",
       "...          ...        ...        ...      ...  \n",
       "29551  39.966432 -75.195245   Complete        0  \n",
       "29552  39.971471 -75.127485   Complete        0  \n",
       "29553  39.965909 -75.134129   Complete        0  \n",
       "29554  39.939776 -75.153713   Complete        0  \n",
       "29556  39.993126 -75.139758   Complete        0  \n",
       "\n",
       "[389 rows x 39 columns]"
      ]
     },
     "execution_count": 37,
     "metadata": {},
     "output_type": "execute_result"
    }
   ],
   "source": [
    "df[df['meetingresult'].isnull() == False]"
   ]
  },
  {
   "cell_type": "code",
   "execution_count": 38,
   "metadata": {
    "scrolled": true
   },
   "outputs": [
    {
     "data": {
      "text/plain": [
       "complete - Granted       320\n",
       "dismissed - Withdrawn     36\n",
       "complete - Denied         18\n",
       "complete - Withdrawn       4\n",
       "cancelled - Withdrawn      2\n",
       "complete - Dismissed       2\n",
       "complete - Approved        2\n",
       "complete - Refused         2\n",
       "cancelled - Revised        1\n",
       "continued - Granted        1\n",
       "rescheduled - Refused      1\n",
       "dtype: int64"
      ]
     },
     "execution_count": 38,
     "metadata": {},
     "output_type": "execute_result"
    }
   ],
   "source": [
    "(df['decision'] + \" - \" + df['meetingresult']).value_counts()"
   ]
  },
  {
   "cell_type": "code",
   "execution_count": 39,
   "metadata": {},
   "outputs": [
    {
     "data": {
      "text/html": [
       "<div>\n",
       "<style scoped>\n",
       "    .dataframe tbody tr th:only-of-type {\n",
       "        vertical-align: middle;\n",
       "    }\n",
       "\n",
       "    .dataframe tbody tr th {\n",
       "        vertical-align: top;\n",
       "    }\n",
       "\n",
       "    .dataframe thead th {\n",
       "        text-align: right;\n",
       "    }\n",
       "</style>\n",
       "<table border=\"1\" class=\"dataframe\">\n",
       "  <thead>\n",
       "    <tr style=\"text-align: right;\">\n",
       "      <th></th>\n",
       "      <th>the_geom</th>\n",
       "      <th>the_geom_webmercator</th>\n",
       "      <th>objectid</th>\n",
       "      <th>addressobjectid</th>\n",
       "      <th>address</th>\n",
       "      <th>unit_type</th>\n",
       "      <th>unit_num</th>\n",
       "      <th>zip</th>\n",
       "      <th>opa_account_num</th>\n",
       "      <th>parcel_id_num</th>\n",
       "      <th>...</th>\n",
       "      <th>meetingresult</th>\n",
       "      <th>proviso</th>\n",
       "      <th>decisiondate</th>\n",
       "      <th>systemofrecord</th>\n",
       "      <th>geocode_x</th>\n",
       "      <th>geocode_y</th>\n",
       "      <th>lat</th>\n",
       "      <th>lng</th>\n",
       "      <th>decisionsv</th>\n",
       "      <th>provFlag</th>\n",
       "    </tr>\n",
       "  </thead>\n",
       "  <tbody>\n",
       "  </tbody>\n",
       "</table>\n",
       "<p>0 rows × 39 columns</p>\n",
       "</div>"
      ],
      "text/plain": [
       "Empty DataFrame\n",
       "Columns: [the_geom, the_geom_webmercator, objectid, addressobjectid, address, unit_type, unit_num, zip, opa_account_num, parcel_id_num, censustract, opa_owner, primaryappellant, appellanttype, internaljobid, appealnumber, acceleratedappeal, createddate, completeddate, relatedpermit, relatedcasefile, appealstatus, appealtype, agendadescription, applicationtype, meetingnumber, appealgrounds, scheduleddate, decision, meetingresult, proviso, decisiondate, systemofrecord, geocode_x, geocode_y, lat, lng, decisionsv, provFlag]\n",
       "Index: []\n",
       "\n",
       "[0 rows x 39 columns]"
      ]
     },
     "execution_count": 39,
     "metadata": {},
     "output_type": "execute_result"
    }
   ],
   "source": [
    "df[(df['decision']=='Complete') & (df['meetingresult'].isnull() == True)]"
   ]
  },
  {
   "cell_type": "code",
   "execution_count": 40,
   "metadata": {},
   "outputs": [
    {
     "data": {
      "text/html": [
       "<div>\n",
       "<style scoped>\n",
       "    .dataframe tbody tr th:only-of-type {\n",
       "        vertical-align: middle;\n",
       "    }\n",
       "\n",
       "    .dataframe tbody tr th {\n",
       "        vertical-align: top;\n",
       "    }\n",
       "\n",
       "    .dataframe thead th {\n",
       "        text-align: right;\n",
       "    }\n",
       "</style>\n",
       "<table border=\"1\" class=\"dataframe\">\n",
       "  <thead>\n",
       "    <tr style=\"text-align: right;\">\n",
       "      <th></th>\n",
       "      <th>the_geom</th>\n",
       "      <th>the_geom_webmercator</th>\n",
       "      <th>objectid</th>\n",
       "      <th>addressobjectid</th>\n",
       "      <th>address</th>\n",
       "      <th>unit_type</th>\n",
       "      <th>unit_num</th>\n",
       "      <th>zip</th>\n",
       "      <th>opa_account_num</th>\n",
       "      <th>parcel_id_num</th>\n",
       "      <th>...</th>\n",
       "      <th>meetingresult</th>\n",
       "      <th>proviso</th>\n",
       "      <th>decisiondate</th>\n",
       "      <th>systemofrecord</th>\n",
       "      <th>geocode_x</th>\n",
       "      <th>geocode_y</th>\n",
       "      <th>lat</th>\n",
       "      <th>lng</th>\n",
       "      <th>decisionsv</th>\n",
       "      <th>provFlag</th>\n",
       "    </tr>\n",
       "  </thead>\n",
       "  <tbody>\n",
       "  </tbody>\n",
       "</table>\n",
       "<p>0 rows × 39 columns</p>\n",
       "</div>"
      ],
      "text/plain": [
       "Empty DataFrame\n",
       "Columns: [the_geom, the_geom_webmercator, objectid, addressobjectid, address, unit_type, unit_num, zip, opa_account_num, parcel_id_num, censustract, opa_owner, primaryappellant, appellanttype, internaljobid, appealnumber, acceleratedappeal, createddate, completeddate, relatedpermit, relatedcasefile, appealstatus, appealtype, agendadescription, applicationtype, meetingnumber, appealgrounds, scheduleddate, decision, meetingresult, proviso, decisiondate, systemofrecord, geocode_x, geocode_y, lat, lng, decisionsv, provFlag]\n",
       "Index: []\n",
       "\n",
       "[0 rows x 39 columns]"
      ]
     },
     "execution_count": 40,
     "metadata": {},
     "output_type": "execute_result"
    }
   ],
   "source": [
    "df[(df['decision']=='GRANTED') & (df['meetingresult'].isnull() == False)]"
   ]
  },
  {
   "cell_type": "code",
   "execution_count": 41,
   "metadata": {},
   "outputs": [
    {
     "data": {
      "text/plain": [
       "HANSEN     26391\n",
       "ECLIPSE      395\n",
       "Name: systemofrecord, dtype: int64"
      ]
     },
     "execution_count": 41,
     "metadata": {},
     "output_type": "execute_result"
    }
   ],
   "source": [
    "df['systemofrecord'].value_counts()"
   ]
  },
  {
   "cell_type": "code",
   "execution_count": 42,
   "metadata": {},
   "outputs": [
    {
     "name": "stdout",
     "output_type": "stream",
     "text": [
      "HANSEN\n",
      "min   2007-01-22 09:41:00\n",
      "max   2020-03-09 16:19:20\n",
      "Name: createddate, dtype: datetime64[ns]\n",
      "ECLIPSE\n",
      "min   2018-02-20 10:48:46\n",
      "max   2020-09-21 10:00:39\n",
      "Name: createddate, dtype: datetime64[ns]\n"
     ]
    }
   ],
   "source": [
    "# I want to see if the two system of records overlap\n",
    "for sysname in df['systemofrecord'].unique():\n",
    "    print(sysname)\n",
    "    print(df[df['systemofrecord']==sysname]['createddate'].agg(['min','max']))"
   ]
  },
  {
   "cell_type": "code",
   "execution_count": 43,
   "metadata": {},
   "outputs": [
    {
     "data": {
      "text/html": [
       "<div>\n",
       "<style scoped>\n",
       "    .dataframe tbody tr th:only-of-type {\n",
       "        vertical-align: middle;\n",
       "    }\n",
       "\n",
       "    .dataframe tbody tr th {\n",
       "        vertical-align: top;\n",
       "    }\n",
       "\n",
       "    .dataframe thead th {\n",
       "        text-align: right;\n",
       "    }\n",
       "</style>\n",
       "<table border=\"1\" class=\"dataframe\">\n",
       "  <thead>\n",
       "    <tr style=\"text-align: right;\">\n",
       "      <th></th>\n",
       "      <th>the_geom</th>\n",
       "      <th>the_geom_webmercator</th>\n",
       "      <th>objectid</th>\n",
       "      <th>addressobjectid</th>\n",
       "      <th>address</th>\n",
       "      <th>unit_type</th>\n",
       "      <th>unit_num</th>\n",
       "      <th>zip</th>\n",
       "      <th>opa_account_num</th>\n",
       "      <th>parcel_id_num</th>\n",
       "      <th>...</th>\n",
       "      <th>meetingresult</th>\n",
       "      <th>proviso</th>\n",
       "      <th>decisiondate</th>\n",
       "      <th>systemofrecord</th>\n",
       "      <th>geocode_x</th>\n",
       "      <th>geocode_y</th>\n",
       "      <th>lat</th>\n",
       "      <th>lng</th>\n",
       "      <th>decisionsv</th>\n",
       "      <th>provFlag</th>\n",
       "    </tr>\n",
       "  </thead>\n",
       "  <tbody>\n",
       "  </tbody>\n",
       "</table>\n",
       "<p>0 rows × 39 columns</p>\n",
       "</div>"
      ],
      "text/plain": [
       "Empty DataFrame\n",
       "Columns: [the_geom, the_geom_webmercator, objectid, addressobjectid, address, unit_type, unit_num, zip, opa_account_num, parcel_id_num, censustract, opa_owner, primaryappellant, appellanttype, internaljobid, appealnumber, acceleratedappeal, createddate, completeddate, relatedpermit, relatedcasefile, appealstatus, appealtype, agendadescription, applicationtype, meetingnumber, appealgrounds, scheduleddate, decision, meetingresult, proviso, decisiondate, systemofrecord, geocode_x, geocode_y, lat, lng, decisionsv, provFlag]\n",
       "Index: []\n",
       "\n",
       "[0 rows x 39 columns]"
      ]
     },
     "execution_count": 43,
     "metadata": {},
     "output_type": "execute_result"
    }
   ],
   "source": [
    "df[(df['systemofrecord']=='HANSEN') & (df['meetingresult'].isnull() == False)]"
   ]
  },
  {
   "cell_type": "code",
   "execution_count": 44,
   "metadata": {
    "scrolled": true
   },
   "outputs": [
    {
     "data": {
      "text/html": [
       "<div>\n",
       "<style scoped>\n",
       "    .dataframe tbody tr th:only-of-type {\n",
       "        vertical-align: middle;\n",
       "    }\n",
       "\n",
       "    .dataframe tbody tr th {\n",
       "        vertical-align: top;\n",
       "    }\n",
       "\n",
       "    .dataframe thead th {\n",
       "        text-align: right;\n",
       "    }\n",
       "</style>\n",
       "<table border=\"1\" class=\"dataframe\">\n",
       "  <thead>\n",
       "    <tr style=\"text-align: right;\">\n",
       "      <th></th>\n",
       "      <th>the_geom</th>\n",
       "      <th>the_geom_webmercator</th>\n",
       "      <th>objectid</th>\n",
       "      <th>addressobjectid</th>\n",
       "      <th>address</th>\n",
       "      <th>unit_type</th>\n",
       "      <th>unit_num</th>\n",
       "      <th>zip</th>\n",
       "      <th>opa_account_num</th>\n",
       "      <th>parcel_id_num</th>\n",
       "      <th>...</th>\n",
       "      <th>meetingresult</th>\n",
       "      <th>proviso</th>\n",
       "      <th>decisiondate</th>\n",
       "      <th>systemofrecord</th>\n",
       "      <th>geocode_x</th>\n",
       "      <th>geocode_y</th>\n",
       "      <th>lat</th>\n",
       "      <th>lng</th>\n",
       "      <th>decisionsv</th>\n",
       "      <th>provFlag</th>\n",
       "    </tr>\n",
       "  </thead>\n",
       "  <tbody>\n",
       "    <tr>\n",
       "      <th>23290</th>\n",
       "      <td>0101000020E610000078EC83545CCB52C0FCF5F84046F84340</td>\n",
       "      <td>0101000020110F000086CB348B94EC5FC1F9FF40D855875241</td>\n",
       "      <td>52899</td>\n",
       "      <td>15696117.0</td>\n",
       "      <td>2031 WASHINGTON AVE</td>\n",
       "      <td>NaN</td>\n",
       "      <td>NaN</td>\n",
       "      <td>19146-2632</td>\n",
       "      <td>884006315.0</td>\n",
       "      <td>137226</td>\n",
       "      <td>...</td>\n",
       "      <td>NaN</td>\n",
       "      <td>NaN</td>\n",
       "      <td>2020-06-30 18:49:58</td>\n",
       "      <td>ECLIPSE</td>\n",
       "      <td>2.689748e+06</td>\n",
       "      <td>231376.510551</td>\n",
       "      <td>39.939644</td>\n",
       "      <td>-75.177510</td>\n",
       "      <td>Continued</td>\n",
       "      <td>0</td>\n",
       "    </tr>\n",
       "    <tr>\n",
       "      <th>23456</th>\n",
       "      <td>0101000020E6100000ADFD74DAEBBD52C002EB9FFD050B4440</td>\n",
       "      <td>0101000020110F00000F68388CC0D55FC1D33B053D209C5241</td>\n",
       "      <td>52800</td>\n",
       "      <td>159412601.0</td>\n",
       "      <td>4501 WOODHAVEN RD</td>\n",
       "      <td>#</td>\n",
       "      <td>1B</td>\n",
       "      <td>19154-3145</td>\n",
       "      <td>882691010.0</td>\n",
       "      <td>495596</td>\n",
       "      <td>...</td>\n",
       "      <td>NaN</td>\n",
       "      <td>NaN</td>\n",
       "      <td>2020-07-16 12:10:37</td>\n",
       "      <td>ECLIPSE</td>\n",
       "      <td>2.746923e+06</td>\n",
       "      <td>286493.835007</td>\n",
       "      <td>40.086120</td>\n",
       "      <td>-74.967520</td>\n",
       "      <td>Dismissed / Withdrawn</td>\n",
       "      <td>0</td>\n",
       "    </tr>\n",
       "    <tr>\n",
       "      <th>23711</th>\n",
       "      <td>0101000020E6100000626DE93412CC52C084945E7172FD4340</td>\n",
       "      <td>0101000020110F0000D998B97AC9ED5FC1915F8C16118D5241</td>\n",
       "      <td>52393</td>\n",
       "      <td>15830744.0</td>\n",
       "      <td>1501 N 33RD ST</td>\n",
       "      <td>NaN</td>\n",
       "      <td>NaN</td>\n",
       "      <td>19121-3513</td>\n",
       "      <td>292315605.0</td>\n",
       "      <td>90942</td>\n",
       "      <td>...</td>\n",
       "      <td>NaN</td>\n",
       "      <td>NaN</td>\n",
       "      <td>2020-09-30 17:01:36</td>\n",
       "      <td>ECLIPSE</td>\n",
       "      <td>2.686209e+06</td>\n",
       "      <td>246000.873419</td>\n",
       "      <td>39.980055</td>\n",
       "      <td>-75.188611</td>\n",
       "      <td>Continued</td>\n",
       "      <td>0</td>\n",
       "    </tr>\n",
       "    <tr>\n",
       "      <th>24427</th>\n",
       "      <td>0101000020E61000008E77029EC0CB52C06B89357ADFFD4340</td>\n",
       "      <td>0101000020110F0000F84438E43EED5FC147AFC0F0898D5241</td>\n",
       "      <td>53082</td>\n",
       "      <td>136875946.0</td>\n",
       "      <td>3008 CLIFFORD ST</td>\n",
       "      <td>NaN</td>\n",
       "      <td>NaN</td>\n",
       "      <td>19121-2503</td>\n",
       "      <td>884460495.0</td>\n",
       "      <td>529385</td>\n",
       "      <td>...</td>\n",
       "      <td>NaN</td>\n",
       "      <td>NaN</td>\n",
       "      <td>2020-08-21 11:34:37</td>\n",
       "      <td>ECLIPSE</td>\n",
       "      <td>2.687569e+06</td>\n",
       "      <td>247253.010811</td>\n",
       "      <td>39.983382</td>\n",
       "      <td>-75.183631</td>\n",
       "      <td>Continued</td>\n",
       "      <td>0</td>\n",
       "    </tr>\n",
       "    <tr>\n",
       "      <th>25096</th>\n",
       "      <td>0101000020E6100000344ACB0F84C952C0A823E214C4F74340</td>\n",
       "      <td>0101000020110F00001C482A5972E95FC17F8016A8C5865241</td>\n",
       "      <td>54121</td>\n",
       "      <td>128584849.0</td>\n",
       "      <td>925 S 3RD ST</td>\n",
       "      <td>NaN</td>\n",
       "      <td>NaN</td>\n",
       "      <td>19147-4238</td>\n",
       "      <td>21403910.0</td>\n",
       "      <td>144296</td>\n",
       "      <td>...</td>\n",
       "      <td>NaN</td>\n",
       "      <td>NaN</td>\n",
       "      <td>2020-09-14 16:42:10</td>\n",
       "      <td>ECLIPSE</td>\n",
       "      <td>2.697870e+06</td>\n",
       "      <td>230166.748507</td>\n",
       "      <td>39.935671</td>\n",
       "      <td>-75.148685</td>\n",
       "      <td>Continued</td>\n",
       "      <td>0</td>\n",
       "    </tr>\n",
       "    <tr>\n",
       "      <th>25252</th>\n",
       "      <td>0101000020E6100000DCB07AA8FDC952C08DCE794002FA4340</td>\n",
       "      <td>0101000020110F0000338D5EE440EA5FC18F8546B641895241</td>\n",
       "      <td>54159</td>\n",
       "      <td>128762194.0</td>\n",
       "      <td>43 N 10TH ST</td>\n",
       "      <td>NaN</td>\n",
       "      <td>NaN</td>\n",
       "      <td>19107-1311</td>\n",
       "      <td>883704410.0</td>\n",
       "      <td>336648</td>\n",
       "      <td>...</td>\n",
       "      <td>NaN</td>\n",
       "      <td>NaN</td>\n",
       "      <td>2020-05-14 09:46:22</td>\n",
       "      <td>ECLIPSE</td>\n",
       "      <td>2.695602e+06</td>\n",
       "      <td>236485.840297</td>\n",
       "      <td>39.953194</td>\n",
       "      <td>-75.156107</td>\n",
       "      <td>Dismissed / Withdrawn</td>\n",
       "      <td>0</td>\n",
       "    </tr>\n",
       "  </tbody>\n",
       "</table>\n",
       "<p>6 rows × 39 columns</p>\n",
       "</div>"
      ],
      "text/plain": [
       "                                                 the_geom  \\\n",
       "23290  0101000020E610000078EC83545CCB52C0FCF5F84046F84340   \n",
       "23456  0101000020E6100000ADFD74DAEBBD52C002EB9FFD050B4440   \n",
       "23711  0101000020E6100000626DE93412CC52C084945E7172FD4340   \n",
       "24427  0101000020E61000008E77029EC0CB52C06B89357ADFFD4340   \n",
       "25096  0101000020E6100000344ACB0F84C952C0A823E214C4F74340   \n",
       "25252  0101000020E6100000DCB07AA8FDC952C08DCE794002FA4340   \n",
       "\n",
       "                                     the_geom_webmercator  objectid  \\\n",
       "23290  0101000020110F000086CB348B94EC5FC1F9FF40D855875241     52899   \n",
       "23456  0101000020110F00000F68388CC0D55FC1D33B053D209C5241     52800   \n",
       "23711  0101000020110F0000D998B97AC9ED5FC1915F8C16118D5241     52393   \n",
       "24427  0101000020110F0000F84438E43EED5FC147AFC0F0898D5241     53082   \n",
       "25096  0101000020110F00001C482A5972E95FC17F8016A8C5865241     54121   \n",
       "25252  0101000020110F0000338D5EE440EA5FC18F8546B641895241     54159   \n",
       "\n",
       "       addressobjectid              address unit_type unit_num         zip  \\\n",
       "23290       15696117.0  2031 WASHINGTON AVE       NaN      NaN  19146-2632   \n",
       "23456      159412601.0    4501 WOODHAVEN RD         #       1B  19154-3145   \n",
       "23711       15830744.0       1501 N 33RD ST       NaN      NaN  19121-3513   \n",
       "24427      136875946.0     3008 CLIFFORD ST       NaN      NaN  19121-2503   \n",
       "25096      128584849.0         925 S 3RD ST       NaN      NaN  19147-4238   \n",
       "25252      128762194.0         43 N 10TH ST       NaN      NaN  19107-1311   \n",
       "\n",
       "       opa_account_num parcel_id_num  ...  meetingresult proviso  \\\n",
       "23290      884006315.0        137226  ...            NaN     NaN   \n",
       "23456      882691010.0        495596  ...            NaN     NaN   \n",
       "23711      292315605.0         90942  ...            NaN     NaN   \n",
       "24427      884460495.0        529385  ...            NaN     NaN   \n",
       "25096       21403910.0        144296  ...            NaN     NaN   \n",
       "25252      883704410.0        336648  ...            NaN     NaN   \n",
       "\n",
       "             decisiondate systemofrecord     geocode_x      geocode_y  \\\n",
       "23290 2020-06-30 18:49:58        ECLIPSE  2.689748e+06  231376.510551   \n",
       "23456 2020-07-16 12:10:37        ECLIPSE  2.746923e+06  286493.835007   \n",
       "23711 2020-09-30 17:01:36        ECLIPSE  2.686209e+06  246000.873419   \n",
       "24427 2020-08-21 11:34:37        ECLIPSE  2.687569e+06  247253.010811   \n",
       "25096 2020-09-14 16:42:10        ECLIPSE  2.697870e+06  230166.748507   \n",
       "25252 2020-05-14 09:46:22        ECLIPSE  2.695602e+06  236485.840297   \n",
       "\n",
       "             lat        lng             decisionsv provFlag  \n",
       "23290  39.939644 -75.177510              Continued        0  \n",
       "23456  40.086120 -74.967520  Dismissed / Withdrawn        0  \n",
       "23711  39.980055 -75.188611              Continued        0  \n",
       "24427  39.983382 -75.183631              Continued        0  \n",
       "25096  39.935671 -75.148685              Continued        0  \n",
       "25252  39.953194 -75.156107  Dismissed / Withdrawn        0  \n",
       "\n",
       "[6 rows x 39 columns]"
      ]
     },
     "execution_count": 44,
     "metadata": {},
     "output_type": "execute_result"
    }
   ],
   "source": [
    "df[(df['systemofrecord']=='ECLIPSE') & (df['decision'].isnull() == False) & (df['meetingresult'].isnull() == True)]"
   ]
  },
  {
   "cell_type": "markdown",
   "metadata": {},
   "source": [
    "It appears that there are two system of records. \n",
    "- HANSEN records have value of \"decision\" in upper case and have null valuye for \"meetingresult\"\n",
    "- ECLIPSE records have value of \"decision\" in lower case and except for 8 records have additional value in the \"meetingresult\" column."
   ]
  },
  {
   "cell_type": "code",
   "execution_count": 45,
   "metadata": {},
   "outputs": [
    {
     "data": {
      "text/html": [
       "<div>\n",
       "<style scoped>\n",
       "    .dataframe tbody tr th:only-of-type {\n",
       "        vertical-align: middle;\n",
       "    }\n",
       "\n",
       "    .dataframe tbody tr th {\n",
       "        vertical-align: top;\n",
       "    }\n",
       "\n",
       "    .dataframe thead th {\n",
       "        text-align: right;\n",
       "    }\n",
       "</style>\n",
       "<table border=\"1\" class=\"dataframe\">\n",
       "  <thead>\n",
       "    <tr style=\"text-align: right;\">\n",
       "      <th></th>\n",
       "    </tr>\n",
       "  </thead>\n",
       "  <tbody>\n",
       "    <tr>\n",
       "      <th>the_geom</th>\n",
       "    </tr>\n",
       "    <tr>\n",
       "      <th>the_geom_webmercator</th>\n",
       "    </tr>\n",
       "    <tr>\n",
       "      <th>objectid</th>\n",
       "    </tr>\n",
       "    <tr>\n",
       "      <th>addressobjectid</th>\n",
       "    </tr>\n",
       "    <tr>\n",
       "      <th>address</th>\n",
       "    </tr>\n",
       "    <tr>\n",
       "      <th>unit_type</th>\n",
       "    </tr>\n",
       "    <tr>\n",
       "      <th>unit_num</th>\n",
       "    </tr>\n",
       "    <tr>\n",
       "      <th>zip</th>\n",
       "    </tr>\n",
       "    <tr>\n",
       "      <th>opa_account_num</th>\n",
       "    </tr>\n",
       "    <tr>\n",
       "      <th>parcel_id_num</th>\n",
       "    </tr>\n",
       "    <tr>\n",
       "      <th>censustract</th>\n",
       "    </tr>\n",
       "    <tr>\n",
       "      <th>opa_owner</th>\n",
       "    </tr>\n",
       "    <tr>\n",
       "      <th>primaryappellant</th>\n",
       "    </tr>\n",
       "    <tr>\n",
       "      <th>appellanttype</th>\n",
       "    </tr>\n",
       "    <tr>\n",
       "      <th>internaljobid</th>\n",
       "    </tr>\n",
       "    <tr>\n",
       "      <th>appealnumber</th>\n",
       "    </tr>\n",
       "    <tr>\n",
       "      <th>acceleratedappeal</th>\n",
       "    </tr>\n",
       "    <tr>\n",
       "      <th>createddate</th>\n",
       "    </tr>\n",
       "    <tr>\n",
       "      <th>completeddate</th>\n",
       "    </tr>\n",
       "    <tr>\n",
       "      <th>relatedpermit</th>\n",
       "    </tr>\n",
       "    <tr>\n",
       "      <th>relatedcasefile</th>\n",
       "    </tr>\n",
       "    <tr>\n",
       "      <th>appealstatus</th>\n",
       "    </tr>\n",
       "    <tr>\n",
       "      <th>appealtype</th>\n",
       "    </tr>\n",
       "    <tr>\n",
       "      <th>agendadescription</th>\n",
       "    </tr>\n",
       "    <tr>\n",
       "      <th>applicationtype</th>\n",
       "    </tr>\n",
       "    <tr>\n",
       "      <th>meetingnumber</th>\n",
       "    </tr>\n",
       "    <tr>\n",
       "      <th>appealgrounds</th>\n",
       "    </tr>\n",
       "    <tr>\n",
       "      <th>scheduleddate</th>\n",
       "    </tr>\n",
       "    <tr>\n",
       "      <th>decision</th>\n",
       "    </tr>\n",
       "    <tr>\n",
       "      <th>meetingresult</th>\n",
       "    </tr>\n",
       "    <tr>\n",
       "      <th>proviso</th>\n",
       "    </tr>\n",
       "    <tr>\n",
       "      <th>decisiondate</th>\n",
       "    </tr>\n",
       "    <tr>\n",
       "      <th>systemofrecord</th>\n",
       "    </tr>\n",
       "    <tr>\n",
       "      <th>geocode_x</th>\n",
       "    </tr>\n",
       "    <tr>\n",
       "      <th>geocode_y</th>\n",
       "    </tr>\n",
       "    <tr>\n",
       "      <th>lat</th>\n",
       "    </tr>\n",
       "    <tr>\n",
       "      <th>lng</th>\n",
       "    </tr>\n",
       "    <tr>\n",
       "      <th>decisionsv</th>\n",
       "    </tr>\n",
       "    <tr>\n",
       "      <th>provFlag</th>\n",
       "    </tr>\n",
       "  </tbody>\n",
       "</table>\n",
       "</div>"
      ],
      "text/plain": [
       "Empty DataFrame\n",
       "Columns: []\n",
       "Index: [the_geom, the_geom_webmercator, objectid, addressobjectid, address, unit_type, unit_num, zip, opa_account_num, parcel_id_num, censustract, opa_owner, primaryappellant, appellanttype, internaljobid, appealnumber, acceleratedappeal, createddate, completeddate, relatedpermit, relatedcasefile, appealstatus, appealtype, agendadescription, applicationtype, meetingnumber, appealgrounds, scheduleddate, decision, meetingresult, proviso, decisiondate, systemofrecord, geocode_x, geocode_y, lat, lng, decisionsv, provFlag]"
      ]
     },
     "execution_count": 45,
     "metadata": {},
     "output_type": "execute_result"
    }
   ],
   "source": [
    "df[(df['decision']=='AFFIRMED') & (~df['proviso'].isnull())].head(2).T"
   ]
  },
  {
   "cell_type": "code",
   "execution_count": 46,
   "metadata": {},
   "outputs": [
    {
     "data": {
      "text/plain": [
       "CLOSED                   14331\n",
       "OPEN                     12060\n",
       "In Process                 291\n",
       "Completed                   75\n",
       "Waiting Period              20\n",
       "Dismissed / Withdrawn        7\n",
       "Closed                       1\n",
       "Prepare Meeting              1\n",
       "Name: appealstatus, dtype: int64"
      ]
     },
     "execution_count": 46,
     "metadata": {},
     "output_type": "execute_result"
    }
   ],
   "source": [
    "df['appealstatus'].value_counts()"
   ]
  },
  {
   "cell_type": "code",
   "execution_count": 47,
   "metadata": {},
   "outputs": [
    {
     "data": {
      "text/plain": [
       "granted         9542\n",
       "dismissed       2291\n",
       "denied          1360\n",
       "approved         899\n",
       "affirmed         101\n",
       "moot              84\n",
       "complete          75\n",
       "sustained         16\n",
       "admin/review      11\n",
       "continued          8\n",
       "newhearnot         8\n",
       "held/info          5\n",
       "boardaknowl        5\n",
       "refused            3\n",
       "revised            2\n",
       "late-denied        1\n",
       "held               1\n",
       "issued             1\n",
       "remand             1\n",
       "Name: decision, dtype: int64"
      ]
     },
     "execution_count": 47,
     "metadata": {},
     "output_type": "execute_result"
    }
   ],
   "source": [
    "df[df['appealstatus'].isin(['CLOSED','Completed','Dismissed / Withdrawn','Closed'])]['decision'].value_counts()"
   ]
  },
  {
   "cell_type": "code",
   "execution_count": 48,
   "metadata": {},
   "outputs": [
    {
     "data": {
      "text/html": [
       "<div>\n",
       "<style scoped>\n",
       "    .dataframe tbody tr th:only-of-type {\n",
       "        vertical-align: middle;\n",
       "    }\n",
       "\n",
       "    .dataframe tbody tr th {\n",
       "        vertical-align: top;\n",
       "    }\n",
       "\n",
       "    .dataframe thead th {\n",
       "        text-align: right;\n",
       "    }\n",
       "</style>\n",
       "<table border=\"1\" class=\"dataframe\">\n",
       "  <thead>\n",
       "    <tr style=\"text-align: right;\">\n",
       "      <th></th>\n",
       "      <th>appealstatus</th>\n",
       "      <th>appellanttype</th>\n",
       "      <th>createddate</th>\n",
       "      <th>agendadescription</th>\n",
       "      <th>decision</th>\n",
       "      <th>decisiondate</th>\n",
       "    </tr>\n",
       "  </thead>\n",
       "  <tbody>\n",
       "  </tbody>\n",
       "</table>\n",
       "</div>"
      ],
      "text/plain": [
       "Empty DataFrame\n",
       "Columns: [appealstatus, appellanttype, createddate, agendadescription, decision, decisiondate]\n",
       "Index: []"
      ]
     },
     "execution_count": 48,
     "metadata": {},
     "output_type": "execute_result"
    }
   ],
   "source": [
    "df[df['decision'].isna() ][['appealstatus','appellanttype','createddate','agendadescription','decision','decisiondate']]"
   ]
  },
  {
   "cell_type": "code",
   "execution_count": 49,
   "metadata": {},
   "outputs": [
    {
     "data": {
      "text/plain": [
       "0.0"
      ]
     },
     "execution_count": 49,
     "metadata": {},
     "output_type": "execute_result"
    }
   ],
   "source": [
    "#df.nunique()/df.shape[0]\n",
    "df[df['decision'].isna()].shape[0]/df.shape[0]"
   ]
  },
  {
   "cell_type": "code",
   "execution_count": 50,
   "metadata": {},
   "outputs": [
    {
     "data": {
      "text/html": [
       "<div>\n",
       "<style scoped>\n",
       "    .dataframe tbody tr th:only-of-type {\n",
       "        vertical-align: middle;\n",
       "    }\n",
       "\n",
       "    .dataframe tbody tr th {\n",
       "        vertical-align: top;\n",
       "    }\n",
       "\n",
       "    .dataframe thead th {\n",
       "        text-align: right;\n",
       "    }\n",
       "</style>\n",
       "<table border=\"1\" class=\"dataframe\">\n",
       "  <thead>\n",
       "    <tr style=\"text-align: right;\">\n",
       "      <th></th>\n",
       "      <th>min</th>\n",
       "      <th>max</th>\n",
       "      <th>mean</th>\n",
       "    </tr>\n",
       "  </thead>\n",
       "  <tbody>\n",
       "    <tr>\n",
       "      <th>lat</th>\n",
       "      <td>39.880338</td>\n",
       "      <td>40.137052</td>\n",
       "      <td>39.984493</td>\n",
       "    </tr>\n",
       "    <tr>\n",
       "      <th>lng</th>\n",
       "      <td>-75.274212</td>\n",
       "      <td>-74.961283</td>\n",
       "      <td>-75.153706</td>\n",
       "    </tr>\n",
       "  </tbody>\n",
       "</table>\n",
       "</div>"
      ],
      "text/plain": [
       "           min        max       mean\n",
       "lat  39.880338  40.137052  39.984493\n",
       "lng -75.274212 -74.961283 -75.153706"
      ]
     },
     "execution_count": 50,
     "metadata": {},
     "output_type": "execute_result"
    }
   ],
   "source": [
    "df[['lat','lng']].agg([min,max, 'mean']).T"
   ]
  },
  {
   "cell_type": "code",
   "execution_count": 51,
   "metadata": {},
   "outputs": [],
   "source": [
    "#Save Philadelphia Center City Latitude and Longitude.\n",
    "ccLat = 39.952583\n",
    "ccLng = -75.165222"
   ]
  },
  {
   "cell_type": "code",
   "execution_count": 52,
   "metadata": {},
   "outputs": [],
   "source": [
    "#create \"distance\" from center city \n",
    "df['fromCC'] = ((df['lat']-ccLat)**2 + (df['lng']-ccLng)**2)**0.5\n",
    "df['latfromCC']=df['lat']-ccLat\n",
    "df['lngfromCC']=df['lng']-ccLng"
   ]
  },
  {
   "cell_type": "code",
   "execution_count": 53,
   "metadata": {},
   "outputs": [
    {
     "data": {
      "text/plain": [
       "max    0.252279\n",
       "min    0.000070\n",
       "Name: fromCC, dtype: float64"
      ]
     },
     "execution_count": 53,
     "metadata": {},
     "output_type": "execute_result"
    }
   ],
   "source": [
    "df['fromCC'].agg(['max','min'])"
   ]
  },
  {
   "cell_type": "code",
   "execution_count": 54,
   "metadata": {},
   "outputs": [
    {
     "data": {
      "text/html": [
       "<div>\n",
       "<style scoped>\n",
       "    .dataframe tbody tr th:only-of-type {\n",
       "        vertical-align: middle;\n",
       "    }\n",
       "\n",
       "    .dataframe tbody tr th {\n",
       "        vertical-align: top;\n",
       "    }\n",
       "\n",
       "    .dataframe thead th {\n",
       "        text-align: right;\n",
       "    }\n",
       "</style>\n",
       "<table border=\"1\" class=\"dataframe\">\n",
       "  <thead>\n",
       "    <tr style=\"text-align: right;\">\n",
       "      <th></th>\n",
       "      <th>lat</th>\n",
       "      <th>geocode_y</th>\n",
       "    </tr>\n",
       "  </thead>\n",
       "  <tbody>\n",
       "    <tr>\n",
       "      <th>lat</th>\n",
       "      <td>1.000000</td>\n",
       "      <td>0.999753</td>\n",
       "    </tr>\n",
       "    <tr>\n",
       "      <th>geocode_y</th>\n",
       "      <td>0.999753</td>\n",
       "      <td>1.000000</td>\n",
       "    </tr>\n",
       "  </tbody>\n",
       "</table>\n",
       "</div>"
      ],
      "text/plain": [
       "                lat  geocode_y\n",
       "lat        1.000000   0.999753\n",
       "geocode_y  0.999753   1.000000"
      ]
     },
     "execution_count": 54,
     "metadata": {},
     "output_type": "execute_result"
    }
   ],
   "source": [
    "df[['lat','geocode_y']].corr()"
   ]
  },
  {
   "cell_type": "code",
   "execution_count": 55,
   "metadata": {},
   "outputs": [
    {
     "data": {
      "text/html": [
       "<div>\n",
       "<style scoped>\n",
       "    .dataframe tbody tr th:only-of-type {\n",
       "        vertical-align: middle;\n",
       "    }\n",
       "\n",
       "    .dataframe tbody tr th {\n",
       "        vertical-align: top;\n",
       "    }\n",
       "\n",
       "    .dataframe thead th {\n",
       "        text-align: right;\n",
       "    }\n",
       "</style>\n",
       "<table border=\"1\" class=\"dataframe\">\n",
       "  <thead>\n",
       "    <tr style=\"text-align: right;\">\n",
       "      <th></th>\n",
       "      <th>lng</th>\n",
       "      <th>geocode_x</th>\n",
       "    </tr>\n",
       "  </thead>\n",
       "  <tbody>\n",
       "    <tr>\n",
       "      <th>lng</th>\n",
       "      <td>1.000000</td>\n",
       "      <td>0.999597</td>\n",
       "    </tr>\n",
       "    <tr>\n",
       "      <th>geocode_x</th>\n",
       "      <td>0.999597</td>\n",
       "      <td>1.000000</td>\n",
       "    </tr>\n",
       "  </tbody>\n",
       "</table>\n",
       "</div>"
      ],
      "text/plain": [
       "                lng  geocode_x\n",
       "lng        1.000000   0.999597\n",
       "geocode_x  0.999597   1.000000"
      ]
     },
     "execution_count": 55,
     "metadata": {},
     "output_type": "execute_result"
    }
   ],
   "source": [
    "df[['lng','geocode_x']].corr()"
   ]
  },
  {
   "cell_type": "code",
   "execution_count": 56,
   "metadata": {},
   "outputs": [
    {
     "data": {
      "text/plain": [
       "<matplotlib.axes._subplots.AxesSubplot at 0x2229427a6c8>"
      ]
     },
     "execution_count": 56,
     "metadata": {},
     "output_type": "execute_result"
    },
    {
     "data": {
      "image/png": "[encoded data removed]",
      "text/plain": [
       "<Figure size 576x396 with 1 Axes>"
      ]
     },
     "metadata": {},
     "output_type": "display_data"
    }
   ],
   "source": [
    "df.plot.scatter('geocode_x','geocode_y')"
   ]
  },
  {
   "cell_type": "code",
   "execution_count": 86,
   "metadata": {},
   "outputs": [],
   "source": [
    "try:\n",
    "    os.mkdir('images')\n",
    "except:\n",
    "    print('directory already exists')"
   ]
  },
  {
   "cell_type": "code",
   "execution_count": 89,
   "metadata": {},
   "outputs": [
    {
     "data": {
      "image/png": "[encoded data removed]",
      "text/plain": [
       "<Figure size 1080x720 with 1 Axes>"
      ]
     },
     "metadata": {
      "needs_background": "light"
     },
     "output_type": "display_data"
    }
   ],
   "source": [
    "plt.axes\n",
    "plt.figure(figsize=(15,10))\n",
    "plt.title('Appeals Map', size=24)\n",
    "plt.rc('font', size=24)\n",
    "\n",
    "for decision in df['decision'].unique():\n",
    "    dfscat = df[df['decision'] == decision]\n",
    "    plt.scatter(dfscat['lng'], dfscat['lat'], marker = 'o', label = decision)\n",
    "    \n",
    "plt.grid('on')\n",
    "plt.legend()\n",
    "plt.rc('font', size=18)\n",
    "plt.savefig('images/appeals_map.png',bbox_inches='tight')\n",
    "plt.show()\n"
   ]
  },
  {
   "cell_type": "code",
   "execution_count": 60,
   "metadata": {},
   "outputs": [
    {
     "data": {
      "text/plain": [
       "<matplotlib.axes._subplots.AxesSubplot at 0x22294501a48>"
      ]
     },
     "execution_count": 60,
     "metadata": {},
     "output_type": "execute_result"
    },
    {
     "data": {
      "image/png": "[encoded data removed]",
      "text/plain": [
       "<Figure size 576x396 with 1 Axes>"
      ]
     },
     "metadata": {},
     "output_type": "display_data"
    }
   ],
   "source": [
    "#Distance from CC\n",
    "df['fromCC'].hist()"
   ]
  },
  {
   "cell_type": "code",
   "execution_count": 61,
   "metadata": {},
   "outputs": [
    {
     "data": {
      "text/plain": [
       "<matplotlib.axes._subplots.AxesSubplot at 0x22294583f08>"
      ]
     },
     "execution_count": 61,
     "metadata": {},
     "output_type": "execute_result"
    },
    {
     "data": {
      "image/png": "[encoded data removed]",
      "text/plain": [
       "<Figure size 576x396 with 1 Axes>"
      ]
     },
     "metadata": {},
     "output_type": "display_data"
    }
   ],
   "source": [
    "#Longtitude from CC\n",
    "df['lngfromCC'].hist()"
   ]
  },
  {
   "cell_type": "code",
   "execution_count": 62,
   "metadata": {},
   "outputs": [
    {
     "data": {
      "text/plain": [
       "<matplotlib.axes._subplots.AxesSubplot at 0x22294c5e988>"
      ]
     },
     "execution_count": 62,
     "metadata": {},
     "output_type": "execute_result"
    },
    {
     "data": {
      "image/png": "[encoded data removed]",
      "text/plain": [
       "<Figure size 576x396 with 1 Axes>"
      ]
     },
     "metadata": {},
     "output_type": "display_data"
    }
   ],
   "source": [
    "#Latitude from CC\n",
    "df['latfromCC'].hist()"
   ]
  },
  {
   "cell_type": "markdown",
   "metadata": {},
   "source": [
    "### myMetrics Function for model testing"
   ]
  },
  {
   "cell_type": "code",
   "execution_count": 63,
   "metadata": {},
   "outputs": [],
   "source": [
    "# Create metrics function to check metrics for different models\n",
    "\n",
    "def myMetrics(model=None, features=None, X_test=None, y_true_test=None, X_train=None, y_true_train=None):\n",
    "    \n",
    "    hypertablerow={}\n",
    "    hypertablerow['model']=model.__class__.__name__\n",
    "    hypertablerow['features']=features\n",
    "\n",
    "    X_train_temp = X_train[features]\n",
    "    X_test_temp = X_test[features]  \n",
    "    print(X_train_temp.columns)\n",
    "    model.fit(X_train_temp,y_train)\n",
    "    \n",
    "    y_pred_test = model.predict(X_test_temp)\n",
    "    y_pred_train = model.predict(X_train_temp)\n",
    "\n",
    "\n",
    "    # Accuracy\n",
    "    hypertablerow['accuracy_test'] = metrics.accuracy_score(y_true_test, y_pred_test)\n",
    "    print('accuracy_test', hypertablerow['accuracy_test'])\n",
    "    hypertablerow['accuracy_train'] = metrics.accuracy_score(y_true_train, y_pred_train)\n",
    "    print('accuracy_train', hypertablerow['accuracy_train'])\n",
    "    # Precision\n",
    "    hypertablerow['precision_test'] = metrics.precision_score(y_true_test, y_pred_test, average = 'weighted')\n",
    "    #print('precision_test', hypertablerow['precision_test'])\n",
    "    hypertablerow['precision_train'] = metrics.precision_score(y_true_train, y_pred_train, average = 'weighted')\n",
    "    #print('precision_train', hypertablerow['precision_train'])\n",
    "    # Recall\n",
    "    hypertablerow['recall_test'] = metrics.recall_score(y_true_test, y_pred_test, average = 'weighted')\n",
    "    #print('recall_test', hypertablerow['recall_test'])\n",
    "    hypertablerow['recall_train'] = metrics.recall_score(y_true_train, y_pred_train, average = 'weighted')\n",
    "    #print('recall_train', hypertablerow['recall_train'])\n",
    "\n",
    "    hypertable.append(hypertablerow)\n",
    "    pd.Series(hypertablerow)\n",
    "    return hypertablerow"
   ]
  },
  {
   "cell_type": "code",
   "execution_count": 64,
   "metadata": {},
   "outputs": [
    {
     "data": {
      "text/plain": [
       "Index(['the_geom', 'the_geom_webmercator', 'objectid', 'addressobjectid',\n",
       "       'address', 'unit_type', 'unit_num', 'zip', 'opa_account_num',\n",
       "       'parcel_id_num', 'censustract', 'opa_owner', 'primaryappellant',\n",
       "       'appellanttype', 'internaljobid', 'appealnumber', 'acceleratedappeal',\n",
       "       'createddate', 'completeddate', 'relatedpermit', 'relatedcasefile',\n",
       "       'appealstatus', 'appealtype', 'agendadescription', 'applicationtype',\n",
       "       'meetingnumber', 'appealgrounds', 'scheduleddate', 'decision',\n",
       "       'meetingresult', 'proviso', 'decisiondate', 'systemofrecord',\n",
       "       'geocode_x', 'geocode_y', 'lat', 'lng', 'decisionsv', 'provFlag',\n",
       "       'fromCC', 'latfromCC', 'lngfromCC', 'ECLIPSE', 'HANSEN'],\n",
       "      dtype='object')"
      ]
     },
     "execution_count": 64,
     "metadata": {},
     "output_type": "execute_result"
    }
   ],
   "source": [
    "# Create \"dummy\" variables for systemofrecord columns\n",
    "df = pd.concat([df, pd.get_dummies(df['systemofrecord'])], axis=1)\n",
    "df.columns"
   ]
  },
  {
   "cell_type": "code",
   "execution_count": 65,
   "metadata": {},
   "outputs": [],
   "source": [
    "# Declare an explanatory variable, and assign some data to it \n",
    "#X = df[['ECLIPSE', 'HANSEN']]\n",
    "X = df.drop(['decision'], axis=1)\n",
    "\n",
    "# Declare a response variable, the decision column of the df \n",
    "y = df['decision'] "
   ]
  },
  {
   "cell_type": "code",
   "execution_count": 66,
   "metadata": {},
   "outputs": [],
   "source": [
    "# import the preprocessing package\n",
    "from sklearn import preprocessing\n",
    "\n",
    "# Call the train_test_split() function\n",
    "# Declare four variables, X_train, X_test, y_train and y_test separated by commas \n",
    "X_train, X_test, y_train, y_test = train_test_split(X, y, test_size=0.25, random_state=1)"
   ]
  },
  {
   "cell_type": "code",
   "execution_count": 67,
   "metadata": {},
   "outputs": [
    {
     "name": "stdout",
     "output_type": "stream",
     "text": [
      "Index(['ECLIPSE', 'HANSEN'], dtype='object')\n",
      "accuracy_test 0.5575630879498282\n",
      "accuracy_train 0.5629946737020259\n"
     ]
    },
    {
     "name": "stderr",
     "output_type": "stream",
     "text": [
      "C:\\ProgramData\\Anaconda3\\lib\\site-packages\\sklearn\\metrics\\_classification.py:1272: UndefinedMetricWarning: Precision is ill-defined and being set to 0.0 in labels with no predicted samples. Use `zero_division` parameter to control this behavior.\n",
      "  _warn_prf(average, modifier, msg_start, len(result))\n"
     ]
    }
   ],
   "source": [
    "from sklearn import svm\n",
    "model = svm.LinearSVC() # Linear Kernel\n",
    "features=['ECLIPSE', 'HANSEN']\n",
    "hypertablerow = myMetrics(model=model,features=features,X_train=X_train,y_true_train=y_train,X_test=X_test,y_true_test=y_test)"
   ]
  },
  {
   "cell_type": "code",
   "execution_count": 68,
   "metadata": {},
   "outputs": [
    {
     "name": "stdout",
     "output_type": "stream",
     "text": [
      "Index(['ECLIPSE', 'HANSEN', 'fromCC', 'latfromCC', 'lngfromCC'], dtype='object')\n",
      "accuracy_test 0.5575630879498282\n",
      "accuracy_train 0.5629946737020259\n"
     ]
    },
    {
     "name": "stderr",
     "output_type": "stream",
     "text": [
      "C:\\ProgramData\\Anaconda3\\lib\\site-packages\\sklearn\\metrics\\_classification.py:1272: UndefinedMetricWarning: Precision is ill-defined and being set to 0.0 in labels with no predicted samples. Use `zero_division` parameter to control this behavior.\n",
      "  _warn_prf(average, modifier, msg_start, len(result))\n"
     ]
    }
   ],
   "source": [
    "model = svm.LinearSVC() # Linear Kernel\n",
    "features=['ECLIPSE', 'HANSEN','fromCC', 'latfromCC', 'lngfromCC']\n",
    "hypertablerow = myMetrics(model=model,features=features,X_train=X_train,y_true_train=y_train,X_test=X_test,y_true_test=y_test)"
   ]
  },
  {
   "cell_type": "code",
   "execution_count": 69,
   "metadata": {},
   "outputs": [
    {
     "name": "stdout",
     "output_type": "stream",
     "text": [
      "Index(['ECLIPSE', 'HANSEN', 'fromCC', 'latfromCC', 'lngfromCC'], dtype='object')\n",
      "accuracy_test 0.5575630879498282\n",
      "accuracy_train 0.5629946737020259\n"
     ]
    },
    {
     "name": "stderr",
     "output_type": "stream",
     "text": [
      "C:\\ProgramData\\Anaconda3\\lib\\site-packages\\sklearn\\metrics\\_classification.py:1272: UndefinedMetricWarning: Precision is ill-defined and being set to 0.0 in labels with no predicted samples. Use `zero_division` parameter to control this behavior.\n",
      "  _warn_prf(average, modifier, msg_start, len(result))\n"
     ]
    }
   ],
   "source": [
    "model = svm.LinearSVC() # Linear Kernel\n",
    "features=['ECLIPSE', 'HANSEN','fromCC', 'latfromCC', 'lngfromCC']\n",
    "hypertablerow = myMetrics(model=model,features=features,X_train=X_train,y_true_train=y_train,X_test=X_test,y_true_test=y_test)"
   ]
  },
  {
   "cell_type": "code",
   "execution_count": 70,
   "metadata": {},
   "outputs": [
    {
     "name": "stdout",
     "output_type": "stream",
     "text": [
      "Index(['ECLIPSE', 'fromCC', 'latfromCC', 'lngfromCC'], dtype='object')\n",
      "accuracy_test 0.5575630879498282\n",
      "accuracy_train 0.5629946737020259\n"
     ]
    },
    {
     "name": "stderr",
     "output_type": "stream",
     "text": [
      "C:\\ProgramData\\Anaconda3\\lib\\site-packages\\sklearn\\metrics\\_classification.py:1272: UndefinedMetricWarning: Precision is ill-defined and being set to 0.0 in labels with no predicted samples. Use `zero_division` parameter to control this behavior.\n",
      "  _warn_prf(average, modifier, msg_start, len(result))\n"
     ]
    }
   ],
   "source": [
    "model = svm.LinearSVC() # Linear Kernel\n",
    "features=['ECLIPSE','fromCC', 'latfromCC', 'lngfromCC']\n",
    "hypertablerow = myMetrics(model=model,features=features,X_train=X_train,y_true_train=y_train,X_test=X_test,y_true_test=y_test)"
   ]
  },
  {
   "cell_type": "code",
   "execution_count": 71,
   "metadata": {},
   "outputs": [
    {
     "name": "stdout",
     "output_type": "stream",
     "text": [
      "Index(['ECLIPSE', 'fromCC', 'latfromCC', 'lngfromCC', 'censustract'], dtype='object')\n"
     ]
    },
    {
     "name": "stderr",
     "output_type": "stream",
     "text": [
      "C:\\ProgramData\\Anaconda3\\lib\\site-packages\\sklearn\\svm\\_base.py:947: ConvergenceWarning: Liblinear failed to converge, increase the number of iterations.\n",
      "  \"the number of iterations.\", ConvergenceWarning)\n",
      "C:\\ProgramData\\Anaconda3\\lib\\site-packages\\sklearn\\metrics\\_classification.py:1272: UndefinedMetricWarning: Precision is ill-defined and being set to 0.0 in labels with no predicted samples. Use `zero_division` parameter to control this behavior.\n",
      "  _warn_prf(average, modifier, msg_start, len(result))\n"
     ]
    },
    {
     "name": "stdout",
     "output_type": "stream",
     "text": [
      "accuracy_test 0.1648499328057339\n",
      "accuracy_train 0.16302454079346906\n"
     ]
    },
    {
     "name": "stderr",
     "output_type": "stream",
     "text": [
      "C:\\ProgramData\\Anaconda3\\lib\\site-packages\\sklearn\\metrics\\_classification.py:1272: UndefinedMetricWarning: Recall is ill-defined and being set to 0.0 in labels with no true samples. Use `zero_division` parameter to control this behavior.\n",
      "  _warn_prf(average, modifier, msg_start, len(result))\n"
     ]
    }
   ],
   "source": [
    "model = svm.LinearSVC() # Linear Kernel\n",
    "features=['ECLIPSE','fromCC', 'latfromCC', 'lngfromCC', 'censustract']\n",
    "hypertablerow = myMetrics(model=model,features=features,X_train=X_train,y_true_train=y_train,X_test=X_test,y_true_test=y_test)"
   ]
  },
  {
   "cell_type": "code",
   "execution_count": 72,
   "metadata": {},
   "outputs": [
    {
     "name": "stdout",
     "output_type": "stream",
     "text": [
      "Index(['ECLIPSE', 'HANSEN', 'fromCC', 'latfromCC', 'lngfromCC'], dtype='object')\n",
      "accuracy_test 0.5575630879498282\n",
      "accuracy_train 0.5629946737020259\n"
     ]
    },
    {
     "name": "stderr",
     "output_type": "stream",
     "text": [
      "C:\\ProgramData\\Anaconda3\\lib\\site-packages\\sklearn\\metrics\\_classification.py:1272: UndefinedMetricWarning: Precision is ill-defined and being set to 0.0 in labels with no predicted samples. Use `zero_division` parameter to control this behavior.\n",
      "  _warn_prf(average, modifier, msg_start, len(result))\n"
     ]
    }
   ],
   "source": [
    "model = svm.SVC(kernel='linear') # Linear Kernel\n",
    "features=['ECLIPSE', 'HANSEN','fromCC', 'latfromCC', 'lngfromCC']\n",
    "hypertablerow = myMetrics(model=model,features=features,X_train=X_train,y_true_train=y_train,X_test=X_test,y_true_test=y_test)"
   ]
  },
  {
   "cell_type": "code",
   "execution_count": 73,
   "metadata": {},
   "outputs": [
    {
     "name": "stdout",
     "output_type": "stream",
     "text": [
      "Index(['ECLIPSE', 'HANSEN', 'fromCC', 'latfromCC', 'lngfromCC'], dtype='object')\n",
      "accuracy_test 0.5575630879498282\n",
      "accuracy_train 0.5629946737020259\n"
     ]
    },
    {
     "name": "stderr",
     "output_type": "stream",
     "text": [
      "C:\\ProgramData\\Anaconda3\\lib\\site-packages\\sklearn\\metrics\\_classification.py:1272: UndefinedMetricWarning: Precision is ill-defined and being set to 0.0 in labels with no predicted samples. Use `zero_division` parameter to control this behavior.\n",
      "  _warn_prf(average, modifier, msg_start, len(result))\n"
     ]
    }
   ],
   "source": [
    "model = svm.SVC(kernel='poly') # Linear Kernel\n",
    "features=['ECLIPSE', 'HANSEN','fromCC', 'latfromCC', 'lngfromCC']\n",
    "hypertablerow = myMetrics(model=model,features=features,X_train=X_train,y_true_train=y_train,X_test=X_test,y_true_test=y_test)"
   ]
  },
  {
   "cell_type": "code",
   "execution_count": 74,
   "metadata": {},
   "outputs": [
    {
     "name": "stdout",
     "output_type": "stream",
     "text": [
      "Index(['ECLIPSE', 'HANSEN', 'fromCC', 'latfromCC', 'lngfromCC'], dtype='object')\n",
      "accuracy_test 0.5575630879498282\n",
      "accuracy_train 0.5629946737020259\n"
     ]
    },
    {
     "name": "stderr",
     "output_type": "stream",
     "text": [
      "C:\\ProgramData\\Anaconda3\\lib\\site-packages\\sklearn\\metrics\\_classification.py:1272: UndefinedMetricWarning: Precision is ill-defined and being set to 0.0 in labels with no predicted samples. Use `zero_division` parameter to control this behavior.\n",
      "  _warn_prf(average, modifier, msg_start, len(result))\n"
     ]
    }
   ],
   "source": [
    "model = svm.SVC(kernel='sigmoid') # Linear Kernel\n",
    "features=['ECLIPSE', 'HANSEN','fromCC', 'latfromCC', 'lngfromCC']\n",
    "hypertablerow = myMetrics(model=model,features=features,X_train=X_train,y_true_train=y_train,X_test=X_test,y_true_test=y_test)"
   ]
  },
  {
   "cell_type": "code",
   "execution_count": 75,
   "metadata": {},
   "outputs": [
    {
     "name": "stdout",
     "output_type": "stream",
     "text": [
      "Index(['ECLIPSE', 'HANSEN', 'fromCC', 'latfromCC', 'lngfromCC'], dtype='object')\n",
      "accuracy_test 0.5575630879498282\n",
      "accuracy_train 0.5629946737020259\n"
     ]
    },
    {
     "name": "stderr",
     "output_type": "stream",
     "text": [
      "C:\\ProgramData\\Anaconda3\\lib\\site-packages\\sklearn\\metrics\\_classification.py:1272: UndefinedMetricWarning: Precision is ill-defined and being set to 0.0 in labels with no predicted samples. Use `zero_division` parameter to control this behavior.\n",
      "  _warn_prf(average, modifier, msg_start, len(result))\n"
     ]
    }
   ],
   "source": [
    "model = svm.SVC(kernel='rbf') # Linear Kernel\n",
    "features=['ECLIPSE', 'HANSEN','fromCC', 'latfromCC', 'lngfromCC']\n",
    "hypertablerow = myMetrics(model=model,features=features,X_train=X_train,y_true_train=y_train,X_test=X_test,y_true_test=y_test)"
   ]
  },
  {
   "cell_type": "code",
   "execution_count": 76,
   "metadata": {},
   "outputs": [
    {
     "name": "stdout",
     "output_type": "stream",
     "text": [
      "Index(['ECLIPSE', 'HANSEN', 'fromCC', 'latfromCC', 'lngfromCC'], dtype='object')\n",
      "accuracy_test 0.5385993728535164\n",
      "accuracy_train 0.5984369555478123\n"
     ]
    },
    {
     "name": "stderr",
     "output_type": "stream",
     "text": [
      "C:\\ProgramData\\Anaconda3\\lib\\site-packages\\sklearn\\metrics\\_classification.py:1272: UndefinedMetricWarning: Precision is ill-defined and being set to 0.0 in labels with no predicted samples. Use `zero_division` parameter to control this behavior.\n",
      "  _warn_prf(average, modifier, msg_start, len(result))\n"
     ]
    }
   ],
   "source": [
    "from sklearn.neighbors import KNeighborsClassifier\n",
    "model = KNeighborsClassifier(n_neighbors=10)\n",
    "features=['ECLIPSE', 'HANSEN','fromCC', 'latfromCC', 'lngfromCC']\n",
    "hypertablerow = myMetrics(model=model,features=features,X_train=X_train,y_true_train=y_train,X_test=X_test,y_true_test=y_test)"
   ]
  },
  {
   "cell_type": "code",
   "execution_count": 77,
   "metadata": {},
   "outputs": [
    {
     "name": "stdout",
     "output_type": "stream",
     "text": [
      "Index(['ECLIPSE', 'HANSEN', 'fromCC', 'latfromCC', 'lngfromCC'], dtype='object')\n",
      "accuracy_test 0.5385993728535164\n",
      "accuracy_train 0.5984369555478123\n"
     ]
    },
    {
     "name": "stderr",
     "output_type": "stream",
     "text": [
      "C:\\ProgramData\\Anaconda3\\lib\\site-packages\\sklearn\\metrics\\_classification.py:1272: UndefinedMetricWarning: Precision is ill-defined and being set to 0.0 in labels with no predicted samples. Use `zero_division` parameter to control this behavior.\n",
      "  _warn_prf(average, modifier, msg_start, len(result))\n"
     ]
    }
   ],
   "source": [
    "from sklearn.naive_bayes import GaussianNB\n",
    "gnb = GaussianNB()\n",
    "features=['ECLIPSE', 'HANSEN','fromCC', 'latfromCC', 'lngfromCC']\n",
    "hypertablerow = myMetrics(model=model,features=features,X_train=X_train,y_true_train=y_train,X_test=X_test,y_true_test=y_test)"
   ]
  },
  {
   "cell_type": "markdown",
   "metadata": {},
   "source": [
    "..."
   ]
  },
  {
   "cell_type": "code",
   "execution_count": 78,
   "metadata": {},
   "outputs": [
    {
     "name": "stderr",
     "output_type": "stream",
     "text": [
      "C:\\ProgramData\\Anaconda3\\lib\\site-packages\\ipykernel_launcher.py:3: FutureWarning: Passing a negative integer is deprecated in version 1.0 and will not be supported in future version. Instead, use None to not limit the column width.\n",
      "  This is separate from the ipykernel package so we can avoid doing imports until\n"
     ]
    },
    {
     "data": {
      "text/html": [
       "<div>\n",
       "<style scoped>\n",
       "    .dataframe tbody tr th:only-of-type {\n",
       "        vertical-align: middle;\n",
       "    }\n",
       "\n",
       "    .dataframe tbody tr th {\n",
       "        vertical-align: top;\n",
       "    }\n",
       "\n",
       "    .dataframe thead th {\n",
       "        text-align: right;\n",
       "    }\n",
       "</style>\n",
       "<table border=\"1\" class=\"dataframe\">\n",
       "  <thead>\n",
       "    <tr style=\"text-align: right;\">\n",
       "      <th></th>\n",
       "      <th>model</th>\n",
       "      <th>features</th>\n",
       "      <th>accuracy_test</th>\n",
       "      <th>accuracy_train</th>\n",
       "      <th>precision_test</th>\n",
       "      <th>precision_train</th>\n",
       "      <th>recall_test</th>\n",
       "      <th>recall_train</th>\n",
       "    </tr>\n",
       "  </thead>\n",
       "  <tbody>\n",
       "    <tr>\n",
       "      <th>0</th>\n",
       "      <td>LinearSVC</td>\n",
       "      <td>[ECLIPSE, HANSEN]</td>\n",
       "      <td>0.557563</td>\n",
       "      <td>0.562995</td>\n",
       "      <td>0.312397</td>\n",
       "      <td>0.318492</td>\n",
       "      <td>0.557563</td>\n",
       "      <td>0.562995</td>\n",
       "    </tr>\n",
       "    <tr>\n",
       "      <th>1</th>\n",
       "      <td>LinearSVC</td>\n",
       "      <td>[ECLIPSE, HANSEN, fromCC, latfromCC, lngfromCC]</td>\n",
       "      <td>0.557563</td>\n",
       "      <td>0.562995</td>\n",
       "      <td>0.312397</td>\n",
       "      <td>0.318492</td>\n",
       "      <td>0.557563</td>\n",
       "      <td>0.562995</td>\n",
       "    </tr>\n",
       "    <tr>\n",
       "      <th>2</th>\n",
       "      <td>LinearSVC</td>\n",
       "      <td>[ECLIPSE, HANSEN, fromCC, latfromCC, lngfromCC]</td>\n",
       "      <td>0.557563</td>\n",
       "      <td>0.562995</td>\n",
       "      <td>0.312397</td>\n",
       "      <td>0.318492</td>\n",
       "      <td>0.557563</td>\n",
       "      <td>0.562995</td>\n",
       "    </tr>\n",
       "    <tr>\n",
       "      <th>3</th>\n",
       "      <td>LinearSVC</td>\n",
       "      <td>[ECLIPSE, fromCC, latfromCC, lngfromCC]</td>\n",
       "      <td>0.557563</td>\n",
       "      <td>0.562995</td>\n",
       "      <td>0.312397</td>\n",
       "      <td>0.318492</td>\n",
       "      <td>0.557563</td>\n",
       "      <td>0.562995</td>\n",
       "    </tr>\n",
       "    <tr>\n",
       "      <th>5</th>\n",
       "      <td>SVC</td>\n",
       "      <td>[ECLIPSE, HANSEN, fromCC, latfromCC, lngfromCC]</td>\n",
       "      <td>0.557563</td>\n",
       "      <td>0.562995</td>\n",
       "      <td>0.312397</td>\n",
       "      <td>0.318492</td>\n",
       "      <td>0.557563</td>\n",
       "      <td>0.562995</td>\n",
       "    </tr>\n",
       "    <tr>\n",
       "      <th>6</th>\n",
       "      <td>SVC</td>\n",
       "      <td>[ECLIPSE, HANSEN, fromCC, latfromCC, lngfromCC]</td>\n",
       "      <td>0.557563</td>\n",
       "      <td>0.562995</td>\n",
       "      <td>0.312397</td>\n",
       "      <td>0.318492</td>\n",
       "      <td>0.557563</td>\n",
       "      <td>0.562995</td>\n",
       "    </tr>\n",
       "    <tr>\n",
       "      <th>7</th>\n",
       "      <td>SVC</td>\n",
       "      <td>[ECLIPSE, HANSEN, fromCC, latfromCC, lngfromCC]</td>\n",
       "      <td>0.557563</td>\n",
       "      <td>0.562995</td>\n",
       "      <td>0.312397</td>\n",
       "      <td>0.318492</td>\n",
       "      <td>0.557563</td>\n",
       "      <td>0.562995</td>\n",
       "    </tr>\n",
       "    <tr>\n",
       "      <th>8</th>\n",
       "      <td>SVC</td>\n",
       "      <td>[ECLIPSE, HANSEN, fromCC, latfromCC, lngfromCC]</td>\n",
       "      <td>0.557563</td>\n",
       "      <td>0.562995</td>\n",
       "      <td>0.312397</td>\n",
       "      <td>0.318492</td>\n",
       "      <td>0.557563</td>\n",
       "      <td>0.562995</td>\n",
       "    </tr>\n",
       "    <tr>\n",
       "      <th>9</th>\n",
       "      <td>KNeighborsClassifier</td>\n",
       "      <td>[ECLIPSE, HANSEN, fromCC, latfromCC, lngfromCC]</td>\n",
       "      <td>0.538599</td>\n",
       "      <td>0.598437</td>\n",
       "      <td>0.445926</td>\n",
       "      <td>0.549440</td>\n",
       "      <td>0.538599</td>\n",
       "      <td>0.598437</td>\n",
       "    </tr>\n",
       "    <tr>\n",
       "      <th>10</th>\n",
       "      <td>KNeighborsClassifier</td>\n",
       "      <td>[ECLIPSE, HANSEN, fromCC, latfromCC, lngfromCC]</td>\n",
       "      <td>0.538599</td>\n",
       "      <td>0.598437</td>\n",
       "      <td>0.445926</td>\n",
       "      <td>0.549440</td>\n",
       "      <td>0.538599</td>\n",
       "      <td>0.598437</td>\n",
       "    </tr>\n",
       "    <tr>\n",
       "      <th>4</th>\n",
       "      <td>LinearSVC</td>\n",
       "      <td>[ECLIPSE, fromCC, latfromCC, lngfromCC, censustract]</td>\n",
       "      <td>0.164850</td>\n",
       "      <td>0.163025</td>\n",
       "      <td>0.334962</td>\n",
       "      <td>0.348855</td>\n",
       "      <td>0.164850</td>\n",
       "      <td>0.163025</td>\n",
       "    </tr>\n",
       "  </tbody>\n",
       "</table>\n",
       "</div>"
      ],
      "text/plain": [
       "                   model  \\\n",
       "0   LinearSVC              \n",
       "1   LinearSVC              \n",
       "2   LinearSVC              \n",
       "3   LinearSVC              \n",
       "5   SVC                    \n",
       "6   SVC                    \n",
       "7   SVC                    \n",
       "8   SVC                    \n",
       "9   KNeighborsClassifier   \n",
       "10  KNeighborsClassifier   \n",
       "4   LinearSVC              \n",
       "\n",
       "                                                features  accuracy_test  \\\n",
       "0   [ECLIPSE, HANSEN]                                     0.557563        \n",
       "1   [ECLIPSE, HANSEN, fromCC, latfromCC, lngfromCC]       0.557563        \n",
       "2   [ECLIPSE, HANSEN, fromCC, latfromCC, lngfromCC]       0.557563        \n",
       "3   [ECLIPSE, fromCC, latfromCC, lngfromCC]               0.557563        \n",
       "5   [ECLIPSE, HANSEN, fromCC, latfromCC, lngfromCC]       0.557563        \n",
       "6   [ECLIPSE, HANSEN, fromCC, latfromCC, lngfromCC]       0.557563        \n",
       "7   [ECLIPSE, HANSEN, fromCC, latfromCC, lngfromCC]       0.557563        \n",
       "8   [ECLIPSE, HANSEN, fromCC, latfromCC, lngfromCC]       0.557563        \n",
       "9   [ECLIPSE, HANSEN, fromCC, latfromCC, lngfromCC]       0.538599        \n",
       "10  [ECLIPSE, HANSEN, fromCC, latfromCC, lngfromCC]       0.538599        \n",
       "4   [ECLIPSE, fromCC, latfromCC, lngfromCC, censustract]  0.164850        \n",
       "\n",
       "    accuracy_train  precision_test  precision_train  recall_test  recall_train  \n",
       "0   0.562995        0.312397        0.318492         0.557563     0.562995      \n",
       "1   0.562995        0.312397        0.318492         0.557563     0.562995      \n",
       "2   0.562995        0.312397        0.318492         0.557563     0.562995      \n",
       "3   0.562995        0.312397        0.318492         0.557563     0.562995      \n",
       "5   0.562995        0.312397        0.318492         0.557563     0.562995      \n",
       "6   0.562995        0.312397        0.318492         0.557563     0.562995      \n",
       "7   0.562995        0.312397        0.318492         0.557563     0.562995      \n",
       "8   0.562995        0.312397        0.318492         0.557563     0.562995      \n",
       "9   0.598437        0.445926        0.549440         0.538599     0.598437      \n",
       "10  0.598437        0.445926        0.549440         0.538599     0.598437      \n",
       "4   0.163025        0.334962        0.348855         0.164850     0.163025      "
      ]
     },
     "execution_count": 78,
     "metadata": {},
     "output_type": "execute_result"
    }
   ],
   "source": [
    "pd.DataFrame(hypertable).to_csv('hypertable.csv')\n",
    "dfhypertable=pd.DataFrame(hypertable).sort_values('accuracy_test')\n",
    "pd.set_option('display.max_colwidth', -1)\n",
    "dfhypertable.sort_values('accuracy_test',  ascending=False)"
   ]
  }
 ],
 "metadata": {
  "kernelspec": {
   "display_name": "Python 3",
   "language": "python",
   "name": "python3"
  },
  "language_info": {
   "codemirror_mode": {
    "name": "ipython",
    "version": 3
   },
   "file_extension": ".py",
   "mimetype": "text/x-python",
   "name": "python",
   "nbconvert_exporter": "python",
   "pygments_lexer": "ipython3",
   "version": "3.7.6"
  }
 },
 "nbformat": 4,
 "nbformat_minor": 4
}
