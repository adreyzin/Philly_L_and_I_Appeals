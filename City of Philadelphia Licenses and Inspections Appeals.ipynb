{
 "cells": [
  {
   "cell_type": "markdown",
   "metadata": {},
   "source": [
    "# City of Philadelphia Licenses and Inspections Appeals\n",
    "\n",
    "The dataset contains decisions of Philadelphia Licenses and Inspections Appeal Board. The dataset contains 28869 records and 37 columns.\n",
    "\n",
    "Several columns such as Appeal Grounds, Related Permits and Proviso are in Natural Language format. \n",
    "\n",
    "Source: https://www.opendataphilly.org/dataset/license-and-inspections-appeals/resource/b721ad52-9e27-46d2-b494-6bf0ef1c7603?inner_span=True"
   ]
  },
  {
   "cell_type": "markdown",
   "metadata": {},
   "source": [
    "### I would like to research the relationship of the board decision stored in the column 'decision' and other values in the dataset such as Appeal Grounds(NL), Related Permits(NL), Proviso(NL) and well as property address(geospatial).\n"
   ]
  },
  {
   "cell_type": "markdown",
   "metadata": {},
   "source": [
    "### Loading necessary packages"
   ]
  },
  {
   "cell_type": "code",
   "execution_count": 1,
   "metadata": {},
   "outputs": [],
   "source": [
    "#load python packages\n",
    "import os\n",
    "import pandas as pd\n",
    "import datetime\n",
    "import seaborn as sns\n",
    "import matplotlib.pyplot as plt\n",
    "import matplotlib.cm as cm\n",
    "import numpy as np\n",
    "%matplotlib inline\n",
    "from pandas_profiling import ProfileReport\n",
    "\n",
    "from sklearn.model_selection import train_test_split\n",
    "from sklearn.svm import LinearSVC\n",
    "from sklearn import metrics #metrics module\n",
    "\n",
    "hypertable=[]"
   ]
  },
  {
   "cell_type": "markdown",
   "metadata": {},
   "source": [
    "### Load and review the data"
   ]
  },
  {
   "cell_type": "code",
   "execution_count": 2,
   "metadata": {},
   "outputs": [],
   "source": [
    "#Database URL\n",
    "url = 'https://phl.carto.com/api/v2/sql?q=SELECT+*,+ST_Y(the_geom)+AS+lat,+ST_X(the_geom)+AS+lng+FROM+appeals&filename=appeals&format=csv&skipfields=cartodb_id'\n",
    "#Initial Dataset load\n",
    "df = pd.read_csv(url, low_memory=False)"
   ]
  },
  {
   "cell_type": "code",
   "execution_count": 3,
   "metadata": {},
   "outputs": [
    {
     "data": {
      "text/html": [
       "<div>\n",
       "<style scoped>\n",
       "    .dataframe tbody tr th:only-of-type {\n",
       "        vertical-align: middle;\n",
       "    }\n",
       "\n",
       "    .dataframe tbody tr th {\n",
       "        vertical-align: top;\n",
       "    }\n",
       "\n",
       "    .dataframe thead th {\n",
       "        text-align: right;\n",
       "    }\n",
       "</style>\n",
       "<table border=\"1\" class=\"dataframe\">\n",
       "  <thead>\n",
       "    <tr style=\"text-align: right;\">\n",
       "      <th></th>\n",
       "      <th>the_geom</th>\n",
       "      <th>the_geom_webmercator</th>\n",
       "      <th>objectid</th>\n",
       "      <th>addressobjectid</th>\n",
       "      <th>address</th>\n",
       "      <th>unit_type</th>\n",
       "      <th>unit_num</th>\n",
       "      <th>zip</th>\n",
       "      <th>opa_account_num</th>\n",
       "      <th>parcel_id_num</th>\n",
       "      <th>...</th>\n",
       "      <th>scheduleddate</th>\n",
       "      <th>decision</th>\n",
       "      <th>meetingresult</th>\n",
       "      <th>proviso</th>\n",
       "      <th>decisiondate</th>\n",
       "      <th>systemofrecord</th>\n",
       "      <th>geocode_x</th>\n",
       "      <th>geocode_y</th>\n",
       "      <th>lat</th>\n",
       "      <th>lng</th>\n",
       "    </tr>\n",
       "  </thead>\n",
       "  <tbody>\n",
       "    <tr>\n",
       "      <th>0</th>\n",
       "      <td>0101000020E610000037BAFB2B1DC352C03A158AB3C90A...</td>\n",
       "      <td>0101000020110F000083B7668792DE5FC1D7531E50DD9B...</td>\n",
       "      <td>8</td>\n",
       "      <td>716319.0</td>\n",
       "      <td>8940 KREWSTOWN RD</td>\n",
       "      <td>NaN</td>\n",
       "      <td>118</td>\n",
       "      <td>19115-4517</td>\n",
       "      <td>888630077.0</td>\n",
       "      <td>646106</td>\n",
       "      <td>...</td>\n",
       "      <td>2010-05-04 13:15:00</td>\n",
       "      <td>MOOT</td>\n",
       "      <td>NaN</td>\n",
       "      <td>COMPLIED</td>\n",
       "      <td>2010-05-04 00:00:00</td>\n",
       "      <td>HANSEN</td>\n",
       "      <td>2.724252e+06</td>\n",
       "      <td>285119.162422</td>\n",
       "      <td>40.084280</td>\n",
       "      <td>-75.048656</td>\n",
       "    </tr>\n",
       "    <tr>\n",
       "      <th>1</th>\n",
       "      <td>0101000020E61000003690253716C852C06DEBA50163FD...</td>\n",
       "      <td>0101000020110F00008ED1ECEB04E75FC16710A3FAFF8C...</td>\n",
       "      <td>9</td>\n",
       "      <td>628798.0</td>\n",
       "      <td>2300 E YORK ST</td>\n",
       "      <td>NaN</td>\n",
       "      <td>NaN</td>\n",
       "      <td>19125-2120</td>\n",
       "      <td>313145500.0</td>\n",
       "      <td>363094</td>\n",
       "      <td>...</td>\n",
       "      <td>2009-10-28 17:00:00</td>\n",
       "      <td>GRANTED</td>\n",
       "      <td>NaN</td>\n",
       "      <td>NaN</td>\n",
       "      <td>2009-10-28 00:00:00</td>\n",
       "      <td>HANSEN</td>\n",
       "      <td>2.703654e+06</td>\n",
       "      <td>246341.440497</td>\n",
       "      <td>39.979584</td>\n",
       "      <td>-75.126356</td>\n",
       "    </tr>\n",
       "    <tr>\n",
       "      <th>2</th>\n",
       "      <td>0101000020E61000003C08EF26A0CB52C03BDF48F08D06...</td>\n",
       "      <td>0101000020110F0000E86105BF07ED5FC1EBBBD9912A97...</td>\n",
       "      <td>10</td>\n",
       "      <td>531963.0</td>\n",
       "      <td>128 E SHARPNACK ST</td>\n",
       "      <td>NaN</td>\n",
       "      <td>NaN</td>\n",
       "      <td>19119-2237</td>\n",
       "      <td>221108000.0</td>\n",
       "      <td>313082</td>\n",
       "      <td>...</td>\n",
       "      <td>2009-12-29 13:15:00</td>\n",
       "      <td>MOOT</td>\n",
       "      <td>NaN</td>\n",
       "      <td>COMPLIED</td>\n",
       "      <td>2009-12-30 00:00:00</td>\n",
       "      <td>HANSEN</td>\n",
       "      <td>2.687406e+06</td>\n",
       "      <td>271965.871360</td>\n",
       "      <td>40.051207</td>\n",
       "      <td>-75.181650</td>\n",
       "    </tr>\n",
       "    <tr>\n",
       "      <th>3</th>\n",
       "      <td>0101000020E61000000E3A31E95AC552C0FDEF06071902...</td>\n",
       "      <td>0101000020110F000085E81E1561E25FC16F05D2083992...</td>\n",
       "      <td>11</td>\n",
       "      <td>297984.0</td>\n",
       "      <td>4671 FRANKFORD AVE</td>\n",
       "      <td>NaN</td>\n",
       "      <td>NaN</td>\n",
       "      <td>19124-5827</td>\n",
       "      <td>871529760.0</td>\n",
       "      <td>565329</td>\n",
       "      <td>...</td>\n",
       "      <td>2009-10-06 09:30:00</td>\n",
       "      <td>GRANTED</td>\n",
       "      <td>NaN</td>\n",
       "      <td>NaN</td>\n",
       "      <td>2009-10-06 00:00:00</td>\n",
       "      <td>HANSEN</td>\n",
       "      <td>2.715205e+06</td>\n",
       "      <td>260100.891162</td>\n",
       "      <td>40.016389</td>\n",
       "      <td>-75.083674</td>\n",
       "    </tr>\n",
       "    <tr>\n",
       "      <th>4</th>\n",
       "      <td>0101000020E6100000926D2397A0CE52C05ED5D7D893FB...</td>\n",
       "      <td>0101000020110F0000A996150421F25FC15C0150B0FE8A...</td>\n",
       "      <td>12</td>\n",
       "      <td>589254.0</td>\n",
       "      <td>5421 VINE ST</td>\n",
       "      <td>NaN</td>\n",
       "      <td>NaN</td>\n",
       "      <td>19139-2041</td>\n",
       "      <td>41034400.0</td>\n",
       "      <td>511115</td>\n",
       "      <td>...</td>\n",
       "      <td>2009-12-29 13:15:00</td>\n",
       "      <td>WITHDRAWN</td>\n",
       "      <td>NaN</td>\n",
       "      <td>NaN</td>\n",
       "      <td>2009-10-21 00:00:00</td>\n",
       "      <td>HANSEN</td>\n",
       "      <td>2.675173e+06</td>\n",
       "      <td>240360.419544</td>\n",
       "      <td>39.965449</td>\n",
       "      <td>-75.228552</td>\n",
       "    </tr>\n",
       "  </tbody>\n",
       "</table>\n",
       "<p>5 rows × 37 columns</p>\n",
       "</div>"
      ],
      "text/plain": [
       "                                            the_geom  \\\n",
       "0  0101000020E610000037BAFB2B1DC352C03A158AB3C90A...   \n",
       "1  0101000020E61000003690253716C852C06DEBA50163FD...   \n",
       "2  0101000020E61000003C08EF26A0CB52C03BDF48F08D06...   \n",
       "3  0101000020E61000000E3A31E95AC552C0FDEF06071902...   \n",
       "4  0101000020E6100000926D2397A0CE52C05ED5D7D893FB...   \n",
       "\n",
       "                                the_geom_webmercator  objectid  \\\n",
       "0  0101000020110F000083B7668792DE5FC1D7531E50DD9B...         8   \n",
       "1  0101000020110F00008ED1ECEB04E75FC16710A3FAFF8C...         9   \n",
       "2  0101000020110F0000E86105BF07ED5FC1EBBBD9912A97...        10   \n",
       "3  0101000020110F000085E81E1561E25FC16F05D2083992...        11   \n",
       "4  0101000020110F0000A996150421F25FC15C0150B0FE8A...        12   \n",
       "\n",
       "   addressobjectid             address unit_type unit_num         zip  \\\n",
       "0         716319.0   8940 KREWSTOWN RD       NaN      118  19115-4517   \n",
       "1         628798.0      2300 E YORK ST       NaN      NaN  19125-2120   \n",
       "2         531963.0  128 E SHARPNACK ST       NaN      NaN  19119-2237   \n",
       "3         297984.0  4671 FRANKFORD AVE       NaN      NaN  19124-5827   \n",
       "4         589254.0        5421 VINE ST       NaN      NaN  19139-2041   \n",
       "\n",
       "   opa_account_num parcel_id_num  ...        scheduleddate   decision  \\\n",
       "0      888630077.0        646106  ...  2010-05-04 13:15:00       MOOT   \n",
       "1      313145500.0        363094  ...  2009-10-28 17:00:00    GRANTED   \n",
       "2      221108000.0        313082  ...  2009-12-29 13:15:00       MOOT   \n",
       "3      871529760.0        565329  ...  2009-10-06 09:30:00    GRANTED   \n",
       "4       41034400.0        511115  ...  2009-12-29 13:15:00  WITHDRAWN   \n",
       "\n",
       "  meetingresult   proviso         decisiondate systemofrecord     geocode_x  \\\n",
       "0           NaN  COMPLIED  2010-05-04 00:00:00         HANSEN  2.724252e+06   \n",
       "1           NaN       NaN  2009-10-28 00:00:00         HANSEN  2.703654e+06   \n",
       "2           NaN  COMPLIED  2009-12-30 00:00:00         HANSEN  2.687406e+06   \n",
       "3           NaN       NaN  2009-10-06 00:00:00         HANSEN  2.715205e+06   \n",
       "4           NaN       NaN  2009-10-21 00:00:00         HANSEN  2.675173e+06   \n",
       "\n",
       "       geocode_y        lat        lng  \n",
       "0  285119.162422  40.084280 -75.048656  \n",
       "1  246341.440497  39.979584 -75.126356  \n",
       "2  271965.871360  40.051207 -75.181650  \n",
       "3  260100.891162  40.016389 -75.083674  \n",
       "4  240360.419544  39.965449 -75.228552  \n",
       "\n",
       "[5 rows x 37 columns]"
      ]
     },
     "execution_count": 3,
     "metadata": {},
     "output_type": "execute_result"
    }
   ],
   "source": [
    "#Sample data\n",
    "df.head()"
   ]
  },
  {
   "cell_type": "code",
   "execution_count": 4,
   "metadata": {},
   "outputs": [
    {
     "name": "stdout",
     "output_type": "stream",
     "text": [
      "df.shape (29562, 37)\n"
     ]
    }
   ],
   "source": [
    "#Number of rows and features\n",
    "print(\"df.shape\", df.shape)"
   ]
  },
  {
   "cell_type": "code",
   "execution_count": 5,
   "metadata": {},
   "outputs": [
    {
     "data": {
      "text/plain": [
       "Index(['the_geom', 'the_geom_webmercator', 'objectid', 'addressobjectid',\n",
       "       'address', 'unit_type', 'unit_num', 'zip', 'opa_account_num',\n",
       "       'parcel_id_num', 'censustract', 'opa_owner', 'primaryappellant',\n",
       "       'appellanttype', 'internaljobid', 'appealnumber', 'acceleratedappeal',\n",
       "       'createddate', 'completeddate', 'relatedpermit', 'relatedcasefile',\n",
       "       'appealstatus', 'appealtype', 'agendadescription', 'applicationtype',\n",
       "       'meetingnumber', 'appealgrounds', 'scheduleddate', 'decision',\n",
       "       'meetingresult', 'proviso', 'decisiondate', 'systemofrecord',\n",
       "       'geocode_x', 'geocode_y', 'lat', 'lng'],\n",
       "      dtype='object')"
      ]
     },
     "execution_count": 5,
     "metadata": {},
     "output_type": "execute_result"
    }
   ],
   "source": [
    "#Column Names\n",
    "df.columns"
   ]
  },
  {
   "cell_type": "code",
   "execution_count": 6,
   "metadata": {},
   "outputs": [
    {
     "name": "stdout",
     "output_type": "stream",
     "text": [
      "<class 'pandas.core.frame.DataFrame'>\n",
      "RangeIndex: 29562 entries, 0 to 29561\n",
      "Data columns (total 37 columns):\n",
      " #   Column                Non-Null Count  Dtype  \n",
      "---  ------                --------------  -----  \n",
      " 0   the_geom              28953 non-null  object \n",
      " 1   the_geom_webmercator  28953 non-null  object \n",
      " 2   objectid              29562 non-null  int64  \n",
      " 3   addressobjectid       28992 non-null  float64\n",
      " 4   address               28981 non-null  object \n",
      " 5   unit_type             98 non-null     object \n",
      " 6   unit_num              551 non-null    object \n",
      " 7   zip                   28981 non-null  object \n",
      " 8   opa_account_num       27732 non-null  float64\n",
      " 9   parcel_id_num         28311 non-null  object \n",
      " 10  censustract           28953 non-null  float64\n",
      " 11  opa_owner             28406 non-null  object \n",
      " 12  primaryappellant      29562 non-null  object \n",
      " 13  appellanttype         29020 non-null  object \n",
      " 14  internaljobid         27715 non-null  float64\n",
      " 15  appealnumber          29561 non-null  object \n",
      " 16  acceleratedappeal     1305 non-null   object \n",
      " 17  createddate           29562 non-null  object \n",
      " 18  completeddate         12129 non-null  object \n",
      " 19  relatedpermit         28704 non-null  object \n",
      " 20  relatedcasefile       10 non-null     object \n",
      " 21  appealstatus          29562 non-null  object \n",
      " 22  appealtype            1847 non-null   object \n",
      " 23  agendadescription     1 non-null      object \n",
      " 24  applicationtype       28927 non-null  object \n",
      " 25  meetingnumber         1212 non-null   object \n",
      " 26  appealgrounds         29550 non-null  object \n",
      " 27  scheduleddate         28473 non-null  object \n",
      " 28  decision              26811 non-null  object \n",
      " 29  meetingresult         450 non-null    object \n",
      " 30  proviso               11695 non-null  object \n",
      " 31  decisiondate          27328 non-null  object \n",
      " 32  systemofrecord        29562 non-null  object \n",
      " 33  geocode_x             28953 non-null  float64\n",
      " 34  geocode_y             28953 non-null  float64\n",
      " 35  lat                   28953 non-null  float64\n",
      " 36  lng                   28953 non-null  float64\n",
      "dtypes: float64(8), int64(1), object(28)\n",
      "memory usage: 8.3+ MB\n"
     ]
    }
   ],
   "source": [
    "#General Info\n",
    "df.info()"
   ]
  },
  {
   "cell_type": "markdown",
   "metadata": {},
   "source": [
    "&#9644;&#9644;&#9644;&#9644;&#9644;&#9644;&#9644;&#9644;&#9644;&#9644;&#9644;&#9644;&#9644;&#9644;&#9644;&#9644;&#9644;&#9644;&#9644;&#9644;&#9644;&#9644;&#9644;&#9644;&#9644;&#9644;&#9644;&#9644;&#9644;&#9644;&#9644;&#9644;&#9644;&#9644;&#9644;&#9644;&#9644;&#9644;&#9644;&#9644;&#9644;&#9644;&#9644;&#9644;&#9644;&#9644;&#9644;&#9644;&#9644;&#9644;&#9644;&#9644;&#9644;&#9644;&#9644;&#9644;&#9644;&#9644;&#9644;&#9644;&#9644;&#9644;&#9644;&#9644;&#9644;&#9644;&#9644;&#9644;&#9644;"
   ]
  },
  {
   "cell_type": "markdown",
   "metadata": {},
   "source": [
    "***\n",
    "### Clear out Null values"
   ]
  },
  {
   "cell_type": "markdown",
   "metadata": {},
   "source": [
    "I am dropping records with Null value in Decision column. They represent less than 10% of the data. With the multitude of unique values in that column I can't decide what value I can replace it with."
   ]
  },
  {
   "cell_type": "code",
   "execution_count": 7,
   "metadata": {},
   "outputs": [
    {
     "data": {
      "text/html": [
       "<div>\n",
       "<style scoped>\n",
       "    .dataframe tbody tr th:only-of-type {\n",
       "        vertical-align: middle;\n",
       "    }\n",
       "\n",
       "    .dataframe tbody tr th {\n",
       "        vertical-align: top;\n",
       "    }\n",
       "\n",
       "    .dataframe thead th {\n",
       "        text-align: right;\n",
       "    }\n",
       "</style>\n",
       "<table border=\"1\" class=\"dataframe\">\n",
       "  <thead>\n",
       "    <tr style=\"text-align: right;\">\n",
       "      <th></th>\n",
       "      <th>the_geom</th>\n",
       "      <th>the_geom_webmercator</th>\n",
       "      <th>objectid</th>\n",
       "      <th>addressobjectid</th>\n",
       "      <th>address</th>\n",
       "      <th>unit_type</th>\n",
       "      <th>unit_num</th>\n",
       "      <th>zip</th>\n",
       "      <th>opa_account_num</th>\n",
       "      <th>parcel_id_num</th>\n",
       "      <th>...</th>\n",
       "      <th>scheduleddate</th>\n",
       "      <th>decision</th>\n",
       "      <th>meetingresult</th>\n",
       "      <th>proviso</th>\n",
       "      <th>decisiondate</th>\n",
       "      <th>systemofrecord</th>\n",
       "      <th>geocode_x</th>\n",
       "      <th>geocode_y</th>\n",
       "      <th>lat</th>\n",
       "      <th>lng</th>\n",
       "    </tr>\n",
       "  </thead>\n",
       "  <tbody>\n",
       "  </tbody>\n",
       "</table>\n",
       "<p>0 rows × 37 columns</p>\n",
       "</div>"
      ],
      "text/plain": [
       "Empty DataFrame\n",
       "Columns: [the_geom, the_geom_webmercator, objectid, addressobjectid, address, unit_type, unit_num, zip, opa_account_num, parcel_id_num, censustract, opa_owner, primaryappellant, appellanttype, internaljobid, appealnumber, acceleratedappeal, createddate, completeddate, relatedpermit, relatedcasefile, appealstatus, appealtype, agendadescription, applicationtype, meetingnumber, appealgrounds, scheduleddate, decision, meetingresult, proviso, decisiondate, systemofrecord, geocode_x, geocode_y, lat, lng]\n",
       "Index: []\n",
       "\n",
       "[0 rows x 37 columns]"
      ]
     },
     "execution_count": 7,
     "metadata": {},
     "output_type": "execute_result"
    }
   ],
   "source": [
    "df = df[~df['decision'].isna()]\n",
    "df[df['systemofrecord'].isna()]"
   ]
  },
  {
   "cell_type": "code",
   "execution_count": 8,
   "metadata": {},
   "outputs": [
    {
     "data": {
      "text/plain": [
       "0.0"
      ]
     },
     "execution_count": 8,
     "metadata": {},
     "output_type": "execute_result"
    }
   ],
   "source": [
    "#df.nunique()/df.shape[0]\n",
    "df[df['decision'].isna()].shape[0]/df.shape[0]"
   ]
  },
  {
   "cell_type": "code",
   "execution_count": 9,
   "metadata": {},
   "outputs": [
    {
     "data": {
      "text/plain": [
       "17"
      ]
     },
     "execution_count": 9,
     "metadata": {},
     "output_type": "execute_result"
    }
   ],
   "source": [
    "df[df['lat'].isna()].shape[0]"
   ]
  },
  {
   "cell_type": "markdown",
   "metadata": {},
   "source": [
    "I'm dropping these as well."
   ]
  },
  {
   "cell_type": "code",
   "execution_count": 10,
   "metadata": {},
   "outputs": [],
   "source": [
    "df = df[~df['lat'].isna()]"
   ]
  },
  {
   "cell_type": "markdown",
   "metadata": {},
   "source": [
    "&#9644;&#9644;&#9644;&#9644;&#9644;&#9644;&#9644;&#9644;&#9644;&#9644;&#9644;&#9644;&#9644;&#9644;&#9644;&#9644;&#9644;&#9644;&#9644;&#9644;&#9644;&#9644;&#9644;&#9644;&#9644;&#9644;&#9644;&#9644;&#9644;&#9644;&#9644;&#9644;&#9644;&#9644;&#9644;&#9644;&#9644;&#9644;&#9644;&#9644;&#9644;&#9644;&#9644;&#9644;&#9644;&#9644;&#9644;&#9644;&#9644;&#9644;&#9644;&#9644;&#9644;&#9644;&#9644;&#9644;&#9644;&#9644;&#9644;&#9644;&#9644;&#9644;&#9644;&#9644;&#9644;&#9644;&#9644;&#9644;&#9644;"
   ]
  },
  {
   "cell_type": "markdown",
   "metadata": {},
   "source": [
    "### Clean Zip column"
   ]
  },
  {
   "cell_type": "code",
   "execution_count": 11,
   "metadata": {},
   "outputs": [
    {
     "data": {
      "text/html": [
       "<div>\n",
       "<style scoped>\n",
       "    .dataframe tbody tr th:only-of-type {\n",
       "        vertical-align: middle;\n",
       "    }\n",
       "\n",
       "    .dataframe tbody tr th {\n",
       "        vertical-align: top;\n",
       "    }\n",
       "\n",
       "    .dataframe thead th {\n",
       "        text-align: right;\n",
       "    }\n",
       "</style>\n",
       "<table border=\"1\" class=\"dataframe\">\n",
       "  <thead>\n",
       "    <tr style=\"text-align: right;\">\n",
       "      <th></th>\n",
       "      <th>zip</th>\n",
       "      <th>zip</th>\n",
       "    </tr>\n",
       "  </thead>\n",
       "  <tbody>\n",
       "    <tr>\n",
       "      <th>0</th>\n",
       "      <td>19115</td>\n",
       "      <td>4517</td>\n",
       "    </tr>\n",
       "    <tr>\n",
       "      <th>1</th>\n",
       "      <td>19125</td>\n",
       "      <td>2120</td>\n",
       "    </tr>\n",
       "    <tr>\n",
       "      <th>2</th>\n",
       "      <td>19119</td>\n",
       "      <td>2237</td>\n",
       "    </tr>\n",
       "    <tr>\n",
       "      <th>3</th>\n",
       "      <td>19124</td>\n",
       "      <td>5827</td>\n",
       "    </tr>\n",
       "    <tr>\n",
       "      <th>4</th>\n",
       "      <td>19139</td>\n",
       "      <td>2041</td>\n",
       "    </tr>\n",
       "    <tr>\n",
       "      <th>...</th>\n",
       "      <td>...</td>\n",
       "      <td>...</td>\n",
       "    </tr>\n",
       "    <tr>\n",
       "      <th>29557</th>\n",
       "      <td>19141</td>\n",
       "      <td>3330</td>\n",
       "    </tr>\n",
       "    <tr>\n",
       "      <th>29558</th>\n",
       "      <td>19115</td>\n",
       "      <td>3703</td>\n",
       "    </tr>\n",
       "    <tr>\n",
       "      <th>29559</th>\n",
       "      <td>19130</td>\n",
       "      <td>2206</td>\n",
       "    </tr>\n",
       "    <tr>\n",
       "      <th>29560</th>\n",
       "      <td>19130</td>\n",
       "      <td>1504</td>\n",
       "    </tr>\n",
       "    <tr>\n",
       "      <th>29561</th>\n",
       "      <td>19130</td>\n",
       "      <td>1913</td>\n",
       "    </tr>\n",
       "  </tbody>\n",
       "</table>\n",
       "<p>26794 rows × 2 columns</p>\n",
       "</div>"
      ],
      "text/plain": [
       "         zip   zip\n",
       "0      19115  4517\n",
       "1      19125  2120\n",
       "2      19119  2237\n",
       "3      19124  5827\n",
       "4      19139  2041\n",
       "...      ...   ...\n",
       "29557  19141  3330\n",
       "29558  19115  3703\n",
       "29559  19130  2206\n",
       "29560  19130  1504\n",
       "29561  19130  1913\n",
       "\n",
       "[26794 rows x 2 columns]"
      ]
     },
     "execution_count": 11,
     "metadata": {},
     "output_type": "execute_result"
    }
   ],
   "source": [
    "pd.concat([df['zip'].astype('str').str.slice(0,5), df['zip'].astype('str').str.slice(6,10)],axis = 1)"
   ]
  },
  {
   "cell_type": "code",
   "execution_count": 12,
   "metadata": {},
   "outputs": [],
   "source": [
    "#(df['zip'].astype('str').str.slice(0,5) + df['zip'].astype('str').str.slice(6,10)).astype('int')\n",
    "#df['zip'].astype('str').str.slice(0,5).astype('int')"
   ]
  },
  {
   "cell_type": "code",
   "execution_count": 13,
   "metadata": {},
   "outputs": [
    {
     "data": {
      "text/plain": [
       "the_geom                0.802232\n",
       "the_geom_webmercator    0.802232\n",
       "objectid                1.000000\n",
       "addressobjectid         0.814063\n",
       "address                 0.805218\n",
       "unit_type               0.000149\n",
       "unit_num                0.004329\n",
       "zip                     0.487236\n",
       "opa_account_num         0.775174\n",
       "parcel_id_num           0.772374\n",
       "censustract             0.014257\n",
       "opa_owner               0.706427\n",
       "primaryappellant        0.458088\n",
       "appellanttype           0.000224\n",
       "internaljobid           0.984959\n",
       "appealnumber            1.000000\n",
       "acceleratedappeal       0.000075\n",
       "createddate             0.998582\n",
       "completeddate           0.450437\n",
       "relatedpermit           0.982309\n",
       "relatedcasefile         0.000037\n",
       "appealstatus            0.000299\n",
       "appealtype              0.000224\n",
       "agendadescription       0.000037\n",
       "applicationtype         0.000187\n",
       "meetingnumber           0.015041\n",
       "appealgrounds           0.922968\n",
       "scheduleddate           0.174741\n",
       "decision                0.001120\n",
       "meetingresult           0.000261\n",
       "proviso                 0.247705\n",
       "decisiondate            0.091028\n",
       "systemofrecord          0.000075\n",
       "geocode_x               0.805964\n",
       "geocode_y               0.805852\n",
       "lat                     0.802232\n",
       "lng                     0.802232\n",
       "dtype: float64"
      ]
     },
     "execution_count": 13,
     "metadata": {},
     "output_type": "execute_result"
    }
   ],
   "source": [
    "#Percent of unique values per values per column\n",
    "df.nunique()/df.shape[0]"
   ]
  },
  {
   "cell_type": "code",
   "execution_count": 14,
   "metadata": {},
   "outputs": [
    {
     "data": {
      "text/plain": [
       "the_geom                 object\n",
       "the_geom_webmercator     object\n",
       "objectid                  int64\n",
       "addressobjectid         float64\n",
       "address                  object\n",
       "unit_type                object\n",
       "unit_num                 object\n",
       "zip                      object\n",
       "opa_account_num         float64\n",
       "parcel_id_num            object\n",
       "censustract             float64\n",
       "opa_owner                object\n",
       "primaryappellant         object\n",
       "appellanttype            object\n",
       "internaljobid           float64\n",
       "appealnumber             object\n",
       "acceleratedappeal        object\n",
       "createddate              object\n",
       "completeddate            object\n",
       "relatedpermit            object\n",
       "relatedcasefile          object\n",
       "appealstatus             object\n",
       "appealtype               object\n",
       "agendadescription        object\n",
       "applicationtype          object\n",
       "meetingnumber            object\n",
       "appealgrounds            object\n",
       "scheduleddate            object\n",
       "decision                 object\n",
       "meetingresult            object\n",
       "proviso                  object\n",
       "decisiondate             object\n",
       "systemofrecord           object\n",
       "geocode_x               float64\n",
       "geocode_y               float64\n",
       "lat                     float64\n",
       "lng                     float64\n",
       "dtype: object"
      ]
     },
     "execution_count": 14,
     "metadata": {},
     "output_type": "execute_result"
    }
   ],
   "source": [
    "df.dtypes"
   ]
  },
  {
   "cell_type": "code",
   "execution_count": 15,
   "metadata": {},
   "outputs": [],
   "source": [
    "df['createddate'] = pd.to_datetime(df['createddate'])"
   ]
  },
  {
   "cell_type": "code",
   "execution_count": 16,
   "metadata": {},
   "outputs": [],
   "source": [
    "df['completeddate'] = pd.to_datetime(df['completeddate'])\n",
    "df['scheduleddate'] = pd.to_datetime(df['scheduleddate'])\n",
    "df['decisiondate'] = pd.to_datetime(df['decisiondate'])"
   ]
  },
  {
   "cell_type": "code",
   "execution_count": 17,
   "metadata": {},
   "outputs": [
    {
     "data": {
      "text/plain": [
       "PERMIT FOR TWO (2) FAMILY DWELLING IN AN EXISTING STRUCTURE.                                       110\n",
       "PERMIT FOR A TWO (2) FAMILY DWELLING IN AN EXISTING STRUCTURE.                                      65\n",
       "WE ARE APPEALING THE ISSUANCE OF BUILDING PERMIT #765070 FOR HEALTH AND ENVIRONMENTAL CONCERNS.     63\n",
       "PERMIT FOR THREE (3) FAMILY DWELLING (MULTI-FAMILY DWELLING) IN AN EXISTING STRUCTURE.              56\n",
       "PERMIT FOR A TWO(2) FAMILY DWELLING.                                                                55\n",
       "PERMIT FOR A THREE(3) FAMILY DWELLING.                                                              51\n",
       "PERMIT FOR A TWO(2) FAMILY DWELLING IN AN EXISTING STRUCTURE.                                       37\n",
       "PERMIT FOR A TWO (2) FAMILY DWELLING.                                                               36\n",
       "PERMIT FOR A TWO FAMILY DWELLING.                                                                   35\n",
       "PERMIT FOR TWO (2) FAMILY DWELLING IN AN EXISTING STRUCTURE                                         34\n",
       "Name: appealgrounds, dtype: int64"
      ]
     },
     "execution_count": 17,
     "metadata": {},
     "output_type": "execute_result"
    }
   ],
   "source": [
    "#Top examples of \"appealgrounds\"\n",
    "df['appealgrounds'].value_counts().head(10)"
   ]
  },
  {
   "cell_type": "code",
   "execution_count": 18,
   "metadata": {},
   "outputs": [
    {
     "data": {
      "text/plain": [
       "Description of Project:  SM/LRG FOOD ESTAB\\n  APPEAL TYPES==> \\nAPPEAL TYPE: LI-REFGRNT  \\n\\n  BOARD DECISIONS==> \\nDECISION: CONTINUED  DECDATE: 16-OCT-18  PROVISO:   \\n\\n  COURT APPEALS==> \\n                                                                                                                                                                                                  29\n",
       "Description of Project:  BUILDING PERMIT #765070\\n  APPEAL TYPES==> \\nAPPEAL TYPE: AGAINSTL&I  \\n\\n  BOARD DECISIONS==> \\nDECISION: AFFIRMED  DECDATE: 28-JUL-17  PROVISO:   \\n\\n  COURT APPEALS==> \\n                                                                                                                                                                                             28\n",
       "Description of Project:  PWD\\n  APPEAL TYPES==> \\nAPPEAL TYPE: WATER  \\n\\n  BOARD DECISIONS==> \\n\\n  COURT APPEALS==> \\n                                                                                                                                                                                                                                                                           21\n",
       "Description of Project:  BUILDING PERMIT #765070\\n  APPEAL TYPES==> \\nAPPEAL TYPE: AGAINSTL&I  \\n\\n  BOARD DECISIONS==> \\nDECISION: AFFIRMED  DECDATE: 24-JUL-17  PROVISO:   \\n\\n  COURT APPEALS==> \\n                                                                                                                                                                                             19\n",
       "Description of Project:  AMENDED 957615\\n  APPEAL TYPES==> \\nAPPEAL TYPE: USEVAR  \\nAPPEAL TYPE: ZONEVAR  \\n\\n  BOARD DECISIONS==> \\nDECISION: CONTINUED  DECDATE: 21-NOV-18  PROVISO:   \\nDECISION: CONTINUED  DECDATE: 30-JAN-19  PROVISO: MUST BE HEARD  \\nDECISION: CONTINUED  DECDATE: 20-MAR-19  PROVISO:   \\nDECISION: GRANTED  DECDATE: 15-MAY-19  PROVISO:   \\n\\n  COURT APPEALS==> \\n    13\n",
       "Description of Project:  Building Permit #765070\\n  APPEAL TYPES==> \\nAPPEAL TYPE: AGAINSTL&I  \\n\\n  BOARD DECISIONS==> \\nDECISION: AFFIRMED  DECDATE: 24-JUL-17  PROVISO:   \\n\\n  COURT APPEALS==> \\n                                                                                                                                                                                             13\n",
       "Description of Project:  653576 INTENT TO CEASE\\n  APPEAL TYPES==> \\nAPPEAL TYPE: NTF-CEASE  \\n\\n  BOARD DECISIONS==> \\nDECISION: AFFIRMED  DECDATE: 02-OCT-18  PROVISO: 90 DAY STAY OF ENFORCEMENT  \\n\\n  COURT APPEALS==> \\n                                                                                                                                                                      8\n",
       "Description of Project:  PWD\\n  APPEAL TYPES==> \\nAPPEAL TYPE: WATER  \\n\\n  BOARD DECISIONS==> \\nDECISION: MOOT  DECDATE: 10-JUL-18  PROVISO: COMPLIED  \\n\\n  COURT APPEALS==> \\n                                                                                                                                                                                                                   7\n",
       "Description of Project:  PWD\\n  APPEAL TYPES==> \\nAPPEAL TYPE: WATER  \\n\\n  BOARD DECISIONS==> \\nDECISION: MOOT  DECDATE: 13-MAR-18  PROVISO:   \\n\\n  COURT APPEALS==> \\n                                                                                                                                                                                                                           6\n",
       "Description of Project:  PWD\\n  APPEAL TYPES==> \\nAPPEAL TYPE: WATER  \\n\\n  BOARD DECISIONS==> \\nDECISION: MOOT  DECDATE: 16-APR-19  PROVISO:   \\n\\n  COURT APPEALS==> \\n                                                                                                                                                                                                                           5\n",
       "Name: relatedpermit, dtype: int64"
      ]
     },
     "execution_count": 18,
     "metadata": {},
     "output_type": "execute_result"
    }
   ],
   "source": [
    "#Top examples of \"relatedpermit\"\n",
    "df['relatedpermit'].value_counts().head(10)"
   ]
  },
  {
   "cell_type": "code",
   "execution_count": 19,
   "metadata": {
    "scrolled": true
   },
   "outputs": [
    {
     "data": {
      "text/plain": [
       "COMPLIED                                                          1751\n",
       "FOR WANT OF APPEARANCE                                             737\n",
       "*****CASE WITHDRAWN.*****                                          402\n",
       "*****CASE DISMISSED.*****                                          163\n",
       "*****CASE DISMISSED - PUT INTO ENFORCEMENT.*****                   109\n",
       "60 DAY STAY OF ENFORCEMENT                                         101\n",
       "90 DAY STAY OF ENFORCEMENT                                          85\n",
       "30 DAY STAY OF ENFORCEMENT                                          58\n",
       "WITHOUT PREJUDICE;  CITY HAS THE RIGHT TO RE-ISSUE VIOLATIONS.      54\n",
       "120 DAY STAY OF ENFORCEMENT                                         53\n",
       "Name: proviso, dtype: int64"
      ]
     },
     "execution_count": 19,
     "metadata": {},
     "output_type": "execute_result"
    }
   ],
   "source": [
    "#Top value of \"proviso\"\n",
    "df['proviso'].value_counts().head(10)"
   ]
  },
  {
   "cell_type": "code",
   "execution_count": 20,
   "metadata": {},
   "outputs": [
    {
     "data": {
      "text/plain": [
       "GRANTED                  8436\n",
       "GRANTED/PROV             6260\n",
       "WITHDRAWN                2420\n",
       "MOOT                     2283\n",
       "AFFIRMED                 1956\n",
       "DENIED                   1796\n",
       "APPROVED                 1554\n",
       "DISMISSED                 936\n",
       "Complete                  355\n",
       "SUSTAINED                 255\n",
       "CONTINUED                 224\n",
       "DENIED/PROV                69\n",
       "ADMIN/REVIEW               63\n",
       "DISMI/ENFORC               42\n",
       "REMAND                     38\n",
       "Dismissed / Withdrawn      38\n",
       "HELD                       17\n",
       "NEWHEARNOT                 12\n",
       "HELD/INFO                   9\n",
       "BOARDAKNOWL                 7\n",
       "Continued                   6\n",
       "Cancelled                   3\n",
       "LATE-APPRVD                 3\n",
       "REFUSED                     3\n",
       "LATE-DENIED                 2\n",
       "NEWHEARYES                  2\n",
       "REVISED                     2\n",
       "RESCHEDULE                  1\n",
       "ISSUED                      1\n",
       "Rescheduled                 1\n",
       "Name: decision, dtype: int64"
      ]
     },
     "execution_count": 20,
     "metadata": {},
     "output_type": "execute_result"
    }
   ],
   "source": [
    "#Breakdown by decision\n",
    "df['decision'].value_counts()"
   ]
  },
  {
   "cell_type": "code",
   "execution_count": 21,
   "metadata": {},
   "outputs": [],
   "source": [
    "# Save the values\n",
    "df['decisionsv']=df['decision']"
   ]
  },
  {
   "cell_type": "code",
   "execution_count": 22,
   "metadata": {},
   "outputs": [
    {
     "data": {
      "text/html": [
       "<div>\n",
       "<style scoped>\n",
       "    .dataframe tbody tr th:only-of-type {\n",
       "        vertical-align: middle;\n",
       "    }\n",
       "\n",
       "    .dataframe tbody tr th {\n",
       "        vertical-align: top;\n",
       "    }\n",
       "\n",
       "    .dataframe thead th {\n",
       "        text-align: right;\n",
       "    }\n",
       "</style>\n",
       "<table border=\"1\" class=\"dataframe\">\n",
       "  <thead>\n",
       "    <tr style=\"text-align: right;\">\n",
       "      <th></th>\n",
       "      <th>decision</th>\n",
       "      <th>proviso</th>\n",
       "    </tr>\n",
       "  </thead>\n",
       "  <tbody>\n",
       "    <tr>\n",
       "      <th>3586</th>\n",
       "      <td>DENIED/PROV</td>\n",
       "      <td>NaN</td>\n",
       "    </tr>\n",
       "    <tr>\n",
       "      <th>25686</th>\n",
       "      <td>GRANTED/PROV</td>\n",
       "      <td>NaN</td>\n",
       "    </tr>\n",
       "  </tbody>\n",
       "</table>\n",
       "</div>"
      ],
      "text/plain": [
       "           decision proviso\n",
       "3586    DENIED/PROV     NaN\n",
       "25686  GRANTED/PROV     NaN"
      ]
     },
     "execution_count": 22,
     "metadata": {},
     "output_type": "execute_result"
    }
   ],
   "source": [
    "df[(df['decision'].str.contains('/PROV') == True) & (df['proviso'].isna() == True)][['decision', 'proviso']]"
   ]
  },
  {
   "cell_type": "markdown",
   "metadata": {},
   "source": [
    "Even though there are only two records, it appears that /PROV in the 'decision' field doesn't mean that there is value in the field 'proviso'"
   ]
  },
  {
   "cell_type": "code",
   "execution_count": 23,
   "metadata": {},
   "outputs": [
    {
     "data": {
      "text/html": [
       "<div>\n",
       "<style scoped>\n",
       "    .dataframe tbody tr th:only-of-type {\n",
       "        vertical-align: middle;\n",
       "    }\n",
       "\n",
       "    .dataframe tbody tr th {\n",
       "        vertical-align: top;\n",
       "    }\n",
       "\n",
       "    .dataframe thead th {\n",
       "        text-align: right;\n",
       "    }\n",
       "</style>\n",
       "<table border=\"1\" class=\"dataframe\">\n",
       "  <thead>\n",
       "    <tr style=\"text-align: right;\">\n",
       "      <th></th>\n",
       "      <th>decision</th>\n",
       "      <th>proviso</th>\n",
       "    </tr>\n",
       "  </thead>\n",
       "  <tbody>\n",
       "    <tr>\n",
       "      <th>0</th>\n",
       "      <td>MOOT</td>\n",
       "      <td>COMPLIED</td>\n",
       "    </tr>\n",
       "    <tr>\n",
       "      <th>2</th>\n",
       "      <td>MOOT</td>\n",
       "      <td>COMPLIED</td>\n",
       "    </tr>\n",
       "    <tr>\n",
       "      <th>9</th>\n",
       "      <td>AFFIRMED</td>\n",
       "      <td>CITY WILL STAY ENFORCEMENT FOR 60 DAYS TO SECU...</td>\n",
       "    </tr>\n",
       "    <tr>\n",
       "      <th>21</th>\n",
       "      <td>AFFIRMED</td>\n",
       "      <td>CITY WILL STAY ENFORCEMENT ACTION FOR 90  DAYS.</td>\n",
       "    </tr>\n",
       "    <tr>\n",
       "      <th>22</th>\n",
       "      <td>MOOT</td>\n",
       "      <td>COMPLIED</td>\n",
       "    </tr>\n",
       "    <tr>\n",
       "      <th>...</th>\n",
       "      <td>...</td>\n",
       "      <td>...</td>\n",
       "    </tr>\n",
       "    <tr>\n",
       "      <th>29489</th>\n",
       "      <td>Complete</td>\n",
       "      <td>Provisos:\\r\\n1. Enclose and screen trash area....</td>\n",
       "    </tr>\n",
       "    <tr>\n",
       "      <th>29538</th>\n",
       "      <td>Complete</td>\n",
       "      <td>Proviso:  Revised plans, 1 page, approved today.</td>\n",
       "    </tr>\n",
       "    <tr>\n",
       "      <th>29541</th>\n",
       "      <td>AFFIRMED</td>\n",
       "      <td>60 DAYS STAY OF ENFORCEMENT</td>\n",
       "    </tr>\n",
       "    <tr>\n",
       "      <th>29542</th>\n",
       "      <td>MOOT</td>\n",
       "      <td>COMPLIED</td>\n",
       "    </tr>\n",
       "    <tr>\n",
       "      <th>29544</th>\n",
       "      <td>MOOT</td>\n",
       "      <td>COMPLIED</td>\n",
       "    </tr>\n",
       "  </tbody>\n",
       "</table>\n",
       "<p>5356 rows × 2 columns</p>\n",
       "</div>"
      ],
      "text/plain": [
       "       decision                                            proviso\n",
       "0          MOOT                                           COMPLIED\n",
       "2          MOOT                                           COMPLIED\n",
       "9      AFFIRMED  CITY WILL STAY ENFORCEMENT FOR 60 DAYS TO SECU...\n",
       "21     AFFIRMED    CITY WILL STAY ENFORCEMENT ACTION FOR 90  DAYS.\n",
       "22         MOOT                                           COMPLIED\n",
       "...         ...                                                ...\n",
       "29489  Complete  Provisos:\\r\\n1. Enclose and screen trash area....\n",
       "29538  Complete   Proviso:  Revised plans, 1 page, approved today.\n",
       "29541  AFFIRMED                        60 DAYS STAY OF ENFORCEMENT\n",
       "29542      MOOT                                           COMPLIED\n",
       "29544      MOOT                                           COMPLIED\n",
       "\n",
       "[5356 rows x 2 columns]"
      ]
     },
     "execution_count": 23,
     "metadata": {},
     "output_type": "execute_result"
    }
   ],
   "source": [
    "df[~(df['decision'].str.contains('/PROV') == True) & (df['proviso'].isna() == False)][['decision', 'proviso']]"
   ]
  },
  {
   "cell_type": "markdown",
   "metadata": {},
   "source": [
    "not having /PROV in 'decision' field doesn't mean no value in 'provision'"
   ]
  },
  {
   "cell_type": "markdown",
   "metadata": {},
   "source": [
    "### Remove /PROV value from decision column and store it as a flag in a separate field"
   ]
  },
  {
   "cell_type": "code",
   "execution_count": 24,
   "metadata": {},
   "outputs": [],
   "source": [
    "# Add new field prvFlag to store \"/PROV\" from decision\n",
    "df['provFlag'] = (df['decision'].str.contains('/PROV') == True).astype('int')"
   ]
  },
  {
   "cell_type": "code",
   "execution_count": 25,
   "metadata": {},
   "outputs": [
    {
     "data": {
      "text/plain": [
       "array([12, 11], dtype=int64)"
      ]
     },
     "execution_count": 25,
     "metadata": {},
     "output_type": "execute_result"
    }
   ],
   "source": [
    "df[df['decision'].str.contains('/PROV')]['decision'].str.len().unique()"
   ]
  },
  {
   "cell_type": "code",
   "execution_count": 26,
   "metadata": {},
   "outputs": [],
   "source": [
    "def stripProviso (decision):\n",
    "    if '/PROV' in decision:\n",
    "        strLength = len(decision)\n",
    "        return decision[0: strLength-5]\n",
    "    else:\n",
    "        return decision"
   ]
  },
  {
   "cell_type": "code",
   "execution_count": 27,
   "metadata": {},
   "outputs": [],
   "source": [
    "df['decision'] = df['decision'].apply(stripProviso)"
   ]
  },
  {
   "cell_type": "code",
   "execution_count": 28,
   "metadata": {},
   "outputs": [
    {
     "data": {
      "text/html": [
       "<div>\n",
       "<style scoped>\n",
       "    .dataframe tbody tr th:only-of-type {\n",
       "        vertical-align: middle;\n",
       "    }\n",
       "\n",
       "    .dataframe tbody tr th {\n",
       "        vertical-align: top;\n",
       "    }\n",
       "\n",
       "    .dataframe thead th {\n",
       "        text-align: right;\n",
       "    }\n",
       "</style>\n",
       "<table border=\"1\" class=\"dataframe\">\n",
       "  <thead>\n",
       "    <tr style=\"text-align: right;\">\n",
       "      <th></th>\n",
       "      <th>decision</th>\n",
       "      <th>decisionsv</th>\n",
       "      <th>provFlag</th>\n",
       "    </tr>\n",
       "  </thead>\n",
       "  <tbody>\n",
       "    <tr>\n",
       "      <th>0</th>\n",
       "      <td>MOOT</td>\n",
       "      <td>MOOT</td>\n",
       "      <td>0</td>\n",
       "    </tr>\n",
       "    <tr>\n",
       "      <th>1</th>\n",
       "      <td>GRANTED</td>\n",
       "      <td>GRANTED</td>\n",
       "      <td>0</td>\n",
       "    </tr>\n",
       "    <tr>\n",
       "      <th>2</th>\n",
       "      <td>MOOT</td>\n",
       "      <td>MOOT</td>\n",
       "      <td>0</td>\n",
       "    </tr>\n",
       "    <tr>\n",
       "      <th>3</th>\n",
       "      <td>GRANTED</td>\n",
       "      <td>GRANTED</td>\n",
       "      <td>0</td>\n",
       "    </tr>\n",
       "    <tr>\n",
       "      <th>4</th>\n",
       "      <td>WITHDRAWN</td>\n",
       "      <td>WITHDRAWN</td>\n",
       "      <td>0</td>\n",
       "    </tr>\n",
       "    <tr>\n",
       "      <th>...</th>\n",
       "      <td>...</td>\n",
       "      <td>...</td>\n",
       "      <td>...</td>\n",
       "    </tr>\n",
       "    <tr>\n",
       "      <th>29557</th>\n",
       "      <td>GRANTED</td>\n",
       "      <td>GRANTED</td>\n",
       "      <td>0</td>\n",
       "    </tr>\n",
       "    <tr>\n",
       "      <th>29558</th>\n",
       "      <td>DENIED</td>\n",
       "      <td>DENIED</td>\n",
       "      <td>0</td>\n",
       "    </tr>\n",
       "    <tr>\n",
       "      <th>29559</th>\n",
       "      <td>GRANTED</td>\n",
       "      <td>GRANTED</td>\n",
       "      <td>0</td>\n",
       "    </tr>\n",
       "    <tr>\n",
       "      <th>29560</th>\n",
       "      <td>GRANTED</td>\n",
       "      <td>GRANTED</td>\n",
       "      <td>0</td>\n",
       "    </tr>\n",
       "    <tr>\n",
       "      <th>29561</th>\n",
       "      <td>GRANTED</td>\n",
       "      <td>GRANTED</td>\n",
       "      <td>0</td>\n",
       "    </tr>\n",
       "  </tbody>\n",
       "</table>\n",
       "<p>26794 rows × 3 columns</p>\n",
       "</div>"
      ],
      "text/plain": [
       "        decision decisionsv  provFlag\n",
       "0           MOOT       MOOT         0\n",
       "1        GRANTED    GRANTED         0\n",
       "2           MOOT       MOOT         0\n",
       "3        GRANTED    GRANTED         0\n",
       "4      WITHDRAWN  WITHDRAWN         0\n",
       "...          ...        ...       ...\n",
       "29557    GRANTED    GRANTED         0\n",
       "29558     DENIED     DENIED         0\n",
       "29559    GRANTED    GRANTED         0\n",
       "29560    GRANTED    GRANTED         0\n",
       "29561    GRANTED    GRANTED         0\n",
       "\n",
       "[26794 rows x 3 columns]"
      ]
     },
     "execution_count": 28,
     "metadata": {},
     "output_type": "execute_result"
    }
   ],
   "source": [
    "df[['decision','decisionsv','provFlag']]"
   ]
  },
  {
   "cell_type": "markdown",
   "metadata": {},
   "source": [
    "### Change case for all decisions to lower case"
   ]
  },
  {
   "cell_type": "code",
   "execution_count": 29,
   "metadata": {},
   "outputs": [],
   "source": [
    "df['decision'] = df['decision'].str.lower()"
   ]
  },
  {
   "cell_type": "markdown",
   "metadata": {},
   "source": [
    "### Combine dismissed and withdrawn as dismissed"
   ]
  },
  {
   "cell_type": "code",
   "execution_count": 30,
   "metadata": {},
   "outputs": [
    {
     "data": {
      "text/plain": [
       "['dismi/enforc', 'dismissed', 'dismissed / withdrawn']"
      ]
     },
     "execution_count": 30,
     "metadata": {},
     "output_type": "execute_result"
    }
   ],
   "source": [
    "sorted(df[df['decision'].str.contains('dismi')]['decision'].unique())"
   ]
  },
  {
   "cell_type": "code",
   "execution_count": 31,
   "metadata": {},
   "outputs": [],
   "source": [
    "def dismissed (decision):\n",
    "    if 'dismi' in decision or decision == 'withdrawn':\n",
    "        return 'dismissed'\n",
    "    else:\n",
    "        return decision"
   ]
  },
  {
   "cell_type": "code",
   "execution_count": 32,
   "metadata": {},
   "outputs": [],
   "source": [
    "df['decision'] = df['decision'].apply(dismissed)"
   ]
  },
  {
   "cell_type": "code",
   "execution_count": 33,
   "metadata": {},
   "outputs": [
    {
     "data": {
      "text/plain": [
       "['dismissed']"
      ]
     },
     "execution_count": 33,
     "metadata": {},
     "output_type": "execute_result"
    }
   ],
   "source": [
    "sorted(df[df['decision'].str.contains('dismi')]['decision'].unique())"
   ]
  },
  {
   "cell_type": "code",
   "execution_count": 34,
   "metadata": {},
   "outputs": [
    {
     "data": {
      "text/plain": [
       "['admin/review',\n",
       " 'affirmed',\n",
       " 'approved',\n",
       " 'boardaknowl',\n",
       " 'cancelled',\n",
       " 'complete',\n",
       " 'continued',\n",
       " 'denied',\n",
       " 'dismissed',\n",
       " 'granted',\n",
       " 'held',\n",
       " 'held/info',\n",
       " 'issued',\n",
       " 'late-apprvd',\n",
       " 'late-denied',\n",
       " 'moot',\n",
       " 'newhearnot',\n",
       " 'newhearyes',\n",
       " 'refused',\n",
       " 'remand',\n",
       " 'reschedule',\n",
       " 'rescheduled',\n",
       " 'revised',\n",
       " 'sustained']"
      ]
     },
     "execution_count": 34,
     "metadata": {},
     "output_type": "execute_result"
    }
   ],
   "source": [
    "sorted(df['decision'].unique())"
   ]
  },
  {
   "cell_type": "code",
   "execution_count": 35,
   "metadata": {},
   "outputs": [
    {
     "data": {
      "text/plain": [
       "granted         14696\n",
       "dismissed        3436\n",
       "moot             2283\n",
       "affirmed         1956\n",
       "denied           1865\n",
       "approved         1554\n",
       "complete          355\n",
       "sustained         255\n",
       "continued         230\n",
       "admin/review       63\n",
       "remand             38\n",
       "held               17\n",
       "newhearnot         12\n",
       "held/info           9\n",
       "boardaknowl         7\n",
       "late-apprvd         3\n",
       "refused             3\n",
       "cancelled           3\n",
       "newhearyes          2\n",
       "late-denied         2\n",
       "revised             2\n",
       "rescheduled         1\n",
       "reschedule          1\n",
       "issued              1\n",
       "Name: decision, dtype: int64"
      ]
     },
     "execution_count": 35,
     "metadata": {},
     "output_type": "execute_result"
    }
   ],
   "source": [
    "df['decision'].value_counts()"
   ]
  },
  {
   "cell_type": "code",
   "execution_count": 36,
   "metadata": {},
   "outputs": [
    {
     "data": {
      "text/plain": [
       "Granted      327\n",
       "Denied        18\n",
       "Withdrawn      4\n",
       "Refused        2\n",
       "Dismissed      2\n",
       "Approved       2\n",
       "Name: meetingresult, dtype: int64"
      ]
     },
     "execution_count": 36,
     "metadata": {},
     "output_type": "execute_result"
    }
   ],
   "source": [
    "df[(df['decision'] == 'complete')]['meetingresult'].value_counts()"
   ]
  },
  {
   "cell_type": "code",
   "execution_count": 37,
   "metadata": {},
   "outputs": [
    {
     "data": {
      "text/plain": [
       "Granted    1\n",
       "Name: meetingresult, dtype: int64"
      ]
     },
     "execution_count": 37,
     "metadata": {},
     "output_type": "execute_result"
    }
   ],
   "source": [
    "df[(df['decision'] == 'continued')]['meetingresult'].value_counts()"
   ]
  },
  {
   "cell_type": "markdown",
   "metadata": {},
   "source": [
    "▬▬▬▬▬▬▬▬▬▬▬▬▬▬▬▬▬▬▬▬▬▬▬▬▬▬▬▬▬▬▬▬▬▬▬▬▬▬▬▬▬▬▬▬▬▬▬▬▬▬▬▬▬▬▬▬▬▬▬▬▬▬▬▬▬▬▬▬▬\n",
    "### Translate appeal decision into new feature and reduce the number of outcomes"
   ]
  },
  {
   "cell_type": "code",
   "execution_count": 40,
   "metadata": {},
   "outputs": [
    {
     "data": {
      "text/plain": [
       "granted         14696\n",
       "dismissed        3436\n",
       "moot             2283\n",
       "affirmed         1956\n",
       "denied           1887\n",
       "approved         1883\n",
       "sustained         255\n",
       "continued         230\n",
       "admin/review       63\n",
       "remand             38\n",
       "held               17\n",
       "newhearnot         12\n",
       "held/info           9\n",
       "boardaknowl         7\n",
       "other               4\n",
       "late-apprvd         3\n",
       "refused             3\n",
       "cancelled           3\n",
       "newhearyes          2\n",
       "late-denied         2\n",
       "revised             2\n",
       "reschedule          1\n",
       "rescheduled         1\n",
       "issued              1\n",
       "dtype: int64"
      ]
     },
     "execution_count": 40,
     "metadata": {},
     "output_type": "execute_result"
    }
   ],
   "source": [
    "def translateComplete(meetingresult):\n",
    "    switcher = {\n",
    "        'Granted':'approved',\n",
    "        'Denied':'denied',\n",
    "        'Withdrawn':'other',\n",
    "        'Dismissed':'denied',\n",
    "        'Approved':'approved',\n",
    "        'Refused':'denied'                \n",
    "        }\n",
    "    return switcher.get(meetingresult, 'other') \n",
    "\n",
    "#def CompleteDecision(decision, meetingresult):\n",
    "def CompleteDecision(arg):\n",
    "    if arg[0] == 'complete':\n",
    "        return translateComplete(arg[1])\n",
    "    else:\n",
    "        return arg[0]\n",
    "\n",
    "    \n",
    "def funcNewDecision(decision): \n",
    "    switcher = {\n",
    "        'admin/review': 'other',\n",
    "        'affirmed':'denied',\n",
    "        'approved':'approved',\n",
    "        'boardaknowl':'other',\n",
    "        'cancelled':'other',\n",
    "        'complete':'complete',\n",
    "        'continued':'other',\n",
    "        'denied':'denied',\n",
    "        'dismissed':'other',\n",
    "        'granted':'approved',\n",
    "        'held':'denied',\n",
    "        'held/info':'denied',\n",
    "        'issued':'other',\n",
    "        'late-apprvd':'other',\n",
    "        'late-denied':'other',\n",
    "        'moot':'other',\n",
    "        'newhearnot':'other',\n",
    "        'newhearyes':'other',\n",
    "        'refused':'denied',\n",
    "        'remand':'other',\n",
    "        'reschedule':'other',\n",
    "        'rescheduled':'other',\n",
    "        'revised':'other',\n",
    "        'sustained':'denied'\n",
    "        } \n",
    "    return switcher.get(decision, 'other') \n",
    "\n",
    "df['decision'].apply(funcNewDecision).value_counts()\n",
    "\n",
    "df[df['decision'] == 'complete']['meetingresult'].apply(translateComplete).value_counts()\n",
    "\n",
    "df[['decision','meetingresult']].apply(tuple, axis=1).apply(CompleteDecision).value_counts()\n",
    "\n",
    "#df['newDecision'] = df[df['decision'] == 'complete'][['newDecision','meetingresult']].apply(tuple, axis=1).apply(CompleteDecision).value_counts()\n"
   ]
  },
  {
   "cell_type": "code",
   "execution_count": 41,
   "metadata": {},
   "outputs": [
    {
     "data": {
      "text/plain": [
       "approved    16579\n",
       "other        6088\n",
       "denied       4127\n",
       "Name: newDecision, dtype: int64"
      ]
     },
     "execution_count": 41,
     "metadata": {},
     "output_type": "execute_result"
    }
   ],
   "source": [
    "df['newDecision'] = df['decision'].apply(funcNewDecision)\n",
    "df['newDecision'] = df[['newDecision','meetingresult']].apply(tuple, axis=1).apply(CompleteDecision)\n",
    "df['newDecision'].value_counts()"
   ]
  },
  {
   "cell_type": "markdown",
   "metadata": {},
   "source": [
    "▬▬▬▬▬▬▬▬▬▬▬▬▬▬▬▬▬▬▬▬▬▬▬▬▬▬▬▬▬▬▬▬▬▬▬▬▬▬▬▬▬▬▬▬▬▬▬▬▬▬▬▬▬▬▬▬▬▬▬▬▬▬▬▬▬▬▬▬▬"
   ]
  },
  {
   "cell_type": "code",
   "execution_count": 42,
   "metadata": {},
   "outputs": [
    {
     "data": {
      "text/html": [
       "<div>\n",
       "<style scoped>\n",
       "    .dataframe tbody tr th:only-of-type {\n",
       "        vertical-align: middle;\n",
       "    }\n",
       "\n",
       "    .dataframe tbody tr th {\n",
       "        vertical-align: top;\n",
       "    }\n",
       "\n",
       "    .dataframe thead th {\n",
       "        text-align: right;\n",
       "    }\n",
       "</style>\n",
       "<table border=\"1\" class=\"dataframe\">\n",
       "  <thead>\n",
       "    <tr style=\"text-align: right;\">\n",
       "      <th></th>\n",
       "      <th>the_geom</th>\n",
       "      <th>the_geom_webmercator</th>\n",
       "      <th>objectid</th>\n",
       "      <th>addressobjectid</th>\n",
       "      <th>address</th>\n",
       "      <th>unit_type</th>\n",
       "      <th>unit_num</th>\n",
       "      <th>zip</th>\n",
       "      <th>opa_account_num</th>\n",
       "      <th>parcel_id_num</th>\n",
       "      <th>...</th>\n",
       "      <th>proviso</th>\n",
       "      <th>decisiondate</th>\n",
       "      <th>systemofrecord</th>\n",
       "      <th>geocode_x</th>\n",
       "      <th>geocode_y</th>\n",
       "      <th>lat</th>\n",
       "      <th>lng</th>\n",
       "      <th>decisionsv</th>\n",
       "      <th>provFlag</th>\n",
       "      <th>newDecision</th>\n",
       "    </tr>\n",
       "  </thead>\n",
       "  <tbody>\n",
       "    <tr>\n",
       "      <th>4049</th>\n",
       "      <td>0101000020E6100000CCF7447DB4CD52C0B3F0B9DC37F84340</td>\n",
       "      <td>0101000020110F0000B4D87CF98FF05FC10B2C36E745875241</td>\n",
       "      <td>3697</td>\n",
       "      <td>622915.0</td>\n",
       "      <td>5000-40 WOODLAND AVE</td>\n",
       "      <td>NaN</td>\n",
       "      <td>NaN</td>\n",
       "      <td>19143-5100</td>\n",
       "      <td>773182100.0</td>\n",
       "      <td>145910</td>\n",
       "      <td>...</td>\n",
       "      <td>FOR TAX CERT</td>\n",
       "      <td>2011-04-13</td>\n",
       "      <td>HANSEN</td>\n",
       "      <td>2.679485e+06</td>\n",
       "      <td>230919.547094</td>\n",
       "      <td>39.939205</td>\n",
       "      <td>-75.214141</td>\n",
       "      <td>HELD/INFO</td>\n",
       "      <td>0</td>\n",
       "      <td>denied</td>\n",
       "    </tr>\n",
       "    <tr>\n",
       "      <th>6988</th>\n",
       "      <td>0101000020E61000000BDC3CA74DCA52C06FEFAEB9B0034440</td>\n",
       "      <td>0101000020110F000051F299C5C8EA5FC1D48F1C31FD935241</td>\n",
       "      <td>6800</td>\n",
       "      <td>398758.0</td>\n",
       "      <td>34 E LOGAN ST</td>\n",
       "      <td>NaN</td>\n",
       "      <td>NaN</td>\n",
       "      <td>19144-3017</td>\n",
       "      <td>121004500.0</td>\n",
       "      <td>343791</td>\n",
       "      <td>...</td>\n",
       "      <td>VOTE IN 2 WEEKS; APPLICANT &amp; COMMUNITY TO MEET RE: PARKING ISSUES; LETTER TO ZBA 2 WEEKS</td>\n",
       "      <td>2008-08-19</td>\n",
       "      <td>HANSEN</td>\n",
       "      <td>2.693426e+06</td>\n",
       "      <td>263987.075341</td>\n",
       "      <td>40.028831</td>\n",
       "      <td>-75.160990</td>\n",
       "      <td>HELD/INFO</td>\n",
       "      <td>0</td>\n",
       "      <td>denied</td>\n",
       "    </tr>\n",
       "    <tr>\n",
       "      <th>9690</th>\n",
       "      <td>0101000020E610000009FB5E34FECA52C0CB57E0F6A8F44340</td>\n",
       "      <td>0101000020110F0000F7F87AA9F4EB5FC1A043E81B55835241</td>\n",
       "      <td>9871</td>\n",
       "      <td>51909.0</td>\n",
       "      <td>3101 S BROAD ST</td>\n",
       "      <td>NaN</td>\n",
       "      <td>NaN</td>\n",
       "      <td>19148-5239</td>\n",
       "      <td>395370400.0</td>\n",
       "      <td>183090</td>\n",
       "      <td>...</td>\n",
       "      <td>VOTE 3/18/08; HOLD FOR 5-PAGE SUMMARY FROM EACH SIDE.</td>\n",
       "      <td>2008-03-20</td>\n",
       "      <td>HANSEN</td>\n",
       "      <td>2.691658e+06</td>\n",
       "      <td>221141.422866</td>\n",
       "      <td>39.911406</td>\n",
       "      <td>-75.171765</td>\n",
       "      <td>HELD/INFO</td>\n",
       "      <td>0</td>\n",
       "      <td>denied</td>\n",
       "    </tr>\n",
       "    <tr>\n",
       "      <th>19723</th>\n",
       "      <td>0101000020E6100000DDCDED235ECB52C058A5DB6590F74340</td>\n",
       "      <td>0101000020110F000000615C9E97EC5FC1D3290B698C865241</td>\n",
       "      <td>19926</td>\n",
       "      <td>671302.0</td>\n",
       "      <td>1400 S 20TH ST</td>\n",
       "      <td>NaN</td>\n",
       "      <td>NaN</td>\n",
       "      <td>19146-4507</td>\n",
       "      <td>871549280.0</td>\n",
       "      <td>25999</td>\n",
       "      <td>...</td>\n",
       "      <td>HELD 60 DAYS PENDING REVISED REFUSAL FROM L&amp;I &amp; RCO MEETING/COUNCIL PERSON</td>\n",
       "      <td>2020-01-22</td>\n",
       "      <td>HANSEN</td>\n",
       "      <td>2.689776e+06</td>\n",
       "      <td>229354.773235</td>\n",
       "      <td>39.934094</td>\n",
       "      <td>-75.177621</td>\n",
       "      <td>HELD/INFO</td>\n",
       "      <td>0</td>\n",
       "      <td>denied</td>\n",
       "    </tr>\n",
       "    <tr>\n",
       "      <th>20801</th>\n",
       "      <td>0101000020E6100000ACCC8E97F4C952C02A4FBFD171004440</td>\n",
       "      <td>0101000020110F000026FB0C7E31EA5FC143D33AC363905241</td>\n",
       "      <td>20286</td>\n",
       "      <td>660781.0</td>\n",
       "      <td>3259 N 16TH ST</td>\n",
       "      <td>NaN</td>\n",
       "      <td>NaN</td>\n",
       "      <td>19140-4910</td>\n",
       "      <td>112194800.0</td>\n",
       "      <td>250252</td>\n",
       "      <td>...</td>\n",
       "      <td>letter from RCO and C/W</td>\n",
       "      <td>2019-02-06</td>\n",
       "      <td>HANSEN</td>\n",
       "      <td>2.695219e+06</td>\n",
       "      <td>254798.523686</td>\n",
       "      <td>40.003473</td>\n",
       "      <td>-75.155554</td>\n",
       "      <td>HELD/INFO</td>\n",
       "      <td>0</td>\n",
       "      <td>denied</td>\n",
       "    </tr>\n",
       "  </tbody>\n",
       "</table>\n",
       "<p>5 rows × 40 columns</p>\n",
       "</div>"
      ],
      "text/plain": [
       "                                                 the_geom  \\\n",
       "4049   0101000020E6100000CCF7447DB4CD52C0B3F0B9DC37F84340   \n",
       "6988   0101000020E61000000BDC3CA74DCA52C06FEFAEB9B0034440   \n",
       "9690   0101000020E610000009FB5E34FECA52C0CB57E0F6A8F44340   \n",
       "19723  0101000020E6100000DDCDED235ECB52C058A5DB6590F74340   \n",
       "20801  0101000020E6100000ACCC8E97F4C952C02A4FBFD171004440   \n",
       "\n",
       "                                     the_geom_webmercator  objectid  \\\n",
       "4049   0101000020110F0000B4D87CF98FF05FC10B2C36E745875241      3697   \n",
       "6988   0101000020110F000051F299C5C8EA5FC1D48F1C31FD935241      6800   \n",
       "9690   0101000020110F0000F7F87AA9F4EB5FC1A043E81B55835241      9871   \n",
       "19723  0101000020110F000000615C9E97EC5FC1D3290B698C865241     19926   \n",
       "20801  0101000020110F000026FB0C7E31EA5FC143D33AC363905241     20286   \n",
       "\n",
       "       addressobjectid               address unit_type unit_num         zip  \\\n",
       "4049          622915.0  5000-40 WOODLAND AVE       NaN      NaN  19143-5100   \n",
       "6988          398758.0         34 E LOGAN ST       NaN      NaN  19144-3017   \n",
       "9690           51909.0       3101 S BROAD ST       NaN      NaN  19148-5239   \n",
       "19723         671302.0        1400 S 20TH ST       NaN      NaN  19146-4507   \n",
       "20801         660781.0        3259 N 16TH ST       NaN      NaN  19140-4910   \n",
       "\n",
       "       opa_account_num parcel_id_num  ...  \\\n",
       "4049       773182100.0        145910  ...   \n",
       "6988       121004500.0        343791  ...   \n",
       "9690       395370400.0        183090  ...   \n",
       "19723      871549280.0         25999  ...   \n",
       "20801      112194800.0        250252  ...   \n",
       "\n",
       "                                                                                        proviso  \\\n",
       "4049                                                                               FOR TAX CERT   \n",
       "6988   VOTE IN 2 WEEKS; APPLICANT & COMMUNITY TO MEET RE: PARKING ISSUES; LETTER TO ZBA 2 WEEKS   \n",
       "9690                                      VOTE 3/18/08; HOLD FOR 5-PAGE SUMMARY FROM EACH SIDE.   \n",
       "19723                HELD 60 DAYS PENDING REVISED REFUSAL FROM L&I & RCO MEETING/COUNCIL PERSON   \n",
       "20801                                                                   letter from RCO and C/W   \n",
       "\n",
       "      decisiondate systemofrecord     geocode_x      geocode_y        lat  \\\n",
       "4049    2011-04-13         HANSEN  2.679485e+06  230919.547094  39.939205   \n",
       "6988    2008-08-19         HANSEN  2.693426e+06  263987.075341  40.028831   \n",
       "9690    2008-03-20         HANSEN  2.691658e+06  221141.422866  39.911406   \n",
       "19723   2020-01-22         HANSEN  2.689776e+06  229354.773235  39.934094   \n",
       "20801   2019-02-06         HANSEN  2.695219e+06  254798.523686  40.003473   \n",
       "\n",
       "             lng decisionsv provFlag newDecision  \n",
       "4049  -75.214141  HELD/INFO        0      denied  \n",
       "6988  -75.160990  HELD/INFO        0      denied  \n",
       "9690  -75.171765  HELD/INFO        0      denied  \n",
       "19723 -75.177621  HELD/INFO        0      denied  \n",
       "20801 -75.155554  HELD/INFO        0      denied  \n",
       "\n",
       "[5 rows x 40 columns]"
      ]
     },
     "execution_count": 42,
     "metadata": {},
     "output_type": "execute_result"
    }
   ],
   "source": [
    "pd.set_option('display.max_colwidth', None)\n",
    "df[df['decision'] == 'held/info'].head(5)"
   ]
  },
  {
   "cell_type": "code",
   "execution_count": 43,
   "metadata": {
    "scrolled": true
   },
   "outputs": [
    {
     "data": {
      "text/html": [
       "<div>\n",
       "<style scoped>\n",
       "    .dataframe tbody tr th:only-of-type {\n",
       "        vertical-align: middle;\n",
       "    }\n",
       "\n",
       "    .dataframe tbody tr th {\n",
       "        vertical-align: top;\n",
       "    }\n",
       "\n",
       "    .dataframe thead th {\n",
       "        text-align: right;\n",
       "    }\n",
       "</style>\n",
       "<table border=\"1\" class=\"dataframe\">\n",
       "  <thead>\n",
       "    <tr style=\"text-align: right;\">\n",
       "      <th></th>\n",
       "      <th>the_geom</th>\n",
       "      <th>the_geom_webmercator</th>\n",
       "      <th>objectid</th>\n",
       "      <th>addressobjectid</th>\n",
       "      <th>address</th>\n",
       "      <th>unit_type</th>\n",
       "      <th>unit_num</th>\n",
       "      <th>zip</th>\n",
       "      <th>opa_account_num</th>\n",
       "      <th>parcel_id_num</th>\n",
       "      <th>...</th>\n",
       "      <th>proviso</th>\n",
       "      <th>decisiondate</th>\n",
       "      <th>systemofrecord</th>\n",
       "      <th>geocode_x</th>\n",
       "      <th>geocode_y</th>\n",
       "      <th>lat</th>\n",
       "      <th>lng</th>\n",
       "      <th>decisionsv</th>\n",
       "      <th>provFlag</th>\n",
       "      <th>newDecision</th>\n",
       "    </tr>\n",
       "  </thead>\n",
       "  <tbody>\n",
       "  </tbody>\n",
       "</table>\n",
       "<p>0 rows × 40 columns</p>\n",
       "</div>"
      ],
      "text/plain": [
       "Empty DataFrame\n",
       "Columns: [the_geom, the_geom_webmercator, objectid, addressobjectid, address, unit_type, unit_num, zip, opa_account_num, parcel_id_num, censustract, opa_owner, primaryappellant, appellanttype, internaljobid, appealnumber, acceleratedappeal, createddate, completeddate, relatedpermit, relatedcasefile, appealstatus, appealtype, agendadescription, applicationtype, meetingnumber, appealgrounds, scheduleddate, decision, meetingresult, proviso, decisiondate, systemofrecord, geocode_x, geocode_y, lat, lng, decisionsv, provFlag, newDecision]\n",
       "Index: []\n",
       "\n",
       "[0 rows x 40 columns]"
      ]
     },
     "execution_count": 43,
     "metadata": {},
     "output_type": "execute_result"
    }
   ],
   "source": [
    "df[df['proviso'].isnull() == True]\n",
    "df[(df['decision'].str.contains(\"PROV\") == True) & (df['decision'] != 'approved')  & (df['proviso'].isnull() == True)]"
   ]
  },
  {
   "cell_type": "code",
   "execution_count": 44,
   "metadata": {
    "scrolled": true
   },
   "outputs": [
    {
     "data": {
      "text/html": [
       "<div>\n",
       "<style scoped>\n",
       "    .dataframe tbody tr th:only-of-type {\n",
       "        vertical-align: middle;\n",
       "    }\n",
       "\n",
       "    .dataframe tbody tr th {\n",
       "        vertical-align: top;\n",
       "    }\n",
       "\n",
       "    .dataframe thead th {\n",
       "        text-align: right;\n",
       "    }\n",
       "</style>\n",
       "<table border=\"1\" class=\"dataframe\">\n",
       "  <thead>\n",
       "    <tr style=\"text-align: right;\">\n",
       "      <th></th>\n",
       "      <th>the_geom</th>\n",
       "      <th>the_geom_webmercator</th>\n",
       "      <th>objectid</th>\n",
       "      <th>addressobjectid</th>\n",
       "      <th>address</th>\n",
       "      <th>unit_type</th>\n",
       "      <th>unit_num</th>\n",
       "      <th>zip</th>\n",
       "      <th>opa_account_num</th>\n",
       "      <th>parcel_id_num</th>\n",
       "      <th>...</th>\n",
       "      <th>proviso</th>\n",
       "      <th>decisiondate</th>\n",
       "      <th>systemofrecord</th>\n",
       "      <th>geocode_x</th>\n",
       "      <th>geocode_y</th>\n",
       "      <th>lat</th>\n",
       "      <th>lng</th>\n",
       "      <th>decisionsv</th>\n",
       "      <th>provFlag</th>\n",
       "      <th>newDecision</th>\n",
       "    </tr>\n",
       "  </thead>\n",
       "  <tbody>\n",
       "    <tr>\n",
       "      <th>48</th>\n",
       "      <td>0101000020E610000012821833D5CA52C07F2461F5DAFC4340</td>\n",
       "      <td>0101000020110F0000B64DCD02AFEB5FC12485D831698C5241</td>\n",
       "      <td>53</td>\n",
       "      <td>127982554.0</td>\n",
       "      <td>2000 SEYBERT ST</td>\n",
       "      <td>NaN</td>\n",
       "      <td>NaN</td>\n",
       "      <td>19121-4817</td>\n",
       "      <td>291053500.0</td>\n",
       "      <td>37094</td>\n",
       "      <td>...</td>\n",
       "      <td>NaN</td>\n",
       "      <td>2020-09-10 19:28:54</td>\n",
       "      <td>ECLIPSE</td>\n",
       "      <td>2.691679e+06</td>\n",
       "      <td>244475.379312</td>\n",
       "      <td>39.975432</td>\n",
       "      <td>-75.169263</td>\n",
       "      <td>Complete</td>\n",
       "      <td>0</td>\n",
       "      <td>approved</td>\n",
       "    </tr>\n",
       "    <tr>\n",
       "      <th>237</th>\n",
       "      <td>0101000020E61000004D7BC1E443CA52C0663B07BF14FC4340</td>\n",
       "      <td>0101000020110F000075A8AD31B8EA5FC12ED763878D8B5241</td>\n",
       "      <td>238</td>\n",
       "      <td>15453232.0</td>\n",
       "      <td>842 N BROAD ST</td>\n",
       "      <td>NaN</td>\n",
       "      <td>NaN</td>\n",
       "      <td>19130-2234</td>\n",
       "      <td>882885597.0</td>\n",
       "      <td>464788</td>\n",
       "      <td>...</td>\n",
       "      <td>NaN</td>\n",
       "      <td>2020-10-09 11:02:37</td>\n",
       "      <td>ECLIPSE</td>\n",
       "      <td>2.694228e+06</td>\n",
       "      <td>242345.549053</td>\n",
       "      <td>39.969383</td>\n",
       "      <td>-75.160394</td>\n",
       "      <td>Complete</td>\n",
       "      <td>0</td>\n",
       "      <td>approved</td>\n",
       "    </tr>\n",
       "    <tr>\n",
       "      <th>269</th>\n",
       "      <td>0101000020E6100000B692B43A1FC952C0593D2949E3FC4340</td>\n",
       "      <td>0101000020110F000010520913C7E85FC19B51786C728C5241</td>\n",
       "      <td>271</td>\n",
       "      <td>15456898.0</td>\n",
       "      <td>1618 GERMANTOWN AVE</td>\n",
       "      <td>NaN</td>\n",
       "      <td>NaN</td>\n",
       "      <td>19122-3017</td>\n",
       "      <td>183160510.0</td>\n",
       "      <td>436927</td>\n",
       "      <td>...</td>\n",
       "      <td>With proviso: (1) revised plans, 1 pg., approved today.</td>\n",
       "      <td>2020-10-14 11:31:12</td>\n",
       "      <td>ECLIPSE</td>\n",
       "      <td>2.699165e+06</td>\n",
       "      <td>244787.950990</td>\n",
       "      <td>39.975686</td>\n",
       "      <td>-75.142531</td>\n",
       "      <td>Complete</td>\n",
       "      <td>0</td>\n",
       "      <td>approved</td>\n",
       "    </tr>\n",
       "    <tr>\n",
       "      <th>312</th>\n",
       "      <td>0101000020E6100000525BD8498ECA52C08A6C64CDACF94340</td>\n",
       "      <td>0101000020110F0000A7D9AD8F36EB5FC1AA35D00AE3885241</td>\n",
       "      <td>309</td>\n",
       "      <td>15795392.0</td>\n",
       "      <td>1416 CHESTNUT ST</td>\n",
       "      <td>NaN</td>\n",
       "      <td>NaN</td>\n",
       "      <td>19102-2505</td>\n",
       "      <td>883421500.0</td>\n",
       "      <td>183272</td>\n",
       "      <td>...</td>\n",
       "      <td>NaN</td>\n",
       "      <td>2020-09-23 10:17:09</td>\n",
       "      <td>ECLIPSE</td>\n",
       "      <td>2.693156e+06</td>\n",
       "      <td>235463.747317</td>\n",
       "      <td>39.950586</td>\n",
       "      <td>-75.164935</td>\n",
       "      <td>Complete</td>\n",
       "      <td>0</td>\n",
       "      <td>approved</td>\n",
       "    </tr>\n",
       "    <tr>\n",
       "      <th>333</th>\n",
       "      <td>0101000020E6100000715EB5F72CC652C020C99AA4A6FF4340</td>\n",
       "      <td>0101000020110F00005B378CE2C5E35FC14234D680828F5241</td>\n",
       "      <td>337</td>\n",
       "      <td>15696515.0</td>\n",
       "      <td>3701 SEPVIVA ST</td>\n",
       "      <td>NaN</td>\n",
       "      <td>NaN</td>\n",
       "      <td>19137-1017</td>\n",
       "      <td>884201350.0</td>\n",
       "      <td>100870</td>\n",
       "      <td>...</td>\n",
       "      <td>NaN</td>\n",
       "      <td>2020-10-14 11:14:45</td>\n",
       "      <td>ECLIPSE</td>\n",
       "      <td>2.711825e+06</td>\n",
       "      <td>253032.358401</td>\n",
       "      <td>39.997273</td>\n",
       "      <td>-75.096495</td>\n",
       "      <td>Complete</td>\n",
       "      <td>0</td>\n",
       "      <td>approved</td>\n",
       "    </tr>\n",
       "    <tr>\n",
       "      <th>...</th>\n",
       "      <td>...</td>\n",
       "      <td>...</td>\n",
       "      <td>...</td>\n",
       "      <td>...</td>\n",
       "      <td>...</td>\n",
       "      <td>...</td>\n",
       "      <td>...</td>\n",
       "      <td>...</td>\n",
       "      <td>...</td>\n",
       "      <td>...</td>\n",
       "      <td>...</td>\n",
       "      <td>...</td>\n",
       "      <td>...</td>\n",
       "      <td>...</td>\n",
       "      <td>...</td>\n",
       "      <td>...</td>\n",
       "      <td>...</td>\n",
       "      <td>...</td>\n",
       "      <td>...</td>\n",
       "      <td>...</td>\n",
       "      <td>...</td>\n",
       "    </tr>\n",
       "    <tr>\n",
       "      <th>29534</th>\n",
       "      <td>0101000020E6100000DC397C0E7FCC52C0B420B9DBB5FB4340</td>\n",
       "      <td>0101000020110F0000069E345F82EE5FC12B83AC60248B5241</td>\n",
       "      <td>29164</td>\n",
       "      <td>15493716.0</td>\n",
       "      <td>714 N 36TH ST</td>\n",
       "      <td>NaN</td>\n",
       "      <td>NaN</td>\n",
       "      <td>19104-1605</td>\n",
       "      <td>243077200.0</td>\n",
       "      <td>542775</td>\n",
       "      <td>...</td>\n",
       "      <td>NaN</td>\n",
       "      <td>2020-10-05 15:14:33</td>\n",
       "      <td>ECLIPSE</td>\n",
       "      <td>2.684491e+06</td>\n",
       "      <td>241006.566137</td>\n",
       "      <td>39.966487</td>\n",
       "      <td>-75.195255</td>\n",
       "      <td>Complete</td>\n",
       "      <td>0</td>\n",
       "      <td>denied</td>\n",
       "    </tr>\n",
       "    <tr>\n",
       "      <th>29535</th>\n",
       "      <td>0101000020E610000034D7E5E67ECC52C0E057520FB4FB4340</td>\n",
       "      <td>0101000020110F00000B58F61B82EE5FC129337C62228B5241</td>\n",
       "      <td>29165</td>\n",
       "      <td>15802209.0</td>\n",
       "      <td>712 N 36TH ST</td>\n",
       "      <td>NaN</td>\n",
       "      <td>NaN</td>\n",
       "      <td>19104-1605</td>\n",
       "      <td>243077100.0</td>\n",
       "      <td>272349</td>\n",
       "      <td>...</td>\n",
       "      <td>NaN</td>\n",
       "      <td>2020-10-05 15:18:14</td>\n",
       "      <td>ECLIPSE</td>\n",
       "      <td>2.684495e+06</td>\n",
       "      <td>240986.657703</td>\n",
       "      <td>39.966432</td>\n",
       "      <td>-75.195245</td>\n",
       "      <td>Complete</td>\n",
       "      <td>0</td>\n",
       "      <td>denied</td>\n",
       "    </tr>\n",
       "    <tr>\n",
       "      <th>29537</th>\n",
       "      <td>0101000020E6100000353CB4A578CD52C07BAA759200F94340</td>\n",
       "      <td>0101000020110F00006311AA532AF05FC1DB60293D24885241</td>\n",
       "      <td>29167</td>\n",
       "      <td>15467517.0</td>\n",
       "      <td>1227 S 46TH ST</td>\n",
       "      <td>NaN</td>\n",
       "      <td>NaN</td>\n",
       "      <td>19143-3801</td>\n",
       "      <td>272162520.0</td>\n",
       "      <td>259193</td>\n",
       "      <td>...</td>\n",
       "      <td>NaN</td>\n",
       "      <td>2020-10-16 15:38:00</td>\n",
       "      <td>ECLIPSE</td>\n",
       "      <td>2.680445e+06</td>\n",
       "      <td>233179.343895</td>\n",
       "      <td>39.945330</td>\n",
       "      <td>-75.210489</td>\n",
       "      <td>Complete</td>\n",
       "      <td>0</td>\n",
       "      <td>approved</td>\n",
       "    </tr>\n",
       "    <tr>\n",
       "      <th>29538</th>\n",
       "      <td>0101000020E6100000D840EEEBB6CC52C06346B797DDF74340</td>\n",
       "      <td>0101000020110F0000B053A643E1EE5FC1D3C6F0E9E1865241</td>\n",
       "      <td>29168</td>\n",
       "      <td>15392254.0</td>\n",
       "      <td>1400 S 33RD ST</td>\n",
       "      <td>NaN</td>\n",
       "      <td>NaN</td>\n",
       "      <td>19146-3306</td>\n",
       "      <td>884124600.0</td>\n",
       "      <td>441657</td>\n",
       "      <td>...</td>\n",
       "      <td>Proviso:  Revised plans, 1 page, approved today.</td>\n",
       "      <td>2020-10-05 15:44:10</td>\n",
       "      <td>ECLIPSE</td>\n",
       "      <td>2.683852e+06</td>\n",
       "      <td>230041.418942</td>\n",
       "      <td>39.936450</td>\n",
       "      <td>-75.198665</td>\n",
       "      <td>Complete</td>\n",
       "      <td>0</td>\n",
       "      <td>approved</td>\n",
       "    </tr>\n",
       "    <tr>\n",
       "      <th>29551</th>\n",
       "      <td>0101000020E6100000C5E10E9E8ECA52C0FF80AB61E4F84340</td>\n",
       "      <td>0101000020110F0000B52CB91E37EB5FC1957B7A0205885241</td>\n",
       "      <td>29013</td>\n",
       "      <td>15731182.0</td>\n",
       "      <td>501 S BROAD ST</td>\n",
       "      <td>NaN</td>\n",
       "      <td>NaN</td>\n",
       "      <td>19147-1005</td>\n",
       "      <td>882003400.0</td>\n",
       "      <td>255335</td>\n",
       "      <td>...</td>\n",
       "      <td>NaN</td>\n",
       "      <td>2020-10-08 13:01:58</td>\n",
       "      <td>ECLIPSE</td>\n",
       "      <td>2.693216e+06</td>\n",
       "      <td>233236.457938</td>\n",
       "      <td>39.944470</td>\n",
       "      <td>-75.164955</td>\n",
       "      <td>Complete</td>\n",
       "      <td>0</td>\n",
       "      <td>approved</td>\n",
       "    </tr>\n",
       "  </tbody>\n",
       "</table>\n",
       "<p>396 rows × 40 columns</p>\n",
       "</div>"
      ],
      "text/plain": [
       "                                                 the_geom  \\\n",
       "48     0101000020E610000012821833D5CA52C07F2461F5DAFC4340   \n",
       "237    0101000020E61000004D7BC1E443CA52C0663B07BF14FC4340   \n",
       "269    0101000020E6100000B692B43A1FC952C0593D2949E3FC4340   \n",
       "312    0101000020E6100000525BD8498ECA52C08A6C64CDACF94340   \n",
       "333    0101000020E6100000715EB5F72CC652C020C99AA4A6FF4340   \n",
       "...                                                   ...   \n",
       "29534  0101000020E6100000DC397C0E7FCC52C0B420B9DBB5FB4340   \n",
       "29535  0101000020E610000034D7E5E67ECC52C0E057520FB4FB4340   \n",
       "29537  0101000020E6100000353CB4A578CD52C07BAA759200F94340   \n",
       "29538  0101000020E6100000D840EEEBB6CC52C06346B797DDF74340   \n",
       "29551  0101000020E6100000C5E10E9E8ECA52C0FF80AB61E4F84340   \n",
       "\n",
       "                                     the_geom_webmercator  objectid  \\\n",
       "48     0101000020110F0000B64DCD02AFEB5FC12485D831698C5241        53   \n",
       "237    0101000020110F000075A8AD31B8EA5FC12ED763878D8B5241       238   \n",
       "269    0101000020110F000010520913C7E85FC19B51786C728C5241       271   \n",
       "312    0101000020110F0000A7D9AD8F36EB5FC1AA35D00AE3885241       309   \n",
       "333    0101000020110F00005B378CE2C5E35FC14234D680828F5241       337   \n",
       "...                                                   ...       ...   \n",
       "29534  0101000020110F0000069E345F82EE5FC12B83AC60248B5241     29164   \n",
       "29535  0101000020110F00000B58F61B82EE5FC129337C62228B5241     29165   \n",
       "29537  0101000020110F00006311AA532AF05FC1DB60293D24885241     29167   \n",
       "29538  0101000020110F0000B053A643E1EE5FC1D3C6F0E9E1865241     29168   \n",
       "29551  0101000020110F0000B52CB91E37EB5FC1957B7A0205885241     29013   \n",
       "\n",
       "       addressobjectid              address unit_type unit_num         zip  \\\n",
       "48         127982554.0      2000 SEYBERT ST       NaN      NaN  19121-4817   \n",
       "237         15453232.0       842 N BROAD ST       NaN      NaN  19130-2234   \n",
       "269         15456898.0  1618 GERMANTOWN AVE       NaN      NaN  19122-3017   \n",
       "312         15795392.0     1416 CHESTNUT ST       NaN      NaN  19102-2505   \n",
       "333         15696515.0      3701 SEPVIVA ST       NaN      NaN  19137-1017   \n",
       "...                ...                  ...       ...      ...         ...   \n",
       "29534       15493716.0        714 N 36TH ST       NaN      NaN  19104-1605   \n",
       "29535       15802209.0        712 N 36TH ST       NaN      NaN  19104-1605   \n",
       "29537       15467517.0       1227 S 46TH ST       NaN      NaN  19143-3801   \n",
       "29538       15392254.0       1400 S 33RD ST       NaN      NaN  19146-3306   \n",
       "29551       15731182.0       501 S BROAD ST       NaN      NaN  19147-1005   \n",
       "\n",
       "       opa_account_num parcel_id_num  ...  \\\n",
       "48         291053500.0         37094  ...   \n",
       "237        882885597.0        464788  ...   \n",
       "269        183160510.0        436927  ...   \n",
       "312        883421500.0        183272  ...   \n",
       "333        884201350.0        100870  ...   \n",
       "...                ...           ...  ...   \n",
       "29534      243077200.0        542775  ...   \n",
       "29535      243077100.0        272349  ...   \n",
       "29537      272162520.0        259193  ...   \n",
       "29538      884124600.0        441657  ...   \n",
       "29551      882003400.0        255335  ...   \n",
       "\n",
       "                                                       proviso  \\\n",
       "48                                                         NaN   \n",
       "237                                                        NaN   \n",
       "269    With proviso: (1) revised plans, 1 pg., approved today.   \n",
       "312                                                        NaN   \n",
       "333                                                        NaN   \n",
       "...                                                        ...   \n",
       "29534                                                      NaN   \n",
       "29535                                                      NaN   \n",
       "29537                                                      NaN   \n",
       "29538         Proviso:  Revised plans, 1 page, approved today.   \n",
       "29551                                                      NaN   \n",
       "\n",
       "             decisiondate systemofrecord     geocode_x      geocode_y  \\\n",
       "48    2020-09-10 19:28:54        ECLIPSE  2.691679e+06  244475.379312   \n",
       "237   2020-10-09 11:02:37        ECLIPSE  2.694228e+06  242345.549053   \n",
       "269   2020-10-14 11:31:12        ECLIPSE  2.699165e+06  244787.950990   \n",
       "312   2020-09-23 10:17:09        ECLIPSE  2.693156e+06  235463.747317   \n",
       "333   2020-10-14 11:14:45        ECLIPSE  2.711825e+06  253032.358401   \n",
       "...                   ...            ...           ...            ...   \n",
       "29534 2020-10-05 15:14:33        ECLIPSE  2.684491e+06  241006.566137   \n",
       "29535 2020-10-05 15:18:14        ECLIPSE  2.684495e+06  240986.657703   \n",
       "29537 2020-10-16 15:38:00        ECLIPSE  2.680445e+06  233179.343895   \n",
       "29538 2020-10-05 15:44:10        ECLIPSE  2.683852e+06  230041.418942   \n",
       "29551 2020-10-08 13:01:58        ECLIPSE  2.693216e+06  233236.457938   \n",
       "\n",
       "             lat        lng decisionsv provFlag newDecision  \n",
       "48     39.975432 -75.169263   Complete        0    approved  \n",
       "237    39.969383 -75.160394   Complete        0    approved  \n",
       "269    39.975686 -75.142531   Complete        0    approved  \n",
       "312    39.950586 -75.164935   Complete        0    approved  \n",
       "333    39.997273 -75.096495   Complete        0    approved  \n",
       "...          ...        ...        ...      ...         ...  \n",
       "29534  39.966487 -75.195255   Complete        0      denied  \n",
       "29535  39.966432 -75.195245   Complete        0      denied  \n",
       "29537  39.945330 -75.210489   Complete        0    approved  \n",
       "29538  39.936450 -75.198665   Complete        0    approved  \n",
       "29551  39.944470 -75.164955   Complete        0    approved  \n",
       "\n",
       "[396 rows x 40 columns]"
      ]
     },
     "execution_count": 44,
     "metadata": {},
     "output_type": "execute_result"
    }
   ],
   "source": [
    "df[df['meetingresult'].isnull() == False]"
   ]
  },
  {
   "cell_type": "code",
   "execution_count": 45,
   "metadata": {
    "scrolled": true
   },
   "outputs": [
    {
     "data": {
      "text/plain": [
       "complete - Granted       327\n",
       "dismissed - Withdrawn     36\n",
       "complete - Denied         18\n",
       "complete - Withdrawn       4\n",
       "complete - Refused         2\n",
       "complete - Dismissed       2\n",
       "cancelled - Withdrawn      2\n",
       "complete - Approved        2\n",
       "rescheduled - Refused      1\n",
       "cancelled - Revised        1\n",
       "continued - Granted        1\n",
       "dtype: int64"
      ]
     },
     "execution_count": 45,
     "metadata": {},
     "output_type": "execute_result"
    }
   ],
   "source": [
    "(df['decision'] + \" - \" + df['meetingresult']).value_counts()"
   ]
  },
  {
   "cell_type": "code",
   "execution_count": 46,
   "metadata": {},
   "outputs": [
    {
     "data": {
      "text/html": [
       "<div>\n",
       "<style scoped>\n",
       "    .dataframe tbody tr th:only-of-type {\n",
       "        vertical-align: middle;\n",
       "    }\n",
       "\n",
       "    .dataframe tbody tr th {\n",
       "        vertical-align: top;\n",
       "    }\n",
       "\n",
       "    .dataframe thead th {\n",
       "        text-align: right;\n",
       "    }\n",
       "</style>\n",
       "<table border=\"1\" class=\"dataframe\">\n",
       "  <thead>\n",
       "    <tr style=\"text-align: right;\">\n",
       "      <th></th>\n",
       "      <th>the_geom</th>\n",
       "      <th>the_geom_webmercator</th>\n",
       "      <th>objectid</th>\n",
       "      <th>addressobjectid</th>\n",
       "      <th>address</th>\n",
       "      <th>unit_type</th>\n",
       "      <th>unit_num</th>\n",
       "      <th>zip</th>\n",
       "      <th>opa_account_num</th>\n",
       "      <th>parcel_id_num</th>\n",
       "      <th>...</th>\n",
       "      <th>proviso</th>\n",
       "      <th>decisiondate</th>\n",
       "      <th>systemofrecord</th>\n",
       "      <th>geocode_x</th>\n",
       "      <th>geocode_y</th>\n",
       "      <th>lat</th>\n",
       "      <th>lng</th>\n",
       "      <th>decisionsv</th>\n",
       "      <th>provFlag</th>\n",
       "      <th>newDecision</th>\n",
       "    </tr>\n",
       "  </thead>\n",
       "  <tbody>\n",
       "  </tbody>\n",
       "</table>\n",
       "<p>0 rows × 40 columns</p>\n",
       "</div>"
      ],
      "text/plain": [
       "Empty DataFrame\n",
       "Columns: [the_geom, the_geom_webmercator, objectid, addressobjectid, address, unit_type, unit_num, zip, opa_account_num, parcel_id_num, censustract, opa_owner, primaryappellant, appellanttype, internaljobid, appealnumber, acceleratedappeal, createddate, completeddate, relatedpermit, relatedcasefile, appealstatus, appealtype, agendadescription, applicationtype, meetingnumber, appealgrounds, scheduleddate, decision, meetingresult, proviso, decisiondate, systemofrecord, geocode_x, geocode_y, lat, lng, decisionsv, provFlag, newDecision]\n",
       "Index: []\n",
       "\n",
       "[0 rows x 40 columns]"
      ]
     },
     "execution_count": 46,
     "metadata": {},
     "output_type": "execute_result"
    }
   ],
   "source": [
    "df[(df['decision']=='complete') & (df['meetingresult'].isnull() == True)]"
   ]
  },
  {
   "cell_type": "code",
   "execution_count": 47,
   "metadata": {},
   "outputs": [
    {
     "data": {
      "text/html": [
       "<div>\n",
       "<style scoped>\n",
       "    .dataframe tbody tr th:only-of-type {\n",
       "        vertical-align: middle;\n",
       "    }\n",
       "\n",
       "    .dataframe tbody tr th {\n",
       "        vertical-align: top;\n",
       "    }\n",
       "\n",
       "    .dataframe thead th {\n",
       "        text-align: right;\n",
       "    }\n",
       "</style>\n",
       "<table border=\"1\" class=\"dataframe\">\n",
       "  <thead>\n",
       "    <tr style=\"text-align: right;\">\n",
       "      <th></th>\n",
       "      <th>the_geom</th>\n",
       "      <th>the_geom_webmercator</th>\n",
       "      <th>objectid</th>\n",
       "      <th>addressobjectid</th>\n",
       "      <th>address</th>\n",
       "      <th>unit_type</th>\n",
       "      <th>unit_num</th>\n",
       "      <th>zip</th>\n",
       "      <th>opa_account_num</th>\n",
       "      <th>parcel_id_num</th>\n",
       "      <th>...</th>\n",
       "      <th>proviso</th>\n",
       "      <th>decisiondate</th>\n",
       "      <th>systemofrecord</th>\n",
       "      <th>geocode_x</th>\n",
       "      <th>geocode_y</th>\n",
       "      <th>lat</th>\n",
       "      <th>lng</th>\n",
       "      <th>decisionsv</th>\n",
       "      <th>provFlag</th>\n",
       "      <th>newDecision</th>\n",
       "    </tr>\n",
       "  </thead>\n",
       "  <tbody>\n",
       "  </tbody>\n",
       "</table>\n",
       "<p>0 rows × 40 columns</p>\n",
       "</div>"
      ],
      "text/plain": [
       "Empty DataFrame\n",
       "Columns: [the_geom, the_geom_webmercator, objectid, addressobjectid, address, unit_type, unit_num, zip, opa_account_num, parcel_id_num, censustract, opa_owner, primaryappellant, appellanttype, internaljobid, appealnumber, acceleratedappeal, createddate, completeddate, relatedpermit, relatedcasefile, appealstatus, appealtype, agendadescription, applicationtype, meetingnumber, appealgrounds, scheduleddate, decision, meetingresult, proviso, decisiondate, systemofrecord, geocode_x, geocode_y, lat, lng, decisionsv, provFlag, newDecision]\n",
       "Index: []\n",
       "\n",
       "[0 rows x 40 columns]"
      ]
     },
     "execution_count": 47,
     "metadata": {},
     "output_type": "execute_result"
    }
   ],
   "source": [
    "df[(df['decision']=='granted') & (df['meetingresult'].isnull() == False)]"
   ]
  },
  {
   "cell_type": "code",
   "execution_count": 48,
   "metadata": {},
   "outputs": [
    {
     "data": {
      "text/plain": [
       "HANSEN     26391\n",
       "ECLIPSE      403\n",
       "Name: systemofrecord, dtype: int64"
      ]
     },
     "execution_count": 48,
     "metadata": {},
     "output_type": "execute_result"
    }
   ],
   "source": [
    "df['systemofrecord'].value_counts()"
   ]
  },
  {
   "cell_type": "code",
   "execution_count": 49,
   "metadata": {},
   "outputs": [
    {
     "name": "stdout",
     "output_type": "stream",
     "text": [
      "HANSEN\n",
      "min   2007-01-22 09:41:00\n",
      "max   2020-03-09 16:19:20\n",
      "Name: createddate, dtype: datetime64[ns]\n",
      "ECLIPSE\n",
      "min   2018-02-20 10:48:46\n",
      "max   2020-09-21 10:00:39\n",
      "Name: createddate, dtype: datetime64[ns]\n"
     ]
    }
   ],
   "source": [
    "# I want to see if the two system of records overlap\n",
    "for sysname in df['systemofrecord'].unique():\n",
    "    print(sysname)\n",
    "    print(df[df['systemofrecord']==sysname]['createddate'].agg(['min','max']))"
   ]
  },
  {
   "cell_type": "code",
   "execution_count": 50,
   "metadata": {},
   "outputs": [
    {
     "data": {
      "text/html": [
       "<div>\n",
       "<style scoped>\n",
       "    .dataframe tbody tr th:only-of-type {\n",
       "        vertical-align: middle;\n",
       "    }\n",
       "\n",
       "    .dataframe tbody tr th {\n",
       "        vertical-align: top;\n",
       "    }\n",
       "\n",
       "    .dataframe thead th {\n",
       "        text-align: right;\n",
       "    }\n",
       "</style>\n",
       "<table border=\"1\" class=\"dataframe\">\n",
       "  <thead>\n",
       "    <tr style=\"text-align: right;\">\n",
       "      <th></th>\n",
       "      <th>the_geom</th>\n",
       "      <th>the_geom_webmercator</th>\n",
       "      <th>objectid</th>\n",
       "      <th>addressobjectid</th>\n",
       "      <th>address</th>\n",
       "      <th>unit_type</th>\n",
       "      <th>unit_num</th>\n",
       "      <th>zip</th>\n",
       "      <th>opa_account_num</th>\n",
       "      <th>parcel_id_num</th>\n",
       "      <th>...</th>\n",
       "      <th>proviso</th>\n",
       "      <th>decisiondate</th>\n",
       "      <th>systemofrecord</th>\n",
       "      <th>geocode_x</th>\n",
       "      <th>geocode_y</th>\n",
       "      <th>lat</th>\n",
       "      <th>lng</th>\n",
       "      <th>decisionsv</th>\n",
       "      <th>provFlag</th>\n",
       "      <th>newDecision</th>\n",
       "    </tr>\n",
       "  </thead>\n",
       "  <tbody>\n",
       "  </tbody>\n",
       "</table>\n",
       "<p>0 rows × 40 columns</p>\n",
       "</div>"
      ],
      "text/plain": [
       "Empty DataFrame\n",
       "Columns: [the_geom, the_geom_webmercator, objectid, addressobjectid, address, unit_type, unit_num, zip, opa_account_num, parcel_id_num, censustract, opa_owner, primaryappellant, appellanttype, internaljobid, appealnumber, acceleratedappeal, createddate, completeddate, relatedpermit, relatedcasefile, appealstatus, appealtype, agendadescription, applicationtype, meetingnumber, appealgrounds, scheduleddate, decision, meetingresult, proviso, decisiondate, systemofrecord, geocode_x, geocode_y, lat, lng, decisionsv, provFlag, newDecision]\n",
       "Index: []\n",
       "\n",
       "[0 rows x 40 columns]"
      ]
     },
     "execution_count": 50,
     "metadata": {},
     "output_type": "execute_result"
    }
   ],
   "source": [
    "df[(df['systemofrecord']=='HANSEN') & (df['meetingresult'].isnull() == False)]"
   ]
  },
  {
   "cell_type": "code",
   "execution_count": 51,
   "metadata": {
    "scrolled": true
   },
   "outputs": [
    {
     "data": {
      "text/html": [
       "<div>\n",
       "<style scoped>\n",
       "    .dataframe tbody tr th:only-of-type {\n",
       "        vertical-align: middle;\n",
       "    }\n",
       "\n",
       "    .dataframe tbody tr th {\n",
       "        vertical-align: top;\n",
       "    }\n",
       "\n",
       "    .dataframe thead th {\n",
       "        text-align: right;\n",
       "    }\n",
       "</style>\n",
       "<table border=\"1\" class=\"dataframe\">\n",
       "  <thead>\n",
       "    <tr style=\"text-align: right;\">\n",
       "      <th></th>\n",
       "      <th>the_geom</th>\n",
       "      <th>the_geom_webmercator</th>\n",
       "      <th>objectid</th>\n",
       "      <th>addressobjectid</th>\n",
       "      <th>address</th>\n",
       "      <th>unit_type</th>\n",
       "      <th>unit_num</th>\n",
       "      <th>zip</th>\n",
       "      <th>opa_account_num</th>\n",
       "      <th>parcel_id_num</th>\n",
       "      <th>...</th>\n",
       "      <th>proviso</th>\n",
       "      <th>decisiondate</th>\n",
       "      <th>systemofrecord</th>\n",
       "      <th>geocode_x</th>\n",
       "      <th>geocode_y</th>\n",
       "      <th>lat</th>\n",
       "      <th>lng</th>\n",
       "      <th>decisionsv</th>\n",
       "      <th>provFlag</th>\n",
       "      <th>newDecision</th>\n",
       "    </tr>\n",
       "  </thead>\n",
       "  <tbody>\n",
       "    <tr>\n",
       "      <th>23471</th>\n",
       "      <td>0101000020E6100000626DE93412CC52C084945E7172FD4340</td>\n",
       "      <td>0101000020110F0000D998B97AC9ED5FC1915F8C16118D5241</td>\n",
       "      <td>23066</td>\n",
       "      <td>15830744.0</td>\n",
       "      <td>1501 N 33RD ST</td>\n",
       "      <td>NaN</td>\n",
       "      <td>NaN</td>\n",
       "      <td>19121-3513</td>\n",
       "      <td>292315605.0</td>\n",
       "      <td>90942</td>\n",
       "      <td>...</td>\n",
       "      <td>NaN</td>\n",
       "      <td>2020-09-30 17:01:36</td>\n",
       "      <td>ECLIPSE</td>\n",
       "      <td>2.686209e+06</td>\n",
       "      <td>246000.873419</td>\n",
       "      <td>39.980055</td>\n",
       "      <td>-75.188611</td>\n",
       "      <td>Continued</td>\n",
       "      <td>0</td>\n",
       "      <td>other</td>\n",
       "    </tr>\n",
       "    <tr>\n",
       "      <th>23745</th>\n",
       "      <td>0101000020E610000078EC83545CCB52C0FCF5F84046F84340</td>\n",
       "      <td>0101000020110F000086CB348B94EC5FC1F9FF40D855875241</td>\n",
       "      <td>24198</td>\n",
       "      <td>15696117.0</td>\n",
       "      <td>2031 WASHINGTON AVE</td>\n",
       "      <td>NaN</td>\n",
       "      <td>NaN</td>\n",
       "      <td>19146-2632</td>\n",
       "      <td>884006315.0</td>\n",
       "      <td>137226</td>\n",
       "      <td>...</td>\n",
       "      <td>NaN</td>\n",
       "      <td>2020-06-30 18:49:58</td>\n",
       "      <td>ECLIPSE</td>\n",
       "      <td>2.689748e+06</td>\n",
       "      <td>231376.510551</td>\n",
       "      <td>39.939644</td>\n",
       "      <td>-75.177510</td>\n",
       "      <td>Continued</td>\n",
       "      <td>0</td>\n",
       "      <td>other</td>\n",
       "    </tr>\n",
       "    <tr>\n",
       "      <th>23914</th>\n",
       "      <td>0101000020E61000008E77029EC0CB52C06B89357ADFFD4340</td>\n",
       "      <td>0101000020110F0000F84438E43EED5FC147AFC0F0898D5241</td>\n",
       "      <td>24241</td>\n",
       "      <td>136875946.0</td>\n",
       "      <td>3008 CLIFFORD ST</td>\n",
       "      <td>NaN</td>\n",
       "      <td>NaN</td>\n",
       "      <td>19121-2503</td>\n",
       "      <td>884460495.0</td>\n",
       "      <td>529385</td>\n",
       "      <td>...</td>\n",
       "      <td>NaN</td>\n",
       "      <td>2020-08-21 11:34:37</td>\n",
       "      <td>ECLIPSE</td>\n",
       "      <td>2.687569e+06</td>\n",
       "      <td>247253.010811</td>\n",
       "      <td>39.983382</td>\n",
       "      <td>-75.183631</td>\n",
       "      <td>Continued</td>\n",
       "      <td>0</td>\n",
       "      <td>other</td>\n",
       "    </tr>\n",
       "    <tr>\n",
       "      <th>24018</th>\n",
       "      <td>0101000020E6100000ADFD74DAEBBD52C002EB9FFD050B4440</td>\n",
       "      <td>0101000020110F00000F68388CC0D55FC1D33B053D209C5241</td>\n",
       "      <td>24178</td>\n",
       "      <td>159412601.0</td>\n",
       "      <td>4501 WOODHAVEN RD</td>\n",
       "      <td>#</td>\n",
       "      <td>1B</td>\n",
       "      <td>19154-3145</td>\n",
       "      <td>882691010.0</td>\n",
       "      <td>495596</td>\n",
       "      <td>...</td>\n",
       "      <td>NaN</td>\n",
       "      <td>2020-07-16 12:10:37</td>\n",
       "      <td>ECLIPSE</td>\n",
       "      <td>2.746923e+06</td>\n",
       "      <td>286493.835007</td>\n",
       "      <td>40.086120</td>\n",
       "      <td>-74.967520</td>\n",
       "      <td>Dismissed / Withdrawn</td>\n",
       "      <td>0</td>\n",
       "      <td>other</td>\n",
       "    </tr>\n",
       "    <tr>\n",
       "      <th>24976</th>\n",
       "      <td>0101000020E6100000344ACB0F84C952C0A823E214C4F74340</td>\n",
       "      <td>0101000020110F00001C482A5972E95FC17F8016A8C5865241</td>\n",
       "      <td>24833</td>\n",
       "      <td>128584849.0</td>\n",
       "      <td>925 S 3RD ST</td>\n",
       "      <td>NaN</td>\n",
       "      <td>NaN</td>\n",
       "      <td>19147-4238</td>\n",
       "      <td>21403910.0</td>\n",
       "      <td>144296</td>\n",
       "      <td>...</td>\n",
       "      <td>NaN</td>\n",
       "      <td>2020-09-14 16:42:10</td>\n",
       "      <td>ECLIPSE</td>\n",
       "      <td>2.697870e+06</td>\n",
       "      <td>230166.748507</td>\n",
       "      <td>39.935671</td>\n",
       "      <td>-75.148685</td>\n",
       "      <td>Continued</td>\n",
       "      <td>0</td>\n",
       "      <td>other</td>\n",
       "    </tr>\n",
       "    <tr>\n",
       "      <th>25175</th>\n",
       "      <td>0101000020E6100000DCB07AA8FDC952C08DCE794002FA4340</td>\n",
       "      <td>0101000020110F0000338D5EE440EA5FC18F8546B641895241</td>\n",
       "      <td>24630</td>\n",
       "      <td>128762194.0</td>\n",
       "      <td>43 N 10TH ST</td>\n",
       "      <td>NaN</td>\n",
       "      <td>NaN</td>\n",
       "      <td>19107-1311</td>\n",
       "      <td>883704410.0</td>\n",
       "      <td>336648</td>\n",
       "      <td>...</td>\n",
       "      <td>NaN</td>\n",
       "      <td>2020-05-14 09:46:22</td>\n",
       "      <td>ECLIPSE</td>\n",
       "      <td>2.695602e+06</td>\n",
       "      <td>236485.840297</td>\n",
       "      <td>39.953194</td>\n",
       "      <td>-75.156107</td>\n",
       "      <td>Dismissed / Withdrawn</td>\n",
       "      <td>0</td>\n",
       "      <td>other</td>\n",
       "    </tr>\n",
       "    <tr>\n",
       "      <th>29274</th>\n",
       "      <td>0101000020E6100000D9C4DCE6CBCD52C0A4E7167D44044440</td>\n",
       "      <td>0101000020110F00006F5E35BEB7F05FC10673D016A1945241</td>\n",
       "      <td>29110</td>\n",
       "      <td>15495746.0</td>\n",
       "      <td>490 CONARROE ST</td>\n",
       "      <td>NaN</td>\n",
       "      <td>NaN</td>\n",
       "      <td>19128-3409</td>\n",
       "      <td>212118700.0</td>\n",
       "      <td>21753</td>\n",
       "      <td>...</td>\n",
       "      <td>NaN</td>\n",
       "      <td>2020-11-16 13:39:29</td>\n",
       "      <td>ECLIPSE</td>\n",
       "      <td>2.678101e+06</td>\n",
       "      <td>265185.771375</td>\n",
       "      <td>40.033340</td>\n",
       "      <td>-75.215570</td>\n",
       "      <td>Continued</td>\n",
       "      <td>0</td>\n",
       "      <td>other</td>\n",
       "    </tr>\n",
       "  </tbody>\n",
       "</table>\n",
       "<p>7 rows × 40 columns</p>\n",
       "</div>"
      ],
      "text/plain": [
       "                                                 the_geom  \\\n",
       "23471  0101000020E6100000626DE93412CC52C084945E7172FD4340   \n",
       "23745  0101000020E610000078EC83545CCB52C0FCF5F84046F84340   \n",
       "23914  0101000020E61000008E77029EC0CB52C06B89357ADFFD4340   \n",
       "24018  0101000020E6100000ADFD74DAEBBD52C002EB9FFD050B4440   \n",
       "24976  0101000020E6100000344ACB0F84C952C0A823E214C4F74340   \n",
       "25175  0101000020E6100000DCB07AA8FDC952C08DCE794002FA4340   \n",
       "29274  0101000020E6100000D9C4DCE6CBCD52C0A4E7167D44044440   \n",
       "\n",
       "                                     the_geom_webmercator  objectid  \\\n",
       "23471  0101000020110F0000D998B97AC9ED5FC1915F8C16118D5241     23066   \n",
       "23745  0101000020110F000086CB348B94EC5FC1F9FF40D855875241     24198   \n",
       "23914  0101000020110F0000F84438E43EED5FC147AFC0F0898D5241     24241   \n",
       "24018  0101000020110F00000F68388CC0D55FC1D33B053D209C5241     24178   \n",
       "24976  0101000020110F00001C482A5972E95FC17F8016A8C5865241     24833   \n",
       "25175  0101000020110F0000338D5EE440EA5FC18F8546B641895241     24630   \n",
       "29274  0101000020110F00006F5E35BEB7F05FC10673D016A1945241     29110   \n",
       "\n",
       "       addressobjectid              address unit_type unit_num         zip  \\\n",
       "23471       15830744.0       1501 N 33RD ST       NaN      NaN  19121-3513   \n",
       "23745       15696117.0  2031 WASHINGTON AVE       NaN      NaN  19146-2632   \n",
       "23914      136875946.0     3008 CLIFFORD ST       NaN      NaN  19121-2503   \n",
       "24018      159412601.0    4501 WOODHAVEN RD         #       1B  19154-3145   \n",
       "24976      128584849.0         925 S 3RD ST       NaN      NaN  19147-4238   \n",
       "25175      128762194.0         43 N 10TH ST       NaN      NaN  19107-1311   \n",
       "29274       15495746.0      490 CONARROE ST       NaN      NaN  19128-3409   \n",
       "\n",
       "       opa_account_num parcel_id_num  ...  proviso        decisiondate  \\\n",
       "23471      292315605.0         90942  ...      NaN 2020-09-30 17:01:36   \n",
       "23745      884006315.0        137226  ...      NaN 2020-06-30 18:49:58   \n",
       "23914      884460495.0        529385  ...      NaN 2020-08-21 11:34:37   \n",
       "24018      882691010.0        495596  ...      NaN 2020-07-16 12:10:37   \n",
       "24976       21403910.0        144296  ...      NaN 2020-09-14 16:42:10   \n",
       "25175      883704410.0        336648  ...      NaN 2020-05-14 09:46:22   \n",
       "29274      212118700.0         21753  ...      NaN 2020-11-16 13:39:29   \n",
       "\n",
       "      systemofrecord     geocode_x      geocode_y        lat        lng  \\\n",
       "23471        ECLIPSE  2.686209e+06  246000.873419  39.980055 -75.188611   \n",
       "23745        ECLIPSE  2.689748e+06  231376.510551  39.939644 -75.177510   \n",
       "23914        ECLIPSE  2.687569e+06  247253.010811  39.983382 -75.183631   \n",
       "24018        ECLIPSE  2.746923e+06  286493.835007  40.086120 -74.967520   \n",
       "24976        ECLIPSE  2.697870e+06  230166.748507  39.935671 -75.148685   \n",
       "25175        ECLIPSE  2.695602e+06  236485.840297  39.953194 -75.156107   \n",
       "29274        ECLIPSE  2.678101e+06  265185.771375  40.033340 -75.215570   \n",
       "\n",
       "                  decisionsv provFlag newDecision  \n",
       "23471              Continued        0       other  \n",
       "23745              Continued        0       other  \n",
       "23914              Continued        0       other  \n",
       "24018  Dismissed / Withdrawn        0       other  \n",
       "24976              Continued        0       other  \n",
       "25175  Dismissed / Withdrawn        0       other  \n",
       "29274              Continued        0       other  \n",
       "\n",
       "[7 rows x 40 columns]"
      ]
     },
     "execution_count": 51,
     "metadata": {},
     "output_type": "execute_result"
    }
   ],
   "source": [
    "df[(df['systemofrecord']=='ECLIPSE') & (df['decision'].isnull() == False) & (df['meetingresult'].isnull() == True)]"
   ]
  },
  {
   "cell_type": "markdown",
   "metadata": {},
   "source": [
    "It appears that there are two system of records. \n",
    "- HANSEN records have value of \"decision\" in upper case and have null valuye for \"meetingresult\"\n",
    "- ECLIPSE records have value of \"decision\" in lower case and except for 8 records have additional value in the \"meetingresult\" column."
   ]
  },
  {
   "cell_type": "code",
   "execution_count": 52,
   "metadata": {},
   "outputs": [
    {
     "data": {
      "text/html": [
       "<div>\n",
       "<style scoped>\n",
       "    .dataframe tbody tr th:only-of-type {\n",
       "        vertical-align: middle;\n",
       "    }\n",
       "\n",
       "    .dataframe tbody tr th {\n",
       "        vertical-align: top;\n",
       "    }\n",
       "\n",
       "    .dataframe thead th {\n",
       "        text-align: right;\n",
       "    }\n",
       "</style>\n",
       "<table border=\"1\" class=\"dataframe\">\n",
       "  <thead>\n",
       "    <tr style=\"text-align: right;\">\n",
       "      <th></th>\n",
       "      <th>9</th>\n",
       "      <th>21</th>\n",
       "    </tr>\n",
       "  </thead>\n",
       "  <tbody>\n",
       "    <tr>\n",
       "      <th>the_geom</th>\n",
       "      <td>0101000020E6100000228F28042FCD52C07A65FA16C7034440</td>\n",
       "      <td>0101000020E6100000DA7B120E01CA52C0F0294B399D054440</td>\n",
       "    </tr>\n",
       "    <tr>\n",
       "      <th>the_geom_webmercator</th>\n",
       "      <td>0101000020110F00007076D041ADEF5FC18D805CFF15945241</td>\n",
       "      <td>0101000020110F00009CE075A946EA5FC159D7E1811F965241</td>\n",
       "    </tr>\n",
       "    <tr>\n",
       "      <th>objectid</th>\n",
       "      <td>17</td>\n",
       "      <td>6</td>\n",
       "    </tr>\n",
       "    <tr>\n",
       "      <th>addressobjectid</th>\n",
       "      <td>606968</td>\n",
       "      <td>448281</td>\n",
       "    </tr>\n",
       "    <tr>\n",
       "      <th>address</th>\n",
       "      <td>600 WENDOVER ST</td>\n",
       "      <td>2109-11 W NEDRO AVE</td>\n",
       "    </tr>\n",
       "    <tr>\n",
       "      <th>unit_type</th>\n",
       "      <td>NaN</td>\n",
       "      <td>NaN</td>\n",
       "    </tr>\n",
       "    <tr>\n",
       "      <th>unit_num</th>\n",
       "      <td>NaN</td>\n",
       "      <td>NaN</td>\n",
       "    </tr>\n",
       "    <tr>\n",
       "      <th>zip</th>\n",
       "      <td>19128-1719</td>\n",
       "      <td>19138-2941</td>\n",
       "    </tr>\n",
       "    <tr>\n",
       "      <th>opa_account_num</th>\n",
       "      <td>2.13118e+08</td>\n",
       "      <td>8.71091e+08</td>\n",
       "    </tr>\n",
       "    <tr>\n",
       "      <th>parcel_id_num</th>\n",
       "      <td>106012</td>\n",
       "      <td>451808</td>\n",
       "    </tr>\n",
       "    <tr>\n",
       "      <th>censustract</th>\n",
       "      <td>211</td>\n",
       "      <td>279.01</td>\n",
       "    </tr>\n",
       "    <tr>\n",
       "      <th>opa_owner</th>\n",
       "      <td>SMK HOLDINGS LLC</td>\n",
       "      <td>LOSIER NIXON</td>\n",
       "    </tr>\n",
       "    <tr>\n",
       "      <th>primaryappellant</th>\n",
       "      <td>JOSEPH BELLER, ESQ</td>\n",
       "      <td>NIXON LOSIER</td>\n",
       "    </tr>\n",
       "    <tr>\n",
       "      <th>appellanttype</th>\n",
       "      <td>OTHER</td>\n",
       "      <td>APPL</td>\n",
       "    </tr>\n",
       "    <tr>\n",
       "      <th>internaljobid</th>\n",
       "      <td>1.01705e+06</td>\n",
       "      <td>1.01535e+06</td>\n",
       "    </tr>\n",
       "    <tr>\n",
       "      <th>appealnumber</th>\n",
       "      <td>10026</td>\n",
       "      <td>10005</td>\n",
       "    </tr>\n",
       "    <tr>\n",
       "      <th>acceleratedappeal</th>\n",
       "      <td>NaN</td>\n",
       "      <td>NaN</td>\n",
       "    </tr>\n",
       "    <tr>\n",
       "      <th>createddate</th>\n",
       "      <td>2009-09-22 15:56:00</td>\n",
       "      <td>2009-09-23 08:57:19</td>\n",
       "    </tr>\n",
       "    <tr>\n",
       "      <th>completeddate</th>\n",
       "      <td>NaT</td>\n",
       "      <td>NaT</td>\n",
       "    </tr>\n",
       "    <tr>\n",
       "      <th>relatedpermit</th>\n",
       "      <td>Description of Project:  200404\\n  APPEAL TYPES==&gt; \\nAPPEAL TYPE: BC-VIOL  \\n\\n  BOARD DECISIONS==&gt; \\nDECISION: LATE-APPRVD  DECDATE: 22-SEP-09  PROVISO:   \\nDECISION: CONTINUED  DECDATE: 30-DEC-09  PROVISO:   \\nDECISION: CONTINUED  DECDATE: 24-MAR-10  PROVISO: MUST HAVE REINSPECTION  \\nDECISION: CONTINUED  DECDATE: 04-MAY-10  PROVISO:   \\nDECISION: AFFIRMED  DECDATE: 16-JUN-10  PROVISO: CITY WILL STAY ENFORCEMENT FOR 60 DAYS TO SECURE HEALTH LICENSE.  \\n\\n  COURT APPEALS==&gt; \\n</td>\n",
       "      <td>Description of Project:  210159\\n  APPEAL TYPES==&gt; \\nAPPEAL TYPE: CONTSERVCS  \\n\\n  BOARD DECISIONS==&gt; \\nDECISION: LATE-APPRVD  DECDATE: 22-SEP-09  PROVISO:   \\nDECISION: CONTINUED  DECDATE: 30-DEC-09  PROVISO:   \\nDECISION: CONTINUED  DECDATE: 24-MAR-10  PROVISO:   \\nDECISION: AFFIRMED  DECDATE: 18-MAY-10  PROVISO: CITY WILL STAY ENFORCEMENT ACTION FOR 90  DAYS.  \\n\\n  COURT APPEALS==&gt; \\n</td>\n",
       "    </tr>\n",
       "    <tr>\n",
       "      <th>relatedcasefile</th>\n",
       "      <td>NaN</td>\n",
       "      <td>NaN</td>\n",
       "    </tr>\n",
       "    <tr>\n",
       "      <th>appealstatus</th>\n",
       "      <td>OPEN</td>\n",
       "      <td>OPEN</td>\n",
       "    </tr>\n",
       "    <tr>\n",
       "      <th>appealtype</th>\n",
       "      <td>NaN</td>\n",
       "      <td>NaN</td>\n",
       "    </tr>\n",
       "    <tr>\n",
       "      <th>agendadescription</th>\n",
       "      <td>NaN</td>\n",
       "      <td>NaN</td>\n",
       "    </tr>\n",
       "    <tr>\n",
       "      <th>applicationtype</th>\n",
       "      <td>RB_LIRB</td>\n",
       "      <td>RB_LIRB</td>\n",
       "    </tr>\n",
       "    <tr>\n",
       "      <th>meetingnumber</th>\n",
       "      <td>NaN</td>\n",
       "      <td>NaN</td>\n",
       "    </tr>\n",
       "    <tr>\n",
       "      <th>appealgrounds</th>\n",
       "      <td>THE DEPARTMENT OF LICENSES AND INSPECTIONS WILL NOT ISSUE THE PERMIT.  THE REFUSAL TO ISSUE IS IMPROPER IN THAT ANY DEFICIENCIES ARE RESULT OF PREVIOUS \"GRANDFATHERED\" ZONING AND USE.</td>\n",
       "      <td>WE ARE CONTESTING THE VIOLATION. WE NEED TIME TO FIX VIOLATIONS IF ANY. DO NOT WANT THE PREMISES DESTROYED</td>\n",
       "    </tr>\n",
       "    <tr>\n",
       "      <th>scheduleddate</th>\n",
       "      <td>2010-06-15 13:15:00</td>\n",
       "      <td>2010-05-18 13:15:00</td>\n",
       "    </tr>\n",
       "    <tr>\n",
       "      <th>decision</th>\n",
       "      <td>affirmed</td>\n",
       "      <td>affirmed</td>\n",
       "    </tr>\n",
       "    <tr>\n",
       "      <th>meetingresult</th>\n",
       "      <td>NaN</td>\n",
       "      <td>NaN</td>\n",
       "    </tr>\n",
       "    <tr>\n",
       "      <th>proviso</th>\n",
       "      <td>CITY WILL STAY ENFORCEMENT FOR 60 DAYS TO SECURE HEALTH LICENSE.</td>\n",
       "      <td>CITY WILL STAY ENFORCEMENT ACTION FOR 90  DAYS.</td>\n",
       "    </tr>\n",
       "    <tr>\n",
       "      <th>decisiondate</th>\n",
       "      <td>2010-06-16 00:00:00</td>\n",
       "      <td>2010-05-18 00:00:00</td>\n",
       "    </tr>\n",
       "    <tr>\n",
       "      <th>systemofrecord</th>\n",
       "      <td>HANSEN</td>\n",
       "      <td>HANSEN</td>\n",
       "    </tr>\n",
       "    <tr>\n",
       "      <th>geocode_x</th>\n",
       "      <td>2.68082e+06</td>\n",
       "      <td>2.69457e+06</td>\n",
       "    </tr>\n",
       "    <tr>\n",
       "      <th>geocode_y</th>\n",
       "      <td>263869</td>\n",
       "      <td>269498</td>\n",
       "    </tr>\n",
       "    <tr>\n",
       "      <th>lat</th>\n",
       "      <td>40.0295</td>\n",
       "      <td>40.0439</td>\n",
       "    </tr>\n",
       "    <tr>\n",
       "      <th>lng</th>\n",
       "      <td>-75.206</td>\n",
       "      <td>-75.1563</td>\n",
       "    </tr>\n",
       "    <tr>\n",
       "      <th>decisionsv</th>\n",
       "      <td>AFFIRMED</td>\n",
       "      <td>AFFIRMED</td>\n",
       "    </tr>\n",
       "    <tr>\n",
       "      <th>provFlag</th>\n",
       "      <td>0</td>\n",
       "      <td>0</td>\n",
       "    </tr>\n",
       "    <tr>\n",
       "      <th>newDecision</th>\n",
       "      <td>denied</td>\n",
       "      <td>denied</td>\n",
       "    </tr>\n",
       "  </tbody>\n",
       "</table>\n",
       "</div>"
      ],
      "text/plain": [
       "                                                                                                                                                                                                                                                                                                                                                                                                                                                                                                                      9   \\\n",
       "the_geom                                                                                                                                                                                                                                                                                                                                                                                                                                                              0101000020E6100000228F28042FCD52C07A65FA16C7034440   \n",
       "the_geom_webmercator                                                                                                                                                                                                                                                                                                                                                                                                                                                  0101000020110F00007076D041ADEF5FC18D805CFF15945241   \n",
       "objectid                                                                                                                                                                                                                                                                                                                                                                                                                                                                                                              17   \n",
       "addressobjectid                                                                                                                                                                                                                                                                                                                                                                                                                                                                                                   606968   \n",
       "address                                                                                                                                                                                                                                                                                                                                                                                                                                                                                                  600 WENDOVER ST   \n",
       "unit_type                                                                                                                                                                                                                                                                                                                                                                                                                                                                                                            NaN   \n",
       "unit_num                                                                                                                                                                                                                                                                                                                                                                                                                                                                                                             NaN   \n",
       "zip                                                                                                                                                                                                                                                                                                                                                                                                                                                                                                           19128-1719   \n",
       "opa_account_num                                                                                                                                                                                                                                                                                                                                                                                                                                                                                              2.13118e+08   \n",
       "parcel_id_num                                                                                                                                                                                                                                                                                                                                                                                                                                                                                                     106012   \n",
       "censustract                                                                                                                                                                                                                                                                                                                                                                                                                                                                                                          211   \n",
       "opa_owner                                                                                                                                                                                                                                                                                                                                                                                                                                                                                               SMK HOLDINGS LLC   \n",
       "primaryappellant                                                                                                                                                                                                                                                                                                                                                                                                                                                                                      JOSEPH BELLER, ESQ   \n",
       "appellanttype                                                                                                                                                                                                                                                                                                                                                                                                                                                                                                      OTHER   \n",
       "internaljobid                                                                                                                                                                                                                                                                                                                                                                                                                                                                                                1.01705e+06   \n",
       "appealnumber                                                                                                                                                                                                                                                                                                                                                                                                                                                                                                       10026   \n",
       "acceleratedappeal                                                                                                                                                                                                                                                                                                                                                                                                                                                                                                    NaN   \n",
       "createddate                                                                                                                                                                                                                                                                                                                                                                                                                                                                                          2009-09-22 15:56:00   \n",
       "completeddate                                                                                                                                                                                                                                                                                                                                                                                                                                                                                                        NaT   \n",
       "relatedpermit         Description of Project:  200404\\n  APPEAL TYPES==> \\nAPPEAL TYPE: BC-VIOL  \\n\\n  BOARD DECISIONS==> \\nDECISION: LATE-APPRVD  DECDATE: 22-SEP-09  PROVISO:   \\nDECISION: CONTINUED  DECDATE: 30-DEC-09  PROVISO:   \\nDECISION: CONTINUED  DECDATE: 24-MAR-10  PROVISO: MUST HAVE REINSPECTION  \\nDECISION: CONTINUED  DECDATE: 04-MAY-10  PROVISO:   \\nDECISION: AFFIRMED  DECDATE: 16-JUN-10  PROVISO: CITY WILL STAY ENFORCEMENT FOR 60 DAYS TO SECURE HEALTH LICENSE.  \\n\\n  COURT APPEALS==> \\n   \n",
       "relatedcasefile                                                                                                                                                                                                                                                                                                                                                                                                                                                                                                      NaN   \n",
       "appealstatus                                                                                                                                                                                                                                                                                                                                                                                                                                                                                                        OPEN   \n",
       "appealtype                                                                                                                                                                                                                                                                                                                                                                                                                                                                                                           NaN   \n",
       "agendadescription                                                                                                                                                                                                                                                                                                                                                                                                                                                                                                    NaN   \n",
       "applicationtype                                                                                                                                                                                                                                                                                                                                                                                                                                                                                                  RB_LIRB   \n",
       "meetingnumber                                                                                                                                                                                                                                                                                                                                                                                                                                                                                                        NaN   \n",
       "appealgrounds                                                                                                                                                                                                                                                                                                                    THE DEPARTMENT OF LICENSES AND INSPECTIONS WILL NOT ISSUE THE PERMIT.  THE REFUSAL TO ISSUE IS IMPROPER IN THAT ANY DEFICIENCIES ARE RESULT OF PREVIOUS \"GRANDFATHERED\" ZONING AND USE.   \n",
       "scheduleddate                                                                                                                                                                                                                                                                                                                                                                                                                                                                                        2010-06-15 13:15:00   \n",
       "decision                                                                                                                                                                                                                                                                                                                                                                                                                                                                                                        affirmed   \n",
       "meetingresult                                                                                                                                                                                                                                                                                                                                                                                                                                                                                                        NaN   \n",
       "proviso                                                                                                                                                                                                                                                                                                                                                                                                                                                 CITY WILL STAY ENFORCEMENT FOR 60 DAYS TO SECURE HEALTH LICENSE.   \n",
       "decisiondate                                                                                                                                                                                                                                                                                                                                                                                                                                                                                         2010-06-16 00:00:00   \n",
       "systemofrecord                                                                                                                                                                                                                                                                                                                                                                                                                                                                                                    HANSEN   \n",
       "geocode_x                                                                                                                                                                                                                                                                                                                                                                                                                                                                                                    2.68082e+06   \n",
       "geocode_y                                                                                                                                                                                                                                                                                                                                                                                                                                                                                                         263869   \n",
       "lat                                                                                                                                                                                                                                                                                                                                                                                                                                                                                                              40.0295   \n",
       "lng                                                                                                                                                                                                                                                                                                                                                                                                                                                                                                              -75.206   \n",
       "decisionsv                                                                                                                                                                                                                                                                                                                                                                                                                                                                                                      AFFIRMED   \n",
       "provFlag                                                                                                                                                                                                                                                                                                                                                                                                                                                                                                               0   \n",
       "newDecision                                                                                                                                                                                                                                                                                                                                                                                                                                                                                                       denied   \n",
       "\n",
       "                                                                                                                                                                                                                                                                                                                                                                                                                            21  \n",
       "the_geom                                                                                                                                                                                                                                                                                                                                                                    0101000020E6100000DA7B120E01CA52C0F0294B399D054440  \n",
       "the_geom_webmercator                                                                                                                                                                                                                                                                                                                                                        0101000020110F00009CE075A946EA5FC159D7E1811F965241  \n",
       "objectid                                                                                                                                                                                                                                                                                                                                                                                                                     6  \n",
       "addressobjectid                                                                                                                                                                                                                                                                                                                                                                                                         448281  \n",
       "address                                                                                                                                                                                                                                                                                                                                                                                                    2109-11 W NEDRO AVE  \n",
       "unit_type                                                                                                                                                                                                                                                                                                                                                                                                                  NaN  \n",
       "unit_num                                                                                                                                                                                                                                                                                                                                                                                                                   NaN  \n",
       "zip                                                                                                                                                                                                                                                                                                                                                                                                                 19138-2941  \n",
       "opa_account_num                                                                                                                                                                                                                                                                                                                                                                                                    8.71091e+08  \n",
       "parcel_id_num                                                                                                                                                                                                                                                                                                                                                                                                           451808  \n",
       "censustract                                                                                                                                                                                                                                                                                                                                                                                                             279.01  \n",
       "opa_owner                                                                                                                                                                                                                                                                                                                                                                                                         LOSIER NIXON  \n",
       "primaryappellant                                                                                                                                                                                                                                                                                                                                                                                                  NIXON LOSIER  \n",
       "appellanttype                                                                                                                                                                                                                                                                                                                                                                                                             APPL  \n",
       "internaljobid                                                                                                                                                                                                                                                                                                                                                                                                      1.01535e+06  \n",
       "appealnumber                                                                                                                                                                                                                                                                                                                                                                                                             10005  \n",
       "acceleratedappeal                                                                                                                                                                                                                                                                                                                                                                                                          NaN  \n",
       "createddate                                                                                                                                                                                                                                                                                                                                                                                                2009-09-23 08:57:19  \n",
       "completeddate                                                                                                                                                                                                                                                                                                                                                                                                              NaT  \n",
       "relatedpermit         Description of Project:  210159\\n  APPEAL TYPES==> \\nAPPEAL TYPE: CONTSERVCS  \\n\\n  BOARD DECISIONS==> \\nDECISION: LATE-APPRVD  DECDATE: 22-SEP-09  PROVISO:   \\nDECISION: CONTINUED  DECDATE: 30-DEC-09  PROVISO:   \\nDECISION: CONTINUED  DECDATE: 24-MAR-10  PROVISO:   \\nDECISION: AFFIRMED  DECDATE: 18-MAY-10  PROVISO: CITY WILL STAY ENFORCEMENT ACTION FOR 90  DAYS.  \\n\\n  COURT APPEALS==> \\n  \n",
       "relatedcasefile                                                                                                                                                                                                                                                                                                                                                                                                            NaN  \n",
       "appealstatus                                                                                                                                                                                                                                                                                                                                                                                                              OPEN  \n",
       "appealtype                                                                                                                                                                                                                                                                                                                                                                                                                 NaN  \n",
       "agendadescription                                                                                                                                                                                                                                                                                                                                                                                                          NaN  \n",
       "applicationtype                                                                                                                                                                                                                                                                                                                                                                                                        RB_LIRB  \n",
       "meetingnumber                                                                                                                                                                                                                                                                                                                                                                                                              NaN  \n",
       "appealgrounds                                                                                                                                                                                                                                                                                                       WE ARE CONTESTING THE VIOLATION. WE NEED TIME TO FIX VIOLATIONS IF ANY. DO NOT WANT THE PREMISES DESTROYED  \n",
       "scheduleddate                                                                                                                                                                                                                                                                                                                                                                                              2010-05-18 13:15:00  \n",
       "decision                                                                                                                                                                                                                                                                                                                                                                                                              affirmed  \n",
       "meetingresult                                                                                                                                                                                                                                                                                                                                                                                                              NaN  \n",
       "proviso                                                                                                                                                                                                                                                                                                                                                                        CITY WILL STAY ENFORCEMENT ACTION FOR 90  DAYS.  \n",
       "decisiondate                                                                                                                                                                                                                                                                                                                                                                                               2010-05-18 00:00:00  \n",
       "systemofrecord                                                                                                                                                                                                                                                                                                                                                                                                          HANSEN  \n",
       "geocode_x                                                                                                                                                                                                                                                                                                                                                                                                          2.69457e+06  \n",
       "geocode_y                                                                                                                                                                                                                                                                                                                                                                                                               269498  \n",
       "lat                                                                                                                                                                                                                                                                                                                                                                                                                    40.0439  \n",
       "lng                                                                                                                                                                                                                                                                                                                                                                                                                   -75.1563  \n",
       "decisionsv                                                                                                                                                                                                                                                                                                                                                                                                            AFFIRMED  \n",
       "provFlag                                                                                                                                                                                                                                                                                                                                                                                                                     0  \n",
       "newDecision                                                                                                                                                                                                                                                                                                                                                                                                             denied  "
      ]
     },
     "execution_count": 52,
     "metadata": {},
     "output_type": "execute_result"
    }
   ],
   "source": [
    "df[(df['decision']=='affirmed') & (~df['proviso'].isnull())].head(2).T"
   ]
  },
  {
   "cell_type": "code",
   "execution_count": 53,
   "metadata": {},
   "outputs": [
    {
     "data": {
      "text/plain": [
       "CLOSED                   14331\n",
       "OPEN                     12060\n",
       "In Process                 297\n",
       "Completed                   76\n",
       "Waiting Period              18\n",
       "Dismissed / Withdrawn        9\n",
       "Prepare Meeting              2\n",
       "Closed                       1\n",
       "Name: appealstatus, dtype: int64"
      ]
     },
     "execution_count": 53,
     "metadata": {},
     "output_type": "execute_result"
    }
   ],
   "source": [
    "df['appealstatus'].value_counts()"
   ]
  },
  {
   "cell_type": "code",
   "execution_count": 54,
   "metadata": {},
   "outputs": [
    {
     "data": {
      "text/plain": [
       "granted         9542\n",
       "dismissed       2293\n",
       "denied          1360\n",
       "approved         899\n",
       "affirmed         101\n",
       "moot              84\n",
       "complete          76\n",
       "sustained         16\n",
       "admin/review      11\n",
       "newhearnot         8\n",
       "continued          8\n",
       "held/info          5\n",
       "boardaknowl        5\n",
       "refused            3\n",
       "revised            2\n",
       "remand             1\n",
       "held               1\n",
       "late-denied        1\n",
       "issued             1\n",
       "Name: decision, dtype: int64"
      ]
     },
     "execution_count": 54,
     "metadata": {},
     "output_type": "execute_result"
    }
   ],
   "source": [
    "df[df['appealstatus'].isin(['CLOSED','Completed','Dismissed / Withdrawn','Closed'])]['decision'].value_counts()"
   ]
  },
  {
   "cell_type": "code",
   "execution_count": 55,
   "metadata": {},
   "outputs": [
    {
     "data": {
      "text/plain": [
       "count    26794.000000\n",
       "mean       249.508983\n",
       "std        925.669426\n",
       "min          1.000000\n",
       "25%         42.020000\n",
       "50%        149.000000\n",
       "75%        260.000000\n",
       "max       9891.000000\n",
       "Name: censustract, dtype: float64"
      ]
     },
     "execution_count": 55,
     "metadata": {},
     "output_type": "execute_result"
    }
   ],
   "source": [
    "df['censustract'].describe().T"
   ]
  },
  {
   "cell_type": "code",
   "execution_count": 56,
   "metadata": {},
   "outputs": [
    {
     "data": {
      "text/html": [
       "<div>\n",
       "<style scoped>\n",
       "    .dataframe tbody tr th:only-of-type {\n",
       "        vertical-align: middle;\n",
       "    }\n",
       "\n",
       "    .dataframe tbody tr th {\n",
       "        vertical-align: top;\n",
       "    }\n",
       "\n",
       "    .dataframe thead th {\n",
       "        text-align: right;\n",
       "    }\n",
       "</style>\n",
       "<table border=\"1\" class=\"dataframe\">\n",
       "  <thead>\n",
       "    <tr style=\"text-align: right;\">\n",
       "      <th></th>\n",
       "      <th>appealstatus</th>\n",
       "      <th>appellanttype</th>\n",
       "      <th>createddate</th>\n",
       "      <th>agendadescription</th>\n",
       "      <th>decision</th>\n",
       "      <th>decisiondate</th>\n",
       "    </tr>\n",
       "  </thead>\n",
       "  <tbody>\n",
       "  </tbody>\n",
       "</table>\n",
       "</div>"
      ],
      "text/plain": [
       "Empty DataFrame\n",
       "Columns: [appealstatus, appellanttype, createddate, agendadescription, decision, decisiondate]\n",
       "Index: []"
      ]
     },
     "execution_count": 56,
     "metadata": {},
     "output_type": "execute_result"
    }
   ],
   "source": [
    "df[df['decision'].isna() ][['appealstatus','appellanttype','createddate','agendadescription','decision','decisiondate']]"
   ]
  },
  {
   "cell_type": "code",
   "execution_count": 57,
   "metadata": {},
   "outputs": [
    {
     "data": {
      "text/plain": [
       "0.0"
      ]
     },
     "execution_count": 57,
     "metadata": {},
     "output_type": "execute_result"
    }
   ],
   "source": [
    "#df.nunique()/df.shape[0]\n",
    "df[df['decision'].isna()].shape[0]/df.shape[0]"
   ]
  },
  {
   "cell_type": "code",
   "execution_count": 58,
   "metadata": {},
   "outputs": [
    {
     "data": {
      "text/html": [
       "<div>\n",
       "<style scoped>\n",
       "    .dataframe tbody tr th:only-of-type {\n",
       "        vertical-align: middle;\n",
       "    }\n",
       "\n",
       "    .dataframe tbody tr th {\n",
       "        vertical-align: top;\n",
       "    }\n",
       "\n",
       "    .dataframe thead th {\n",
       "        text-align: right;\n",
       "    }\n",
       "</style>\n",
       "<table border=\"1\" class=\"dataframe\">\n",
       "  <thead>\n",
       "    <tr style=\"text-align: right;\">\n",
       "      <th></th>\n",
       "      <th>min</th>\n",
       "      <th>max</th>\n",
       "      <th>mean</th>\n",
       "    </tr>\n",
       "  </thead>\n",
       "  <tbody>\n",
       "    <tr>\n",
       "      <th>lat</th>\n",
       "      <td>39.880338</td>\n",
       "      <td>40.137052</td>\n",
       "      <td>39.984490</td>\n",
       "    </tr>\n",
       "    <tr>\n",
       "      <th>lng</th>\n",
       "      <td>-75.274212</td>\n",
       "      <td>-74.961283</td>\n",
       "      <td>-75.153711</td>\n",
       "    </tr>\n",
       "  </tbody>\n",
       "</table>\n",
       "</div>"
      ],
      "text/plain": [
       "           min        max       mean\n",
       "lat  39.880338  40.137052  39.984490\n",
       "lng -75.274212 -74.961283 -75.153711"
      ]
     },
     "execution_count": 58,
     "metadata": {},
     "output_type": "execute_result"
    }
   ],
   "source": [
    "df[['lat','lng']].agg([min,max, 'mean']).T"
   ]
  },
  {
   "cell_type": "code",
   "execution_count": 59,
   "metadata": {},
   "outputs": [],
   "source": [
    "#Save Philadelphia Center City Latitude and Longitude.\n",
    "ccLat = 39.952583\n",
    "ccLng = -75.165222"
   ]
  },
  {
   "cell_type": "code",
   "execution_count": 60,
   "metadata": {},
   "outputs": [],
   "source": [
    "#create \"distance\" from center city \n",
    "df['fromCC'] = ((df['lat']-ccLat)**2 + (df['lng']-ccLng)**2)**0.5\n",
    "df['latfromCC']=df['lat']-ccLat\n",
    "df['lngfromCC']=df['lng']-ccLng"
   ]
  },
  {
   "cell_type": "code",
   "execution_count": 61,
   "metadata": {},
   "outputs": [
    {
     "data": {
      "text/plain": [
       "max    0.252279\n",
       "min    0.000070\n",
       "Name: fromCC, dtype: float64"
      ]
     },
     "execution_count": 61,
     "metadata": {},
     "output_type": "execute_result"
    }
   ],
   "source": [
    "df['fromCC'].agg(['max','min'])"
   ]
  },
  {
   "cell_type": "code",
   "execution_count": 62,
   "metadata": {},
   "outputs": [
    {
     "data": {
      "text/html": [
       "<div>\n",
       "<style scoped>\n",
       "    .dataframe tbody tr th:only-of-type {\n",
       "        vertical-align: middle;\n",
       "    }\n",
       "\n",
       "    .dataframe tbody tr th {\n",
       "        vertical-align: top;\n",
       "    }\n",
       "\n",
       "    .dataframe thead th {\n",
       "        text-align: right;\n",
       "    }\n",
       "</style>\n",
       "<table border=\"1\" class=\"dataframe\">\n",
       "  <thead>\n",
       "    <tr style=\"text-align: right;\">\n",
       "      <th></th>\n",
       "      <th>lat</th>\n",
       "      <th>geocode_y</th>\n",
       "    </tr>\n",
       "  </thead>\n",
       "  <tbody>\n",
       "    <tr>\n",
       "      <th>lat</th>\n",
       "      <td>1.000000</td>\n",
       "      <td>0.999753</td>\n",
       "    </tr>\n",
       "    <tr>\n",
       "      <th>geocode_y</th>\n",
       "      <td>0.999753</td>\n",
       "      <td>1.000000</td>\n",
       "    </tr>\n",
       "  </tbody>\n",
       "</table>\n",
       "</div>"
      ],
      "text/plain": [
       "                lat  geocode_y\n",
       "lat        1.000000   0.999753\n",
       "geocode_y  0.999753   1.000000"
      ]
     },
     "execution_count": 62,
     "metadata": {},
     "output_type": "execute_result"
    }
   ],
   "source": [
    "df[['lat','geocode_y']].corr()"
   ]
  },
  {
   "cell_type": "code",
   "execution_count": 63,
   "metadata": {},
   "outputs": [
    {
     "data": {
      "text/html": [
       "<div>\n",
       "<style scoped>\n",
       "    .dataframe tbody tr th:only-of-type {\n",
       "        vertical-align: middle;\n",
       "    }\n",
       "\n",
       "    .dataframe tbody tr th {\n",
       "        vertical-align: top;\n",
       "    }\n",
       "\n",
       "    .dataframe thead th {\n",
       "        text-align: right;\n",
       "    }\n",
       "</style>\n",
       "<table border=\"1\" class=\"dataframe\">\n",
       "  <thead>\n",
       "    <tr style=\"text-align: right;\">\n",
       "      <th></th>\n",
       "      <th>lng</th>\n",
       "      <th>geocode_x</th>\n",
       "    </tr>\n",
       "  </thead>\n",
       "  <tbody>\n",
       "    <tr>\n",
       "      <th>lng</th>\n",
       "      <td>1.000000</td>\n",
       "      <td>0.999597</td>\n",
       "    </tr>\n",
       "    <tr>\n",
       "      <th>geocode_x</th>\n",
       "      <td>0.999597</td>\n",
       "      <td>1.000000</td>\n",
       "    </tr>\n",
       "  </tbody>\n",
       "</table>\n",
       "</div>"
      ],
      "text/plain": [
       "                lng  geocode_x\n",
       "lng        1.000000   0.999597\n",
       "geocode_x  0.999597   1.000000"
      ]
     },
     "execution_count": 63,
     "metadata": {},
     "output_type": "execute_result"
    }
   ],
   "source": [
    "df[['lng','geocode_x']].corr()"
   ]
  },
  {
   "cell_type": "code",
   "execution_count": 64,
   "metadata": {},
   "outputs": [
    {
     "data": {
      "text/plain": [
       "<matplotlib.axes._subplots.AxesSubplot at 0x16b1c234d08>"
      ]
     },
     "execution_count": 64,
     "metadata": {},
     "output_type": "execute_result"
    },
    {
     "data": {
      "image/png": "[encoded data removed]",
      "text/plain": [
       "<Figure size 576x396 with 1 Axes>"
      ]
     },
     "metadata": {},
     "output_type": "display_data"
    }
   ],
   "source": [
    "df.plot.scatter('geocode_x','geocode_y')"
   ]
  },
  {
   "cell_type": "code",
   "execution_count": 65,
   "metadata": {},
   "outputs": [
    {
     "name": "stdout",
     "output_type": "stream",
     "text": [
      "directory already exists\n"
     ]
    }
   ],
   "source": [
    "try:\n",
    "    os.mkdir('images')\n",
    "except:\n",
    "    print('directory already exists')"
   ]
  },
  {
   "cell_type": "code",
   "execution_count": 66,
   "metadata": {},
   "outputs": [
    {
     "data": {
      "text/plain": [
       "array(['other', 'approved', 'denied'], dtype=object)"
      ]
     },
     "execution_count": 66,
     "metadata": {},
     "output_type": "execute_result"
    }
   ],
   "source": [
    "df['newDecision'].unique()"
   ]
  },
  {
   "cell_type": "code",
   "execution_count": 91,
   "metadata": {},
   "outputs": [
    {
     "data": {
      "image/png": "[encoded data removed]",
      "text/plain": [
       "<Figure size 1080x720 with 1 Axes>"
      ]
     },
     "metadata": {},
     "output_type": "display_data"
    },
    {
     "data": {
      "text/plain": [
       "<Figure size 576x396 with 0 Axes>"
      ]
     },
     "metadata": {},
     "output_type": "display_data"
    }
   ],
   "source": [
    "plt.axes\n",
    "plt.figure(figsize=(15,10))\n",
    "plt.title('Appeals Map', size=24)\n",
    "plt.rc('font', size=24)\n",
    "\n",
    "dfscat = df[df['newDecision'] == 'approved']\n",
    "plt.scatter(dfscat['lng'], dfscat['lat'], marker = 'o', label = 'appoved', s=40, alpha=0.4, c='green')\n",
    "\n",
    "dfscat = df[df['newDecision'] == 'denied']\n",
    "plt.scatter(dfscat['lng'], dfscat['lat'], marker = 'o', label = 'denied', s=50, alpha=0.3, c='red')\n",
    "\n",
    "\n",
    "plt.grid('on')\n",
    "plt.legend()\n",
    "plt.rc('font', size=18)\n",
    "plt.show()\n",
    "\n",
    "    \n",
    "plt.savefig('images/appeal_map.png',bbox_inches='tight')\n"
   ]
  },
  {
   "cell_type": "code",
   "execution_count": null,
   "metadata": {},
   "outputs": [],
   "source": [
    "#Distance from CC\n",
    "df['fromCC'].hist()"
   ]
  },
  {
   "cell_type": "code",
   "execution_count": null,
   "metadata": {},
   "outputs": [],
   "source": [
    "#Longtitude from CC\n",
    "df['lngfromCC'].hist()"
   ]
  },
  {
   "cell_type": "code",
   "execution_count": null,
   "metadata": {},
   "outputs": [],
   "source": [
    "#Latitude from CC\n",
    "df['latfromCC'].hist()"
   ]
  },
  {
   "cell_type": "markdown",
   "metadata": {},
   "source": [
    "### myMetrics Function for model testing"
   ]
  },
  {
   "cell_type": "code",
   "execution_count": null,
   "metadata": {},
   "outputs": [],
   "source": [
    "# Create metrics function to check metrics for different models\n",
    "\n",
    "def myMetrics(model=None, features=None, X_test=None, y_true_test=None, X_train=None, y_true_train=None):\n",
    "    \n",
    "    hypertablerow={}\n",
    "    hypertablerow['model']=model.__class__.__name__\n",
    "    hypertablerow['features']=features\n",
    "\n",
    "    X_train_temp = X_train[features]\n",
    "    X_test_temp = X_test[features]  \n",
    "    print(X_train_temp.columns)\n",
    "    model.fit(X_train_temp,y_train)\n",
    "    \n",
    "    y_pred_test = model.predict(X_test_temp)\n",
    "    y_pred_train = model.predict(X_train_temp)\n",
    "\n",
    "\n",
    "    # Accuracy\n",
    "    hypertablerow['accuracy_test'] = metrics.accuracy_score(y_true=y_true_test, y_pred=y_pred_test)\n",
    "    print('accuracy_test', hypertablerow['accuracy_test'])\n",
    "    hypertablerow['accuracy_train'] = metrics.accuracy_score(y_true=y_true_train, y_pred=y_pred_train)\n",
    "    print('accuracy_train', hypertablerow['accuracy_train'])\n",
    "    # Precision\n",
    "    hypertablerow['precision_test'] = metrics.precision_score(y_true=y_true_test, y_pred=y_pred_test, average = 'weighted')\n",
    "    #print('precision_test', hypertablerow['precision_test'])\n",
    "    hypertablerow['precision_train'] = metrics.precision_score(y_true=y_true_train, y_pred=y_pred_train, average = 'weighted')\n",
    "    #print('precision_train', hypertablerow['precision_train'])\n",
    "    # Recall\n",
    "    hypertablerow['recall_test'] = metrics.recall_score(y_true=y_true_test, y_pred=y_pred_test, average = 'weighted')\n",
    "    #print('recall_test', hypertablerow['recall_test'])\n",
    "    hypertablerow['recall_train'] = metrics.recall_score(y_true=y_true_train, y_pred=y_pred_train, average = 'weighted')\n",
    "    #print('recall_train', hypertablerow['recall_train'])\n",
    "\n",
    "    hypertable.append(hypertablerow)\n",
    "    pd.Series(hypertablerow)\n",
    "    return hypertablerow"
   ]
  },
  {
   "cell_type": "code",
   "execution_count": null,
   "metadata": {},
   "outputs": [],
   "source": [
    "# Create \"dummy\" variables for systemofrecord columns\n",
    "df = pd.concat([df, pd.get_dummies(df['systemofrecord'])], axis=1)\n",
    "df.columns"
   ]
  },
  {
   "cell_type": "code",
   "execution_count": null,
   "metadata": {},
   "outputs": [],
   "source": [
    "# Declare an explanatory variable, and assign some data to it \n",
    "#X = df[['ECLIPSE', 'HANSEN']]\n",
    "X = df.drop(['newDecision'], axis=1)\n",
    "\n",
    "# Declare a response variable, the decision column of the df \n",
    "y = df['newDecision'] "
   ]
  },
  {
   "cell_type": "code",
   "execution_count": null,
   "metadata": {},
   "outputs": [],
   "source": [
    "# import the preprocessing package\n",
    "from sklearn import preprocessing\n",
    "\n",
    "# Call the train_test_split() function\n",
    "# Declare four variables, X_train, X_test, y_train and y_test separated by commas \n",
    "X_train, X_test, y_train, y_test = train_test_split(X, y, test_size=0.25, random_state=1)"
   ]
  },
  {
   "cell_type": "code",
   "execution_count": null,
   "metadata": {},
   "outputs": [],
   "source": [
    "from sklearn import svm\n",
    "model = svm.LinearSVC() # Linear Kernel\n",
    "features=['ECLIPSE', 'HANSEN']\n",
    "hypertablerow = myMetrics(model=model,features=features,X_train=X_train,y_true_train=y_train,X_test=X_test,y_true_test=y_test)"
   ]
  },
  {
   "cell_type": "code",
   "execution_count": null,
   "metadata": {},
   "outputs": [],
   "source": [
    "model = svm.LinearSVC() # Linear Kernel\n",
    "features=['ECLIPSE', 'HANSEN','fromCC', 'latfromCC', 'lngfromCC']\n",
    "hypertablerow = myMetrics(model=model,features=features,X_train=X_train,y_true_train=y_train,X_test=X_test,y_true_test=y_test)"
   ]
  },
  {
   "cell_type": "code",
   "execution_count": null,
   "metadata": {},
   "outputs": [],
   "source": [
    "model = svm.LinearSVC() # Linear Kernel\n",
    "features=['ECLIPSE', 'HANSEN','fromCC', 'latfromCC', 'lngfromCC']\n",
    "hypertablerow = myMetrics(model=model,features=features,X_train=X_train,y_true_train=y_train,X_test=X_test,y_true_test=y_test)"
   ]
  },
  {
   "cell_type": "code",
   "execution_count": null,
   "metadata": {},
   "outputs": [],
   "source": [
    "model = svm.LinearSVC() # Linear Kernel\n",
    "features=['ECLIPSE','fromCC', 'latfromCC', 'lngfromCC']\n",
    "hypertablerow = myMetrics(model=model,features=features,X_train=X_train,y_true_train=y_train,X_test=X_test,y_true_test=y_test)"
   ]
  },
  {
   "cell_type": "code",
   "execution_count": null,
   "metadata": {
    "scrolled": true
   },
   "outputs": [],
   "source": [
    "model = svm.LinearSVC() # Linear Kernel\n",
    "features=['ECLIPSE','fromCC', 'latfromCC', 'lngfromCC', 'censustract']\n",
    "hypertablerow = myMetrics(model=model,features=features,X_train=X_train,y_true_train=y_train,X_test=X_test,y_true_test=y_test)"
   ]
  },
  {
   "cell_type": "code",
   "execution_count": null,
   "metadata": {},
   "outputs": [],
   "source": [
    "model = svm.LinearSVC() # Linear Kernel\n",
    "features=['ECLIPSE','fromCC', 'latfromCC', 'lngfromCC', 'censustract']\n",
    "#features=['ECLIPSE','fromCC', 'latfromCC', 'lngfromCC']\n",
    "\n",
    "#hypertablerow={}\n",
    "#hypertablerow['model']=model.__class__.__name__\n",
    "#hypertablerow['features']=features\n",
    "\n",
    "X_train_temp = X_train[features]\n",
    "X_test_temp = X_test[features]  \n",
    "print(X_train_temp.columns)\n",
    "model.fit(X_train_temp,y_train)\n",
    "    \n",
    "y_pred_test = model.predict(X_test_temp)\n",
    "y_pred_train = model.predict(X_train_temp)\n",
    "y_true_test = y_test\n",
    "y_true_train = y_train\n",
    "\n",
    "# Accuracy\n",
    "hypertablerow['accuracy_test'] = metrics.accuracy_score(y_true=y_true_test, y_pred=y_pred_test)\n",
    "print('accuracy_test', hypertablerow['accuracy_test'])\n",
    "hypertablerow['accuracy_train'] = metrics.accuracy_score(y_true=y_true_train, y_pred=y_pred_train)\n",
    "print('accuracy_train', hypertablerow['accuracy_train'])\n",
    "\"\"\"\n",
    "# Precision\n",
    "hypertablerow['precision_test'] = metrics.precision_score(y_true_test, y_pred_test, average = 'weighted')\n",
    "#print('precision_test', hypertablerow['precision_test'])\n",
    "hypertablerow['precision_train'] = metrics.precision_score(y_true_train, y_pred_train, average = 'weighted')\n",
    "#print('precision_train', hypertablerow['precision_train'])\n",
    "# Recall\n",
    "hypertablerow['recall_test'] = metrics.recall_score(y_true_test, y_pred_test, average = 'weighted')\n",
    "#print('recall_test', hypertablerow['recall_test'])\n",
    "hypertablerow['recall_train'] = metrics.recall_score(y_true_train, y_pred_train, average = 'weighted')\n",
    "#print('recall_train', hypertablerow['recall_train'])\n",
    "\n",
    "hypertable.append(hypertablerow)\n",
    "    \n",
    "hypertablerow = myMetrics(model=model,features=features,X_train=X_train,y_true_train=y_train,X_test=X_test,y_true_test=y_test)\n",
    "\"\"\""
   ]
  },
  {
   "cell_type": "code",
   "execution_count": null,
   "metadata": {},
   "outputs": [],
   "source": [
    "model = svm.SVC(kernel='linear') # Linear Kernel\n",
    "features=['ECLIPSE', 'HANSEN','fromCC', 'latfromCC', 'lngfromCC']\n",
    "hypertablerow = myMetrics(model=model,features=features,X_train=X_train,y_true_train=y_train,X_test=X_test,y_true_test=y_test)"
   ]
  },
  {
   "cell_type": "code",
   "execution_count": null,
   "metadata": {},
   "outputs": [],
   "source": [
    "model = svm.SVC(kernel='poly') # Linear Kernel\n",
    "features=['ECLIPSE', 'HANSEN','fromCC', 'latfromCC', 'lngfromCC']\n",
    "hypertablerow = myMetrics(model=model,features=features,X_train=X_train,y_true_train=y_train,X_test=X_test,y_true_test=y_test)"
   ]
  },
  {
   "cell_type": "code",
   "execution_count": null,
   "metadata": {},
   "outputs": [],
   "source": [
    "model = svm.SVC(kernel='sigmoid') # Linear Kernel\n",
    "features=['ECLIPSE', 'HANSEN','fromCC', 'latfromCC', 'lngfromCC']\n",
    "hypertablerow = myMetrics(model=model,features=features,X_train=X_train,y_true_train=y_train,X_test=X_test,y_true_test=y_test)"
   ]
  },
  {
   "cell_type": "code",
   "execution_count": null,
   "metadata": {},
   "outputs": [],
   "source": [
    "model = svm.SVC(kernel='rbf') # Linear Kernel\n",
    "features=['ECLIPSE', 'HANSEN','fromCC', 'latfromCC', 'lngfromCC']\n",
    "hypertablerow = myMetrics(model=model,features=features,X_train=X_train,y_true_train=y_train,X_test=X_test,y_true_test=y_test)"
   ]
  },
  {
   "cell_type": "code",
   "execution_count": null,
   "metadata": {},
   "outputs": [],
   "source": [
    "from sklearn.neighbors import KNeighborsClassifier\n",
    "model = KNeighborsClassifier(n_neighbors=10)\n",
    "features=['ECLIPSE', 'HANSEN','fromCC', 'latfromCC', 'lngfromCC']\n",
    "hypertablerow = myMetrics(model=model,features=features,X_train=X_train,y_true_train=y_train,X_test=X_test,y_true_test=y_test)"
   ]
  },
  {
   "cell_type": "code",
   "execution_count": null,
   "metadata": {},
   "outputs": [],
   "source": [
    "from sklearn.naive_bayes import GaussianNB\n",
    "gnb = GaussianNB()\n",
    "features=['ECLIPSE', 'HANSEN','fromCC', 'latfromCC', 'lngfromCC']\n",
    "hypertablerow = myMetrics(model=model,features=features,X_train=X_train,y_true_train=y_train,X_test=X_test,y_true_test=y_test)"
   ]
  },
  {
   "cell_type": "markdown",
   "metadata": {},
   "source": [
    "..."
   ]
  },
  {
   "cell_type": "code",
   "execution_count": null,
   "metadata": {},
   "outputs": [],
   "source": [
    "pd.DataFrame(hypertable).to_csv('hypertable.csv')\n",
    "dfhypertable=pd.DataFrame(hypertable).sort_values('accuracy_test')\n",
    "pd.set_option('display.max_colwidth', -1)\n",
    "dfhypertable.sort_values('accuracy_test',  ascending=False)"
   ]
  }
 ],
 "metadata": {
  "kernelspec": {
   "display_name": "Python 3",
   "language": "python",
   "name": "python3"
  },
  "language_info": {
   "codemirror_mode": {
    "name": "ipython",
    "version": 3
   },
   "file_extension": ".py",
   "mimetype": "text/x-python",
   "name": "python",
   "nbconvert_exporter": "python",
   "pygments_lexer": "ipython3",
   "version": "3.7.6"
  }
 },
 "nbformat": 4,
 "nbformat_minor": 4
}
